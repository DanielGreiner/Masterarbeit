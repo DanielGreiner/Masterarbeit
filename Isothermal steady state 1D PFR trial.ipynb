{
  "cells": [
    {
      "cell_type": "markdown",
      "metadata": {
        "id": "view-in-github",
        "colab_type": "text"
      },
      "source": [
        "<a href=\"https://colab.research.google.com/github/DanielGreiner/Masterarbeit/blob/main/Isothermal%20steady%20state%201D%20PFR%20trial.ipynb\" target=\"_parent\"><img src=\"https://colab.research.google.com/assets/colab-badge.svg\" alt=\"Open In Colab\"/></a>"
      ]
    },
    {
      "cell_type": "markdown",
      "metadata": {
        "id": "FKUQE4ZPdoXO"
      },
      "source": [
        "Text"
      ]
    },
    {
      "cell_type": "markdown",
      "metadata": {
        "id": "lKN3jiBsdvnU"
      },
      "source": [
        "# Introcode\n",
        "\n"
      ]
    },
    {
      "cell_type": "markdown",
      "metadata": {
        "id": "ni76wGgCd-5X"
      },
      "source": [
        "# Load libraries"
      ]
    },
    {
      "cell_type": "code",
      "execution_count": 11,
      "metadata": {
        "cellView": "form",
        "id": "COex01B2eGmp"
      },
      "outputs": [],
      "source": [
        "# @title import libraries\n",
        "import tensorflow as tf\n",
        "import numpy as np\n",
        "import pandas as pd\n",
        "import matplotlib.pyplot as plt\n",
        "import torch as to\n",
        "import scipy as sc"
      ]
    },
    {
      "cell_type": "code",
      "execution_count": 12,
      "metadata": {
        "cellView": "form",
        "colab": {
          "base_uri": "https://localhost:8080/"
        },
        "id": "QHMm8oXoO_jf",
        "outputId": "420abbdf-ce81-4597-faaf-2e79330fabb6"
      },
      "outputs": [
        {
          "output_type": "stream",
          "name": "stdout",
          "text": [
            "tensorflow:2.13.0\n",
            "numpy:1.23.5\n",
            "pandas:1.5.3\n",
            "torch:2.0.1+cu118\n",
            "scipy:1.10.1\n"
          ]
        }
      ],
      "source": [
        "# @title check library versions\n",
        "print(\"tensorflow:\" + str(tf.__version__))\n",
        "print(\"numpy:\" + str(np.__version__))\n",
        "print(\"pandas:\" + str(pd.__version__))\n",
        "print(\"torch:\" + str(to.__version__))\n",
        "print(\"scipy:\" + str(sc.__version__))"
      ]
    },
    {
      "cell_type": "markdown",
      "metadata": {
        "id": "1EaGuJMCeMJ1"
      },
      "source": [
        "# Code Setup"
      ]
    },
    {
      "cell_type": "code",
      "execution_count": 29,
      "metadata": {
        "id": "KQh_vMv_PPaB",
        "colab": {
          "base_uri": "https://localhost:8080/"
        },
        "outputId": "9816287d-ad5e-406f-c699-8bcef4b4dbfa"
      },
      "outputs": [
        {
          "output_type": "stream",
          "name": "stdout",
          "text": [
            "1000\n",
            "0.015\n"
          ]
        }
      ],
      "source": [
        "# @title Konstanten laden\n",
        "k = 1\n",
        "u = 1.500\n",
        "A = 3*10**-3\n",
        "Vges = 15\n",
        "steps = 1000\n",
        "dV = Vges/steps\n",
        "print (steps)\n",
        "print (dV)"
      ]
    },
    {
      "cell_type": "code",
      "execution_count": 37,
      "metadata": {
        "id": "qz7WCivCPTGQ"
      },
      "outputs": [],
      "source": [
        "# @title Startwerte\n",
        "t0 = 0\n",
        "z0 = 0\n",
        "V0 = 0\n",
        "T0 = 298\n",
        "cA0 = 2"
      ]
    },
    {
      "cell_type": "markdown",
      "metadata": {
        "id": "iUHMY50oLtj1"
      },
      "source": [
        "# PFTR Isotherm Stationär\n",
        "\n",
        "ODE: $\\frac{dc_A}{dz}$=-$\\frac{1}{u_0}$⋅k⋅$c_A$\n",
        "\n",
        "$\\frac{dc_A}{dV}$=-$\\frac{1}{V.}$⋅k⋅$c_A$"
      ]
    },
    {
      "cell_type": "code",
      "execution_count": 50,
      "metadata": {
        "id": "gvXI4bty70Ft",
        "colab": {
          "base_uri": "https://localhost:8080/",
          "height": 470
        },
        "outputId": "6a7bcb2b-e3bd-4731-c0fb-6bfcdea54219"
      },
      "outputs": [
        {
          "output_type": "stream",
          "name": "stdout",
          "text": [
            "cA =5.460853091792784e-07\n",
            "V =15.00000000000019\n"
          ]
        },
        {
          "output_type": "display_data",
          "data": {
            "text/plain": [
              "<Figure size 640x480 with 1 Axes>"
            ],
            "image/png": "[encoded data removed]"
          },
          "metadata": {}
        }
      ],
      "source": [
        "# @title Euler Verfahren manuell\n",
        "#def Euler(ca0, V0, steps)\n",
        "V = V0\n",
        "cA = cA0\n",
        "cAtemp = cA0\n",
        "res = np.zeros((steps, 2))\n",
        "\n",
        "for i in range(steps):\n",
        "  cA = cAtemp - k*cAtemp*dV\n",
        "  cAtemp = cA\n",
        "  V = V + dV\n",
        "  res[i,0] = V\n",
        "  res[i,1] = cA\n",
        "\n",
        "plt.plot(res[:,0],res[:,1])\n",
        "plt.axis((0, 15, 0, 2))\n",
        "print(\"cA =\"+ str(cA))\n",
        "print(\"V =\"+ str(V))\n"
      ]
    },
    {
      "cell_type": "code",
      "source": [
        "# @title Berechnung mittels Euler\n"
      ],
      "metadata": {
        "id": "KqZ5oMtCCgai"
      },
      "execution_count": null,
      "outputs": []
    },
    {
      "cell_type": "code",
      "source": [
        "# @title Berechnung mittels ODE-Solver"
      ],
      "metadata": {
        "id": "MuLZv7SJClps"
      },
      "execution_count": null,
      "outputs": []
    }
  ],
  "metadata": {
    "colab": {
      "provenance": [],
      "authorship_tag": "ABX9TyOgU+QSJMqaSw3c5iAgypMF",
      "include_colab_link": true
    },
    "kernelspec": {
      "display_name": "Python 3",
      "name": "python3"
    },
    "language_info": {
      "name": "python"
    }
  },
  "nbformat": 4,
  "nbformat_minor": 0
}