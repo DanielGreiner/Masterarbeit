{
  "nbformat": 4,
  "nbformat_minor": 0,
  "metadata": {
    "colab": {
      "provenance": [],
      "collapsed_sections": [
        "Vyi1Jj1bEbac",
        "Pdz6b2tiKtD7"
      ],
      "mount_file_id": "1hI6Ikqx4AAc_WTRnTWf47uTDmH1NzDg-",
      "authorship_tag": "ABX9TyO61Obi/CI3TLpS3pUQ6CpA",
      "include_colab_link": true
    },
    "kernelspec": {
      "name": "python3",
      "display_name": "Python 3"
    },
    "language_info": {
      "name": "python"
    }
  },
  "cells": [
    {
      "cell_type": "markdown",
      "metadata": {
        "id": "view-in-github",
        "colab_type": "text"
      },
      "source": [
        "<a href=\"https://colab.research.google.com/github/DanielGreiner/Masterarbeit/blob/main/Berty_calcs.ipynb\" target=\"_parent\"><img src=\"https://colab.research.google.com/assets/colab-badge.svg\" alt=\"Open In Colab\"/></a>"
      ]
    },
    {
      "cell_type": "markdown",
      "source": [
        "# Startup"
      ],
      "metadata": {
        "id": "Vyi1Jj1bEbac"
      }
    },
    {
      "cell_type": "code",
      "execution_count": 1,
      "metadata": {
        "cellView": "form",
        "id": "vBij9Z21ENpa"
      },
      "outputs": [],
      "source": [
        "#@title import libraries\n",
        "\n",
        "import numpy as np\n",
        "import pandas as pd\n",
        "import pprint as pp"
      ]
    },
    {
      "cell_type": "code",
      "source": [
        "#@title global variables\n",
        "\n",
        "dens_cat = 0.91 # g/cm^3"
      ],
      "metadata": {
        "cellView": "form",
        "id": "FPkYFuDwExiA"
      },
      "execution_count": 2,
      "outputs": []
    },
    {
      "cell_type": "markdown",
      "source": [
        "# Berty"
      ],
      "metadata": {
        "id": "rPMKFXCOzweb"
      }
    },
    {
      "cell_type": "markdown",
      "source": [
        "## Berty Setup"
      ],
      "metadata": {
        "id": "Pdz6b2tiKtD7"
      }
    },
    {
      "cell_type": "code",
      "source": [
        "d_R_berty = 0.01                    # m\n",
        "r_R_berty = d_R_berty/2\n",
        "A_R_berty = r_R_berty**2*np.pi      # m^2\n",
        "L_R_berty = 0.1                     # m\n",
        "V_R_berty = L_R_berty * A_R_berty   # m^3"
      ],
      "metadata": {
        "id": "-bXdm5yczx-l"
      },
      "execution_count": 3,
      "outputs": []
    },
    {
      "cell_type": "code",
      "source": [
        "V_dot_lab_sim_gas_vel = 11.62       # mlN/min\n",
        "V_dot_demo = 1800*273/423           # ml/min\n",
        "gas_vel = 0.00382                   # m/s"
      ],
      "metadata": {
        "id": "jMmXWkKRWgDp"
      },
      "execution_count": 4,
      "outputs": []
    },
    {
      "cell_type": "code",
      "source": [
        "M_MeOH = 32.04                      # g/mol\n",
        "M_H2O = 18.01                       # g/mol\n",
        "Molar_volume_ideal_gas = 22414      # mlN/mol\n",
        "\n",
        "total_1to1_flow_rate = 0.08/60      # mol/min\n",
        "total_reactant_vol_flow_rate = total_1to1_flow_rate * Molar_volume_ideal_gas    # mlN/min\n",
        "\n",
        "\n",
        "V_dot_N_min = 30\n",
        "V_dot_N_min_plant = 18                    # mlN/min\n",
        "total_liquid_flow_rate = V_dot_N_min + total_reactant_vol_flow_rate             # mlN/min\n",
        "V_ratio_N = V_dot_N_min / total_liquid_flow_rate                                # 60% nitrogen, 40% methanol/water mixture by volumetric flowrates\n",
        "V_dot_min = V_dot_N_min/V_ratio_N\n",
        "\n",
        "total_liquid_flow_rate_min = V_dot_N_min_plant / V_ratio_N\n",
        "\n",
        "safety = 1.2\n",
        "\n",
        "total_reactant_liquid_mass = 100   # g\n",
        "total_reaction_time_hr = 24         # h\n",
        "total_reaction_time = total_reaction_time_hr * 60   # min"
      ],
      "metadata": {
        "id": "4EAB4K8ph7Hm"
      },
      "execution_count": 5,
      "outputs": []
    },
    {
      "cell_type": "markdown",
      "source": [
        "## mass finder for methanol water ratios"
      ],
      "metadata": {
        "id": "jNP4eqLpKv4b"
      }
    },
    {
      "cell_type": "code",
      "source": [
        "#@title mass finder function\n",
        "\n",
        "def water_methanol_mass_required (ratio_methanol, ratio_water, V_flow_total):\n",
        "    if V_flow_total < total_liquid_flow_rate_min:\n",
        "        return print('Total flowrate too low. The minimum flow rate value is ' + str(round(total_liquid_flow_rate_min, 0)) + ' mlN/min. Set a higher value.')\n",
        "\n",
        "    total_molar_flowrate_reactants = V_flow_total * (1 - V_ratio_N) / Molar_volume_ideal_gas      # mol / min with a safety of 20% added on top\n",
        "\n",
        "    x_MeOH = ratio_methanol/(ratio_methanol + ratio_water)\n",
        "    x_H2O = 1 - x_MeOH\n",
        "\n",
        "    n_dot_MeOH = total_molar_flowrate_reactants * x_MeOH                                    # mol / min\n",
        "    n_dot_H2O = total_molar_flowrate_reactants * x_H2O                                      # mol / min\n",
        "\n",
        "    mass_flow_MeOH = n_dot_MeOH * M_MeOH                                                    # g / min\n",
        "    mass_MeOH = mass_flow_MeOH * total_reaction_time * safety                               # g\n",
        "\n",
        "    mass_flow_H2O = n_dot_H2O * M_H2O                                                       # g / min\n",
        "    mass_H2O = mass_flow_H2O * total_reaction_time * safety                                 # g\n",
        "\n",
        "    total_reactant_mass = mass_MeOH + mass_H2O                                              # g\n",
        "\n",
        "    if total_reactant_mass > total_reactant_liquid_mass:\n",
        "        return print ('The total reactant mass is greater than the provided liquid mass. The liquid will run out over the experimental time window. Increase maximum total liquid mass or decrease experimental time.')\n",
        "\n",
        "    w_MeOH = mass_MeOH / total_reactant_mass                                                # mass % in reactant phase\n",
        "    w_H2O = 1 - w_MeOH\n",
        "\n",
        "    max_mass_MeOH = total_reactant_liquid_mass * w_MeOH\n",
        "    max_mass_H2O = total_reactant_liquid_mass * w_H2O\n",
        "\n",
        "    total_mass_flowrate = (mass_flow_MeOH + mass_flow_H2O) * 60\n",
        "\n",
        "    if min_mass == True:\n",
        "        return print('The mass methanol required is: ' + str(round(mass_MeOH, 2)) + 'g.\\nThe mass water required is: '\n",
        "                     + str(round(mass_H2O, 2)) + 'g.\\nThe total mass flow rate of the reactant liquid is: ' + str(round(total_mass_flowrate, 3)) + ' g/h.')\n",
        "    else:\n",
        "        return print('The mass methanol required is: ' + str(round(max_mass_MeOH, 2)) + 'g.\\nThe mass water required is: '\n",
        "                     + str(round(max_mass_H2O, 2)) + 'g.\\nThe total mass flow rate of the reactant liquid is: ' + str(round(total_mass_flowrate, 3)) + ' g/h.')"
      ],
      "metadata": {
        "id": "zequFgdri4kN",
        "cellView": "form"
      },
      "execution_count": 6,
      "outputs": []
    },
    {
      "cell_type": "markdown",
      "source": [
        "**water_methanol_mass_required**(ratio_methanol, ratio_water, V_flow_total [in mlN/min]) \\\\\n",
        "Do you want to use the maximum mass of 1kg? --> min_mass = False \\\\\n",
        "Do you want to use the minimum necessary mass for a given flow rate? --> min_mass = True \\\\\n",
        "(safety of + 20%)"
      ],
      "metadata": {
        "id": "KIIiLRi3I9Ef"
      }
    },
    {
      "cell_type": "code",
      "source": [
        "min_mass = False\n",
        "water_methanol_mass_required(1, 4, 40)"
      ],
      "metadata": {
        "colab": {
          "base_uri": "https://localhost:8080/"
        },
        "id": "4s1JiQRCEHDB",
        "outputId": "c3924161-c382-4ae2-86e9-ed2ce9538f33"
      },
      "execution_count": 7,
      "outputs": [
        {
          "output_type": "stream",
          "name": "stdout",
          "text": [
            "The mass methanol required is: 30.78g.\n",
            "The mass water required is: 69.22g.\n",
            "The total mass flow rate of the reactant liquid is: 1.112 g/h.\n"
          ]
        }
      ]
    },
    {
      "cell_type": "code",
      "source": [
        "total_liquid_flow_rate_min"
      ],
      "metadata": {
        "colab": {
          "base_uri": "https://localhost:8080/"
        },
        "id": "Mo8j-gYM43KQ",
        "outputId": "1dbdb6ed-3f8e-4aa6-e97b-21febc56f0f6"
      },
      "execution_count": 8,
      "outputs": [
        {
          "output_type": "execute_result",
          "data": {
            "text/plain": [
              "35.931200000000004"
            ]
          },
          "metadata": {},
          "execution_count": 8
        }
      ]
    },
    {
      "cell_type": "markdown",
      "source": [
        "Set partial pressure min to 0.15/0.15/0.7 for MeOH/H2O/N2 \\\\\n",
        "increase MeOH or Water partial pressure \\\\\n",
        "Nitrogen min = 20 mlN/min \\\\\n",
        "Set flowrate to X. Lowest nitrogen % = 20/X \\\\\n",
        "-> lowest flowrate is going to be 80 mlN/min \\\\\n",
        "rest of the liquid is reactants at 1:4 \\\\\n",
        "inputs = ratio methanol:water \\\\\n",
        "outputs: nitrogen flowrate, liquid flowrate in g/h \\\\\n",
        "save it as as dict of all flowrates, repeat for all \\\\\n",
        "dont change the 1 -> 0.15 ratio for water/methanol \\\\\n",
        "RTD monday if heating is ready\n"
      ],
      "metadata": {
        "id": "LLRbycqtyUK3"
      }
    },
    {
      "cell_type": "code",
      "source": [
        "#@title mass flow finder function\n",
        "\n",
        "def water_methanol_mass_flow_rate (ratio_methanol, ratio_water, V_flow_total, N_ratio_frac):\n",
        "    if V_flow_total < total_liquid_flow_rate_min:\n",
        "        return print('Total flowrate too low. The minimum flow rate value is ' + str(round(total_liquid_flow_rate_min, 0)) + ' mlN/min. Set a higher value.')\n",
        "\n",
        "    total_molar_flowrate_reactants = V_flow_total * (1 - N_ratio_frac) / Molar_volume_ideal_gas      # mol / min with a safety of 20% added on top\n",
        "\n",
        "    x_MeOH = ratio_methanol/(ratio_methanol + ratio_water)\n",
        "    x_H2O = 1 - x_MeOH\n",
        "\n",
        "    n_dot_MeOH = total_molar_flowrate_reactants * x_MeOH                                    # mol / min\n",
        "    n_dot_H2O = total_molar_flowrate_reactants * x_H2O                                      # mol / min\n",
        "\n",
        "    mass_flow_MeOH = n_dot_MeOH * M_MeOH                                                    # g / min\n",
        "\n",
        "    mass_flow_H2O = n_dot_H2O * M_H2O                                                       # g / min\n",
        "\n",
        "    total_mass_flowrate = (mass_flow_MeOH + mass_flow_H2O) * 60\n",
        "\n",
        "    return round(total_mass_flowrate, 3)"
      ],
      "metadata": {
        "cellView": "form",
        "id": "w5xxYQjST4Ty"
      },
      "execution_count": 9,
      "outputs": []
    },
    {
      "cell_type": "code",
      "source": [
        "#@title populate dict function\n",
        "\n",
        "init_value_reactant = 0.15\n",
        "\n",
        "partial_pressures_init = np.array([init_value_reactant, init_value_reactant, (1 - 2*init_value_reactant)])    # akin to x_i\n",
        "\n",
        "def from_ratio_to_total_ratio(ratio_methanol, ratio_water):\n",
        "\n",
        "    ratio_methanol_end = round(partial_pressures_init[0] * ratio_methanol, 2)\n",
        "    ratio_water_end = round(partial_pressures_init[1] * ratio_water, 2)\n",
        "    ratio_nitrogen_end = round(1 - (ratio_methanol_end + ratio_water_end), 2)\n",
        "\n",
        "    ratio_array = [ratio_methanol_end, ratio_water_end, ratio_nitrogen_end]\n",
        "\n",
        "    return ratio_array\n",
        "\n",
        "def flow_rate_calc(flow_rate):\n",
        "\n",
        "    ratio_cases = {'1:1', '2:1', '1:2', '1:3', '1:4'}\n",
        "\n",
        "    flow_rate_dict = {_key : [from_ratio_to_total_ratio(int(_key[0]), int(_key[-1])),\n",
        "                        [str(i * flow_rate) + ' mlN/min' for i in from_ratio_to_total_ratio(int(_key[0]), int(_key[-1]))],\n",
        "                        str(water_methanol_mass_flow_rate(int(_key[0]), int(_key[-1]), flow_rate, from_ratio_to_total_ratio(int(_key[0]), int(_key[-1]))[-1])) + ' g/hr']\n",
        "                        for _key in ratio_cases}\n",
        "\n",
        "    return flow_rate_dict"
      ],
      "metadata": {
        "id": "7XXSNSa_GxFv"
      },
      "execution_count": 10,
      "outputs": []
    },
    {
      "cell_type": "code",
      "source": [
        "#@title Create dictionary of flow rates for nitrogen. The goal is to keep nitrogen as low as possible\n",
        "\n",
        "flowrate_array_eligible = np.array([80, 160, 250])                                      # volumetric flow rate in mlN/min\n",
        "\n",
        "dict_flow_rates = {_key : flow_rate_calc(_key) for _key in flowrate_array_eligible}    # create filled, keyed dictionary\n"
      ],
      "metadata": {
        "id": "E8m6MHQSDYGA"
      },
      "execution_count": 11,
      "outputs": []
    },
    {
      "cell_type": "code",
      "source": [
        "pp.pprint(dict_flow_rates)"
      ],
      "metadata": {
        "colab": {
          "base_uri": "https://localhost:8080/"
        },
        "id": "8fkbwxPfE6be",
        "outputId": "6442c704-5ac1-43a0-b440-75b9caa9bbf3"
      },
      "execution_count": 12,
      "outputs": [
        {
          "output_type": "stream",
          "name": "stdout",
          "text": [
            "{80: {'1:1': [[0.15, 0.15, 0.7],\n",
            "              ['12.0 mlN/min', '12.0 mlN/min', '56.0 mlN/min'],\n",
            "              '1.608 g/hr'],\n",
            "      '1:2': [[0.15, 0.3, 0.55],\n",
            "              ['12.0 mlN/min', '24.0 mlN/min', '44.0 mlN/min'],\n",
            "              '2.186 g/hr'],\n",
            "      '1:3': [[0.15, 0.45, 0.4],\n",
            "              ['12.0 mlN/min', '36.0 mlN/min', '32.0 mlN/min'],\n",
            "              '2.765 g/hr'],\n",
            "      '1:4': [[0.15, 0.6, 0.25],\n",
            "              ['12.0 mlN/min', '48.0 mlN/min', '20.0 mlN/min'],\n",
            "              '3.343 g/hr'],\n",
            "      '2:1': [[0.3, 0.15, 0.55],\n",
            "              ['24.0 mlN/min', '12.0 mlN/min', '44.0 mlN/min'],\n",
            "              '2.637 g/hr']},\n",
            " 160: {'1:1': [[0.15, 0.15, 0.7],\n",
            "               ['24.0 mlN/min', '24.0 mlN/min', '112.0 mlN/min'],\n",
            "               '3.215 g/hr'],\n",
            "       '1:2': [[0.15, 0.3, 0.55],\n",
            "               ['24.0 mlN/min', '48.0 mlN/min', '88.0 mlN/min'],\n",
            "               '4.373 g/hr'],\n",
            "       '1:3': [[0.15, 0.45, 0.4],\n",
            "               ['24.0 mlN/min', '72.0 mlN/min', '64.0 mlN/min'],\n",
            "               '5.53 g/hr'],\n",
            "       '1:4': [[0.15, 0.6, 0.25],\n",
            "               ['24.0 mlN/min', '96.0 mlN/min', '40.0 mlN/min'],\n",
            "               '6.687 g/hr'],\n",
            "       '2:1': [[0.3, 0.15, 0.55],\n",
            "               ['48.0 mlN/min', '24.0 mlN/min', '88.0 mlN/min'],\n",
            "               '5.274 g/hr']},\n",
            " 250: {'1:1': [[0.15, 0.15, 0.7],\n",
            "               ['37.5 mlN/min', '37.5 mlN/min', '175.0 mlN/min'],\n",
            "               '5.024 g/hr'],\n",
            "       '1:2': [[0.15, 0.3, 0.55],\n",
            "               ['37.5 mlN/min', '75.0 mlN/min', '137.5 mlN/min'],\n",
            "               '6.832 g/hr'],\n",
            "       '1:3': [[0.15, 0.45, 0.4],\n",
            "               ['37.5 mlN/min', '112.5 mlN/min', '100.0 mlN/min'],\n",
            "               '8.64 g/hr'],\n",
            "       '1:4': [[0.15, 0.6, 0.25],\n",
            "               ['37.5 mlN/min', '150.0 mlN/min', '62.5 mlN/min'],\n",
            "               '10.448 g/hr'],\n",
            "       '2:1': [[0.3, 0.15, 0.55],\n",
            "               ['75.0 mlN/min', '37.5 mlN/min', '137.5 mlN/min'],\n",
            "               '8.24 g/hr']}}\n"
          ]
        }
      ]
    }
  ]
}