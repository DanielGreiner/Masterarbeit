{
  "cells": [
    {
      "cell_type": "markdown",
      "metadata": {
        "id": "view-in-github",
        "colab_type": "text"
      },
      "source": [
        "<a href=\"https://colab.research.google.com/github/DanielGreiner/Masterarbeit/blob/main/Isothermal_steady_state_1D_PFR_trial.ipynb\" target=\"_parent\"><img src=\"https://colab.research.google.com/assets/colab-badge.svg\" alt=\"Open In Colab\"/></a>"
      ]
    },
    {
      "cell_type": "markdown",
      "metadata": {
        "id": "FKUQE4ZPdoXO"
      },
      "source": [
        "Text"
      ]
    },
    {
      "cell_type": "markdown",
      "metadata": {
        "id": "lKN3jiBsdvnU"
      },
      "source": [
        "# Introcode\n",
        "\n"
      ]
    },
    {
      "cell_type": "markdown",
      "metadata": {
        "id": "ni76wGgCd-5X"
      },
      "source": [
        "# Load libraries"
      ]
    },
    {
      "cell_type": "code",
      "execution_count": 47,
      "metadata": {
        "cellView": "form",
        "id": "COex01B2eGmp"
      },
      "outputs": [],
      "source": [
        "# @title import libraries\n",
        "import tensorflow as tf\n",
        "import numpy as np\n",
        "import pandas as pd\n",
        "import matplotlib.pyplot as plt\n",
        "#import torch as to\n",
        "from scipy.integrate import odeint"
      ]
    },
    {
      "cell_type": "code",
      "execution_count": 48,
      "metadata": {
        "cellView": "form",
        "colab": {
          "base_uri": "https://localhost:8080/"
        },
        "id": "QHMm8oXoO_jf",
        "outputId": "d17b00c7-9c9a-4897-ce34-2b98220dde19"
      },
      "outputs": [
        {
          "output_type": "stream",
          "name": "stdout",
          "text": [
            "tensorflow:2.13.0\n",
            "numpy:1.23.5\n",
            "pandas:1.5.3\n"
          ]
        }
      ],
      "source": [
        "# @title check library versions\n",
        "print(\"tensorflow:\" + str(tf.__version__))\n",
        "print(\"numpy:\" + str(np.__version__))\n",
        "print(\"pandas:\" + str(pd.__version__))\n",
        "#print(\"torch:\" + str(to.__version__))"
      ]
    },
    {
      "cell_type": "markdown",
      "metadata": {
        "id": "1EaGuJMCeMJ1"
      },
      "source": [
        "# Code Setup"
      ]
    },
    {
      "cell_type": "code",
      "execution_count": 49,
      "metadata": {
        "id": "KQh_vMv_PPaB",
        "colab": {
          "base_uri": "https://localhost:8080/"
        },
        "outputId": "145979f8-c8fa-4fe3-a3e7-8da26a980411",
        "cellView": "form"
      },
      "outputs": [
        {
          "output_type": "stream",
          "name": "stdout",
          "text": [
            "0.0045000000000000005\n",
            "5.0\n",
            "0.030909772123696635\n"
          ]
        }
      ],
      "source": [
        "# @title Konstanten laden\n",
        "k = 1\n",
        "u = 1.500\n",
        "A = 3*10**-3\n",
        "v = u*A\n",
        "Vges = 0.015\n",
        "steps = 1000\n",
        "dV = Vges/steps\n",
        "z = Vges/A\n",
        "r = np.sqrt(A/3.14)\n",
        "# print (steps)\n",
        "# print (dV)\n",
        "print (v)\n",
        "print (z)\n",
        "print (r)"
      ]
    },
    {
      "cell_type": "code",
      "execution_count": 50,
      "metadata": {
        "id": "qz7WCivCPTGQ",
        "cellView": "form"
      },
      "outputs": [],
      "source": [
        "# @title Startwerte\n",
        "t0 = 0\n",
        "z0 = 0\n",
        "V0 = 0\n",
        "T0 = 298\n",
        "cA0 = 2"
      ]
    },
    {
      "cell_type": "markdown",
      "metadata": {
        "id": "iUHMY50oLtj1"
      },
      "source": [
        "# PFTR Isotherm Stationär\n",
        "\n",
        "ODE: $\\frac{dc_A}{dz}$=-$\\frac{1}{u_0}$⋅k⋅$c_A$\n",
        "\n",
        "$\\frac{dc_A}{dV}$=-$\\frac{1}{V.}$⋅k⋅$c_A$"
      ]
    },
    {
      "cell_type": "code",
      "execution_count": 69,
      "metadata": {
        "id": "gvXI4bty70Ft",
        "cellView": "form"
      },
      "outputs": [],
      "source": [
        "# @title Euler Verfahren manuell\n",
        "V = V0\n",
        "cA = cA0\n",
        "cAtemp = cA0\n",
        "res = np.zeros((steps+1, 2))\n",
        "res[0,0] = V0\n",
        "res[0,1] = cA0\n",
        "\n",
        "for i in range(steps):\n",
        "  cA = cAtemp - (1/v)*k*cAtemp*dV\n",
        "  cAtemp = cA\n",
        "  V = V + dV\n",
        "  res[i+1,0] = V*1000\n",
        "  res[i+1,1] = cA\n",
        "\n",
        "#print(\"cA = \"+ str(cA))\n",
        "#print(\"V = \"+ str(V))\n",
        "#print(res)"
      ]
    },
    {
      "cell_type": "code",
      "source": [
        "# @title Berechnung mittels ODE-Solver\n",
        "\n",
        "Vsp = np.arange(0, Vges, dV)\n",
        "\n",
        "def dcdV(C, V):\n",
        "  cA = C\n",
        "  dCdV = -(1/v)*k*C\n",
        "  return dCdV\n",
        "\n",
        "sol = odeint(dcdV, cA0, Vsp)\n",
        "#print(sol[:,0])\n",
        "#print(Vsp)"
      ],
      "metadata": {
        "id": "MuLZv7SJClps",
        "cellView": "form"
      },
      "execution_count": 67,
      "outputs": []
    },
    {
      "cell_type": "markdown",
      "source": [
        "# Vergleich Euler und Solver"
      ],
      "metadata": {
        "id": "W7iMwFLPyrtb"
      }
    },
    {
      "cell_type": "code",
      "source": [
        "# @title Plots\n",
        "\n",
        "plt.plot(res[:,0],res[:,1], 'b', label='Euler')\n",
        "plt.plot(Vsp*1000, sol[:,0], 'r', label='Solver', linestyle='dashed')\n",
        "plt.axis((0, 15, 0, 2))\n",
        "plt.legend(loc='best')\n"
      ],
      "metadata": {
        "colab": {
          "base_uri": "https://localhost:8080/",
          "height": 452
        },
        "id": "2zLOWca9xgmp",
        "outputId": "b125c540-2e67-4b29-99f6-88f90d441691"
      },
      "execution_count": 71,
      "outputs": [
        {
          "output_type": "execute_result",
          "data": {
            "text/plain": [
              "<matplotlib.legend.Legend at 0x7ebc8ae138b0>"
            ]
          },
          "metadata": {},
          "execution_count": 71
        },
        {
          "output_type": "display_data",
          "data": {
            "text/plain": [
              "<Figure size 640x480 with 1 Axes>"
            ],
            "image/png": "[encoded data removed]"
          },
          "metadata": {}
        }
      ]
    }
  ],
  "metadata": {
    "colab": {
      "provenance": [],
      "toc_visible": true,
      "collapsed_sections": [
        "ni76wGgCd-5X",
        "1EaGuJMCeMJ1",
        "iUHMY50oLtj1"
      ],
      "authorship_tag": "ABX9TyOdTn+aUjIy8QJWjBkzgz9h",
      "include_colab_link": true
    },
    "kernelspec": {
      "display_name": "Python 3",
      "name": "python3"
    },
    "language_info": {
      "name": "python"
    }
  },
  "nbformat": 4,
  "nbformat_minor": 0
}