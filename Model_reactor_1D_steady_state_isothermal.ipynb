{
  "nbformat": 4,
  "nbformat_minor": 0,
  "metadata": {
    "colab": {
      "provenance": [],
      "collapsed_sections": [
        "ni76wGgCd-5X"
      ],
      "authorship_tag": "ABX9TyNI4JMjYORA6EP3KJC4Fj7N",
      "include_colab_link": true
    },
    "kernelspec": {
      "name": "python3",
      "display_name": "Python 3"
    },
    "language_info": {
      "name": "python"
    }
  },
  "cells": [
    {
      "cell_type": "markdown",
      "metadata": {
        "id": "view-in-github",
        "colab_type": "text"
      },
      "source": [
        "<a href=\"https://colab.research.google.com/github/DanielGreiner/Masterarbeit/blob/main/Model_reactor_1D_steady_state_isothermal.ipynb\" target=\"_parent\"><img src=\"https://colab.research.google.com/assets/colab-badge.svg\" alt=\"Open In Colab\"/></a>"
      ]
    },
    {
      "cell_type": "markdown",
      "source": [
        "# reactions\n",
        "\n",
        "  \\begin{array}{lll}\n",
        "  \\text{Methanol steam reforming (MSR):}&\\kern 3pc CH_3OH_{(g)}+H_2O_{(g)}\\kern 0.5pc{\\overset{k_{1, eff}}{\\rightleftharpoons}}\\kern 0.5pc 3H_{2(g)}+CO_{2(g)}&\\kern 3pc\\Delta_r H_{m}^{o}= + 49\\enspace \\frac{kJ}{mol} \\\\\n",
        "  \\text{Methanol decomposition (MD):}&\\kern 3pc CH_3OH_{(g)}\\kern 0.5pc {\\overset{k_{2, eff}}{\\rightleftharpoons}}\\kern 0.5pc 2H_{2(g)}+CO_{(g)}&\\kern 3pc\\Delta_r H_{m}^{o}= + 91\\enspace \\frac{kJ}{mol} \\\\\n",
        "  \\end{array}\n"
      ],
      "metadata": {
        "id": "CqJKAvaDjhMS"
      }
    },
    {
      "cell_type": "markdown",
      "metadata": {
        "id": "ni76wGgCd-5X"
      },
      "source": [
        "# load libraries"
      ]
    },
    {
      "cell_type": "code",
      "source": [
        "# @title import libraries\n",
        "import tensorflow as tf\n",
        "import numpy as np\n",
        "import pandas as pd\n",
        "import matplotlib.pyplot as plt\n",
        "#import torch as to\n",
        "from scipy.integrate import odeint"
      ],
      "metadata": {
        "cellView": "form",
        "id": "FF8maq9Biilj"
      },
      "execution_count": 61,
      "outputs": []
    },
    {
      "cell_type": "code",
      "source": [
        "# @title check library versions\n",
        "print(\"tensorflow:\" + str(tf.__version__))\n",
        "print(\"numpy:\" + str(np.__version__))\n",
        "print(\"pandas:\" + str(pd.__version__))\n",
        "#print(\"torch:\" + str(to.__version__))"
      ],
      "metadata": {
        "cellView": "form",
        "id": "ye8T1D2Yijh0",
        "colab": {
          "base_uri": "https://localhost:8080/"
        },
        "outputId": "557706bf-20d3-4a15-ce3d-741759085628"
      },
      "execution_count": 62,
      "outputs": [
        {
          "output_type": "stream",
          "name": "stdout",
          "text": [
            "tensorflow:2.13.0\n",
            "numpy:1.23.5\n",
            "pandas:1.5.3\n"
          ]
        }
      ]
    },
    {
      "cell_type": "markdown",
      "source": [
        "# setup\n",
        "\n",
        "**Indexing in arrays:**\n",
        "\n",
        "\\begin{array}{lllll}\n",
        "H_2 & H_2O & CO & CO_2 & CH_3OH \\\\\n",
        "0 & 1 & 2 & 3 & 4 \\\\\n",
        "\\end{array}"
      ],
      "metadata": {
        "id": "IzTI73zHjPUx"
      }
    },
    {
      "cell_type": "code",
      "source": [
        "# @title reactor constants\n",
        "\n",
        "'''\n",
        "Define all reactor specific constants and calculate size of finite differential for numerical integration\n",
        "'''\n",
        "\n",
        "T = 273 + 150 # reactor temperature [K]\n",
        "\n",
        "L_R = 0.720               # reactor length [m]\n",
        "d_R = 0.133               # reactor diameter [m]\n",
        "r_R = d_R/2               # reactor radius [m]\n",
        "A_R = np.pi*np.power(r_R, 2, dtype=float)                 # reactor crossectional area [a.u.]\n",
        "V_R = A_R*L_R             # reactor volume [m^3]\n",
        "m_cat = 7950 / 1000       # catalyst mass [kg]\n",
        "dens_cat_part = 3.28426/np.power(10, 3, dtype=float)      # catalyst particle density [kg m^-3]\n",
        "dens_cat = m_cat/V_R      # catalyst density [kg m^-3]\n",
        "p_in = 1                  # inlet pressure [bar]\n",
        "n_Flow_total = 8.36812    # inlet molecular flowrate [mol h^-1]\n",
        "x_MeOH_in = 0.5           # inlet molefraction methanol\n",
        "x_H2O_in = 0.5            # inlet molefraction water\n",
        "n_Flow_in_MeOH = x_MeOH_in * n_Flow_total         # inlet molecular flowrate methanol [mol h^-1]\n",
        "n_Flow_in_H2O = x_H2O_in * n_Flow_total           # inlet molecular flowrate water [mol h^-1]\n",
        "VFlow = n_Flow_total/p_in                         # volumetric flowrate [a.u.]\n",
        "m_cat_0 = 0               # starting mass of catalyst [kg] !! typically 0\n",
        "steps = 100              # number of steps in numerical calculation\n",
        "dm_cat = (m_cat-m_cat_0)/steps                            # finite differential for numerical integration\n",
        "m_cat_span = np.arange(m_cat_0, m_cat + dm_cat, dm_cat)   # range of mass segments for integration and plotting\n",
        "R = 8.314                 # universal gas constant [J mol-1 K-1]\n",
        "VFlow = n_Flow_total*R*T/(p_in * np.power(10, 5, dtype = float))\n",
        "\n",
        "# segment to test constants\n",
        "\n",
        "#print(dm_cat)\n",
        "#print(m_cat_span)\n",
        "#print(len(Vspansplit))\n",
        "#print(stepssplit)\n",
        "#print(VFlow)\n",
        "#print(n_Flow_in_MeOH)"
      ],
      "metadata": {
        "id": "yvl0IUgdirdT"
      },
      "execution_count": 63,
      "outputs": []
    },
    {
      "cell_type": "code",
      "source": [
        "# @title Initial concentrations\n",
        "'''\n",
        "setup initial concentrations in an IC array:\n",
        "'''\n",
        "\n",
        "n0_H2 = 0                       # [kmol h^-1]\n",
        "n0_H2O = n_Flow_in_H2O/1000     # [kmol h^-1]\n",
        "n0_CO = 0                       # [kmol h^-1]\n",
        "n0_CO2 = 0                      # [kmol h^-1]\n",
        "n0_MeOH = n_Flow_in_MeOH/1000   # [kmol h^-1]\n",
        "\n",
        "# P0_H2 = 0                     # [bar]\n",
        "# P0_H2O = p_in*x_MeOH_in       # [bar]\n",
        "# P0_CO = 0                     # [bar]\n",
        "# P0_CO2 = 0                    # [bar]\n",
        "# P0_MeOH = p_in*x_H2O_in       # [bar]\n",
        "\n",
        "IC = np.array([n0_H2, n0_H2O, n0_CO, n0_CO2, n0_MeOH, m_cat_0])\n",
        "# IP = np.array([P0_H2, P0_H2O, P0_CO, P0_CO2, P0_MeOH, m_cat_0])\n"
      ],
      "metadata": {
        "id": "NBZz_R58itm5",
        "cellView": "form"
      },
      "execution_count": 64,
      "outputs": []
    },
    {
      "cell_type": "code",
      "source": [
        "# @title kinetics data\n",
        "\n",
        "'''\n",
        "setup kinetics data in arrays, includes S-Kinetics for the MSR and MD reactions respectively\n",
        "includes activation energies, k0 and exponents for rate of reaction calculation using a modified arrhenius equation\n",
        "'''\n",
        "\n",
        "T0 = 150 + 273    # T0 to calculate arrhenius' rate of reaction constant k [K]\n",
        "n = 1             # exponent in arrhenius equation\n",
        "\n",
        "#BiCat\n",
        "#MSR\n",
        "k0_MSR_S = 8.5*np.power(10, -7, dtype=float)       # k0 for arrhenius[kmol kg^-1 h^-1 Pa^-b]\n",
        "EA_MSR_S = 543299             # activation energy [J mol-1]\n",
        "b_MeOH_MSR_S = 0.573          # rate of reaction exponent for methanol\n",
        "b_H2O_MSR_S = 0.050           # rate of reaction exponent for water\n",
        "\n",
        "MSR = np.array(\n",
        "    [k0_MSR_S, EA_MSR_S, b_MeOH_MSR_S, b_H2O_MSR_S]\n",
        ")\n",
        "\n",
        "#MD\n",
        "k0_MD_S = 1.1*np.power(10, -11, dtype=float)        # [kmol kg^-1 h^-1 Pa^-b]\n",
        "EA_MD_S = 132540              # [J mol-1]\n",
        "b_MeOH_MD_S = 1.114\n",
        "\n",
        "MD = np.array (\n",
        "    [k0_MD_S, EA_MD_S, b_MeOH_MD_S]\n",
        ")\n",
        "\n",
        "# array for stoichiometric coefficients\n",
        "ny = np.array(\n",
        "    [[3, -1, 0, 1, -1],\n",
        "    [2, 0, 1, 0, -1]]\n",
        ")\n",
        "\n",
        "\n",
        "# testing block for kinetics arrays\n",
        "\n",
        "\n",
        "#print(MSR)\n",
        "#print(MD)\n",
        "#print(ny)"
      ],
      "metadata": {
        "id": "aW1PKqLbrM5g",
        "cellView": "form"
      },
      "execution_count": 65,
      "outputs": []
    },
    {
      "cell_type": "markdown",
      "source": [
        "# PFTR isothermal and steady state\n",
        "\n",
        "ODE by mass catalyst:\n",
        "\n",
        "$\\frac{d\\dot{n_x}}{dm_{cat}}$=$R_x$"
      ],
      "metadata": {
        "id": "ewE1wq3cizlv"
      }
    },
    {
      "cell_type": "code",
      "source": [
        "# @title reaction functions\n",
        "\n",
        "def ReakFun (P, T):\n",
        "  '''\n",
        "  calculates the rate of reaction for each component for MSR and MD reactions with respect to the selected catalytic system through indexing\n",
        "  '''\n",
        "  # creates new empty concentration array for the components and assigns components to index\n",
        "  dP=np.zeros(len(P))\n",
        "\n",
        "  for j in range(5):\n",
        "    P[j] = P[j] * R * T * 1000 / VFlow\n",
        "\n",
        "  P_H2 = P[0]\n",
        "  P_H2O = P[1]\n",
        "  P_CO = P[2]\n",
        "  P_CO2 = P[3]\n",
        "  P_MeOH = P[4]\n",
        "  m_cat_x = P[5]\n",
        "\n",
        "  # calculates the rate of reaction for each reaction pathway and every catalyst setup\n",
        "  rMSR = MSR[0]*np.power((T/T0), n, dtype=float)*np.exp((-MSR[1]/R)*(1/T-1/T0), dtype=float)\n",
        "  rMSR *= np.power(P_MeOH, MSR[2], dtype=float) * np.power(P_H2O, MSR[3], dtype=float)\n",
        "\n",
        "\n",
        "  rMD = MD[0]*np.power((T/T0), n, dtype=float)*np.exp((-MD[1]/R)*(1/T-1/T0), dtype=float)\n",
        "  rMD *= np.power(P_MeOH, MD[2], dtype=float)\n",
        "\n",
        "  # calculates slope of change for each component and returns the result\n",
        "  dP[0] = (rMSR*ny[0, 0] + rMD*ny[1, 0])\n",
        "  dP[1] = (rMSR*ny[0, 1] + rMD*ny[1, 1])\n",
        "  dP[2] = (rMSR*ny[0, 2] + rMD*ny[1, 2])\n",
        "  dP[3] = (rMSR*ny[0, 3] + rMD*ny[1, 3])\n",
        "  dP[4] = (rMSR*ny[0, 4] + rMD*ny[1, 4])\n",
        "  dP[5] = 1\n",
        "  return dP\n"
      ],
      "metadata": {
        "id": "8Xss_vPRFyMb"
      },
      "execution_count": 66,
      "outputs": []
    },
    {
      "cell_type": "code",
      "source": [
        "# @title euler's method\n",
        "\n",
        "def EulFun (y, T):\n",
        "  '''\n",
        "  uses eulers method to calculate the change in concentration given the slope\n",
        "  '''\n",
        "\n",
        "  # creates empty concentration array and inputs the initial conditions as the first data point\n",
        "  ytemp = np.zeros([len(m_cat_span), len(IC)])\n",
        "  ytemp[0,:] = y\n",
        "\n",
        "  for i in range(steps):\n",
        "    y = np.transpose(ytemp[i, :])\n",
        "    temp = y\n",
        "\n",
        "    dy = ReakFun(y, T)\n",
        "\n",
        "    for j in range(5):\n",
        "        temp[j] = temp[j] / R / T / 1000 * VFlow\n",
        "    ytemp[i+1, :] = temp + dy*dm_cat\n",
        "\n",
        "\n",
        "  for j in range(5):\n",
        "    ytemp[:, j] = ytemp[:, j] * R * T / VFlow / 100\n",
        "  # transposes last set of concentrations into a vector to input as the initial conditions for the reaction function\n",
        "  # finite change calculated and input as IC for next iteration to fill the array\n",
        "  return ytemp\n"
      ],
      "metadata": {
        "id": "xD4VhgB4ivsV"
      },
      "execution_count": 67,
      "outputs": []
    },
    {
      "cell_type": "code",
      "source": [
        "# @title Runge Kutta fourth order function\n",
        "\n",
        "def RK4FunMSRMD (y, T, MSRind, MDind):\n",
        "  '''\n",
        "  similarily to euler's method, the runge kutta method of the fourth order calculates the integral using finite differentials\n",
        "  runge kutta uses 4 slopes to calculate a mean slope along the graph -> more accurate\n",
        "  this function handles the first reactor containing MSR and MD catalyst\n",
        "  '''\n",
        "\n",
        "  # creates empty concentration array and inputs the initial conditions as the first data point\n",
        "  ytemp = np.zeros([len(Vspansplit), len(IC)])\n",
        "  ytemp[0,:] = y\n",
        "\n",
        "  # transposes last set of concentrations into a vector to input as the initial conditions for the reaction function\n",
        "  # finite change calculated and input as IC for next iteration to fill the array\n",
        "  for i in range(stepssplit):\n",
        "    V = Vspan[i]\n",
        "    y = np.transpose(ytemp[i, :])\n",
        "    k1 = ReakFunMSRMD(y, T, MSRind, MDind)\n",
        "    k2 = ReakFunMSRMD(y + 0.5*k1, T, MSRind, MDind)\n",
        "    k3 = ReakFunMSRMD(y + 0.5*k2, T, MSRind, MDind)\n",
        "    k4 = ReakFunMSRMD(y + k3*dV, T, MSRind, MDind)\n",
        "    ytemp[i+1, :] = y + 1/6*(k1 + 2*k2 + 2*k3 + k4)*dV\n",
        "\n",
        "  return ytemp\n",
        "\n",
        "def RK4FunWGS (y, T, WGSind):\n",
        "  '''\n",
        "  similarily to euler's method, the runge kutta method of the fourth order calculates the integral using finite differentials\n",
        "  runge kutta uses 4 slopes to calculate a mean slope along the graph -> more accurate\n",
        "  this function handles the second reactor containing the WGS catalyst\n",
        "  '''\n",
        "\n",
        "  # creates empty concentration array and inputs the initial conditions as the first data point\n",
        "  ytemp = np.zeros([len(Vspansplit), len(IC)])\n",
        "  ytemp[0,:] = y\n",
        "\n",
        "  # transposes last set of concentrations into a vector to input as the initial conditions for the reaction function\n",
        "  # finite change calculated and input as IC for next iteration to fill the array\n",
        "  for i in range(stepssplit):\n",
        "    V = Vspan[i + stepssplit - 1]\n",
        "    y = np.transpose(ytemp[i, :])\n",
        "    k1 = ReakFunWGS(y, T, WGSind)\n",
        "    k2 = ReakFunWGS(y + 0.5*k1, T, WGSind)\n",
        "    k3 = ReakFunWGS(y + 0.5*k2, T, WGSind)\n",
        "    k4 = ReakFunWGS(y + k3*dV, T, WGSind)\n",
        "    ytemp[i+1, :] = y + 1/6*(k1 + 2*k2 + 2*k3 + k4)*dV\n",
        "\n",
        "  return ytemp"
      ],
      "metadata": {
        "id": "8eg2FDUFy0Js",
        "cellView": "form"
      },
      "execution_count": 68,
      "outputs": []
    },
    {
      "cell_type": "markdown",
      "source": [
        "# main"
      ],
      "metadata": {
        "id": "e-tcmYniUjlB"
      }
    },
    {
      "cell_type": "code",
      "source": [
        "'''\n",
        "contains main function to call all other relevant functions and set temperature and reaction index\n",
        "'''\n",
        "\n",
        "# calculates a concentration array using euler's method, with the length Vspan for plotting\n",
        "pEul = EulFun(IC, T)\n",
        "pEul [:, 5] = pEul [:, 5] / dens_cat / A_R\n",
        "# calculates a concentration array using the runge kutta method of the fourth order, with the length Vspan for plotting\n",
        "#pRK = RK4Fun(IC, T)\n",
        "\n",
        "# Pressure array testing\n",
        "\n",
        "# print (ConcRK)\n",
        "# print (Conctemp2)\n",
        "# print(pEul)\n",
        "\n",
        "# test = ReakFun(IC, T)\n",
        "#print('Euler Ergebnis:\\n', pEul)\n",
        "# print(test*dm_cat)"
      ],
      "metadata": {
        "id": "d0ve5884jBvk"
      },
      "execution_count": 69,
      "outputs": []
    },
    {
      "cell_type": "markdown",
      "source": [
        "# plots"
      ],
      "metadata": {
        "id": "-zalIPb7tEqL"
      }
    },
    {
      "cell_type": "code",
      "source": [
        "# @title full plot\n",
        "\n",
        "'''\n",
        "plots both reactors in the cascade using euler's method and the runge kutta method\n",
        "'''\n",
        "\n",
        "plt.figure(1)\n",
        "plt.plot(pEul[:,5], pEul[:,0], label='H2')\n",
        "plt.plot(pEul[:,5], pEul[:,1], label='H2O')\n",
        "plt.plot(pEul[:,5], pEul[:,2], label='CO')\n",
        "plt.plot(pEul[:,5], pEul[:,3], label='CO2')\n",
        "plt.plot(pEul[:,5], pEul[:,4], label='MeOH')\n",
        "plt.title(\"Euler\")\n",
        "plt.axis((0, 0.800, 0, 0.7))\n",
        "plt.legend(loc='best')\n",
        "plt.grid()\n",
        "plt.xlabel(\"length reactor [m]\")\n",
        "plt.ylabel (\"pressure [bar]\")\n"
      ],
      "metadata": {
        "id": "BzX8r1mEi58n",
        "colab": {
          "base_uri": "https://localhost:8080/",
          "height": 489
        },
        "outputId": "3977cbe0-2b35-4f62-adcc-b7dfadeccb2b"
      },
      "execution_count": 70,
      "outputs": [
        {
          "output_type": "execute_result",
          "data": {
            "text/plain": [
              "Text(0, 0.5, 'pressure [bar]')"
            ]
          },
          "metadata": {},
          "execution_count": 70
        },
        {
          "output_type": "display_data",
          "data": {
            "text/plain": [
              "<Figure size 640x480 with 1 Axes>"
            ],
            "image/png": "[encoded data removed]"
          },
          "metadata": {}
        }
      ]
    }
  ]
}