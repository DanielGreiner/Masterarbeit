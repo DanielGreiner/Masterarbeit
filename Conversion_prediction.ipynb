{
  "cells": [
    {
      "cell_type": "markdown",
      "metadata": {
        "id": "view-in-github",
        "colab_type": "text"
      },
      "source": [
        "<a href=\"https://colab.research.google.com/github/DanielGreiner/Masterarbeit/blob/main/Conversion_prediction.ipynb\" target=\"_parent\"><img src=\"https://colab.research.google.com/assets/colab-badge.svg\" alt=\"Open In Colab\"/></a>"
      ]
    },
    {
      "cell_type": "markdown",
      "metadata": {
        "id": "CqJKAvaDjhMS"
      },
      "source": [
        "# Reactions\n",
        "\n",
        "  \\begin{array}{lll}\n",
        "  \\text{Methanol steam reforming (MSR):}&\\kern 3pc CH_3OH_{(g)}+H_2O_{(g)}\\kern 0.5pc{\\overset{k_{1, eff}}{\\rightleftharpoons}}\\kern 0.5pc 3H_{2(g)}+CO_{2(g)}&\\kern 3pc\\Delta_r H_{m}^{o}= + 49\\enspace \\frac{kJ}{mol} \\\\\n",
        "  \\text{Methanol decomposition (MD):}&\\kern 3pc CH_3OH_{(g)}\\kern 0.5pc {\\overset{k_{2, eff}}{\\rightleftharpoons}}\\kern 0.5pc 2H_{2(g)}+CO_{(g)}&\\kern 3pc\\Delta_r H_{m}^{o}= + 91\\enspace \\frac{kJ}{mol} \\\\\n",
        "  \\end{array}"
      ]
    },
    {
      "cell_type": "markdown",
      "metadata": {
        "id": "_uNujnCbXXll"
      },
      "source": [
        "# Indexing in arrays:\n",
        "\n",
        "  \\begin{array}{llllll}\n",
        "  \\text{Species:} && H_2 & H_2O & CO & CO_2 & CH_3OH \\\\\n",
        "  \\text{Python Indexing:} && 0 & 1 & 2 & 3 & 4 \\\\\n",
        "  \\end{array}"
      ]
    },
    {
      "cell_type": "markdown",
      "metadata": {
        "id": "PD7gAZKNVI-i"
      },
      "source": [
        "# Preliminaries"
      ]
    },
    {
      "cell_type": "markdown",
      "metadata": {
        "id": "ni76wGgCd-5X"
      },
      "source": [
        "## LOAD LIBRARIES"
      ]
    },
    {
      "cell_type": "code",
      "execution_count": 6,
      "metadata": {
        "cellView": "form",
        "id": "FF8maq9Biilj"
      },
      "outputs": [],
      "source": [
        "# @title import libraries\n",
        "\n",
        "import numpy as np\n",
        "import pandas as pd\n",
        "import matplotlib.pyplot as plt\n",
        "from scipy.integrate import odeint\n",
        "from scipy import stats\n",
        "import csv\n",
        "\n",
        "pd.options.mode.chained_assignment = None\n",
        "pd.set_option('display.width', 200)"
      ]
    },
    {
      "cell_type": "code",
      "source": [
        "#@title thermodynamics library\n",
        "\n",
        "!pip install thermo\n",
        "import thermo as thermo"
      ],
      "metadata": {
        "cellView": "form",
        "id": "lyPk4F3tVqez",
        "colab": {
          "base_uri": "https://localhost:8080/"
        },
        "outputId": "07a24bbd-a016-49cc-c69e-fb6f2f184021"
      },
      "execution_count": 7,
      "outputs": [
        {
          "output_type": "stream",
          "name": "stdout",
          "text": [
            "Requirement already satisfied: thermo in /usr/local/lib/python3.10/dist-packages (0.2.27)\n",
            "Requirement already satisfied: chemicals>=1.1.5 in /usr/local/lib/python3.10/dist-packages (from thermo) (1.1.5)\n",
            "Requirement already satisfied: fluids>=1.0.25 in /usr/local/lib/python3.10/dist-packages (from thermo) (1.0.25)\n",
            "Requirement already satisfied: pandas in /usr/local/lib/python3.10/dist-packages (from thermo) (1.5.3)\n",
            "Requirement already satisfied: scipy in /usr/local/lib/python3.10/dist-packages (from thermo) (1.11.4)\n",
            "Requirement already satisfied: numpy in /usr/local/lib/python3.10/dist-packages (from chemicals>=1.1.5->thermo) (1.25.2)\n",
            "Requirement already satisfied: python-dateutil>=2.8.1 in /usr/local/lib/python3.10/dist-packages (from pandas->thermo) (2.8.2)\n",
            "Requirement already satisfied: pytz>=2020.1 in /usr/local/lib/python3.10/dist-packages (from pandas->thermo) (2023.4)\n",
            "Requirement already satisfied: six>=1.5 in /usr/local/lib/python3.10/dist-packages (from python-dateutil>=2.8.1->pandas->thermo) (1.16.0)\n"
          ]
        }
      ]
    },
    {
      "cell_type": "code",
      "execution_count": 17,
      "metadata": {
        "cellView": "form",
        "id": "ye8T1D2Yijh0",
        "colab": {
          "base_uri": "https://localhost:8080/"
        },
        "outputId": "aee158a7-e8be-48b0-d774-f065e14b2254"
      },
      "outputs": [
        {
          "output_type": "stream",
          "name": "stdout",
          "text": [
            "numpy:1.25.2\n",
            "pandas:1.5.3\n"
          ]
        }
      ],
      "source": [
        "# @title check library versions\n",
        "print(\"numpy:\" + str(np.__version__))\n",
        "print(\"pandas:\" + str(pd.__version__))\n",
        "#print(\"torch:\" + str(to.__version__))"
      ]
    },
    {
      "cell_type": "markdown",
      "metadata": {
        "id": "IzTI73zHjPUx"
      },
      "source": [
        "## SETUP\n"
      ]
    },
    {
      "cell_type": "code",
      "execution_count": 9,
      "metadata": {
        "id": "yvl0IUgdirdT",
        "cellView": "form"
      },
      "outputs": [],
      "source": [
        "# @title reactor constants\n",
        "\n",
        "'''\n",
        "Define all reactor specific constants and calculate size of finite differential for numerical integration\n",
        "'''\n",
        "\n",
        "L_R = 0.700                 # reactor length [m]\n",
        "d_R = 0.010                 # reactor diameter [m]\n",
        "r_R = d_R/2                 # reactor radius [m]\n",
        "\n",
        "A_R = np.pi*np.power(r_R, 2, dtype=float)               # reactor crossectional area [a.u.]\n",
        "V_R = A_R*L_R               # reactor volume [m^3]\n",
        "\n",
        "m_cat = 5/1000              # catalyst mass [kg]\n",
        "dens_cat_part = 3.28426*np.power(10, 3, dtype=float)    # catalyst particle density [kg m^-3]\n",
        "dens_cat = 0.96*np.power(10, 3, dtype=float) #old:0.80*np.power(10, 3, dtype=float)      # catalyst bulk density [kg m^-3] use whichever\n",
        "\n",
        "p_in = 1                    # inlet pressure [bar]\n",
        "n_Flow_total = 0.08            # inlet molecular flowrate [mol h^-1]\n",
        "x_MeOH_in = 0.5             # inlet molar fraction methanol\n",
        "x_H2O_in = 0.5              # inlet molar fraction water\n",
        "n_Flow_in_MeOH = x_MeOH_in * n_Flow_total         # inlet molecular flowrate methanol [mol h^-1]\n",
        "n_Flow_in_H2O = x_H2O_in * n_Flow_total           # inlet molecular flowrate water [mol h^-1]\n",
        "\n",
        "m_cat_0 = 0               # starting mass of catalyst [kg] !! typically 0\n",
        "steps = 200               # number of steps in numerical calculation\n",
        "dm_cat_model = (m_cat-m_cat_0)/steps                            # finite differential for numerical integration\n",
        "m_cat_model_span = np.linspace(m_cat_0, m_cat, steps+1)   # range of mass segments for integration and plotting\n",
        "\n",
        "R = 8.314                 # universal gas constant [J mol-1 K-1]\n",
        "\n",
        "M_MeOH = 32.042 #g/mol bzw. kg/kmol\n",
        "M_H2O = 18.02 #g/mol bzw. kg/kmol\n",
        "M_H2 = 2.016 #g/mol bzw. kg/kmol\n",
        "M_CO = 28.010 #g/mol bzw. kg/kmol\n",
        "M_CO2 = 44.009 #g/mol bzw. kg/kmol\n",
        "\n",
        "M_array = np.array([M_H2, M_H2O, M_CO, M_CO2, M_MeOH])\n",
        "\n",
        "# Ergun equation values, partially preliminary\n",
        "D_cat = 1*np.power(10, -3, dtype=float)                    # catalyst particle diameter [m]\n",
        "eps = 0.4                 # void fraction in packed bed; assumption = spherical & nearly ideally packed\n",
        "vel_gas = n_Flow_total/(p_in*np.power(10, 5, dtype=float))*R*(150+273)         # gas velocity [m s^-1]\n",
        "\n",
        "# deactivation\n",
        "\n",
        "#deactivation_spacing = 10\n",
        "\n",
        "# segment to test constants\n",
        "\n",
        "#print(dm_cat)\n",
        "#print(m_cat_span)\n",
        "#print(len(Vspansplit))\n",
        "#print(stepssplit)\n",
        "# print(dens_cat)\n",
        "# print(dens_cat_part)\n",
        "# print(dens_cat_bulk)"
      ]
    },
    {
      "cell_type": "code",
      "source": [
        "#@title heat duty constants\n",
        "\n",
        "a_a = 150   #Aziz\n",
        "a_i = 15    #Aziz\n",
        "ds = 0.01   #Aziz\n",
        "lamb = 15   #8 preliminary\n",
        "k_w = 1/(1/a_i+1/a_a+ds/lamb)\n",
        "a_w = np.pi*d_R/A_R   # 1/m\n",
        "# print(k_w)\n",
        "print(k_w)\n",
        "print(a_w)\n",
        "\n",
        "DH_MSR = 49*10^6 # J/kmol\n",
        "DH_MD = 90*10^6 # J/kmol"
      ],
      "metadata": {
        "colab": {
          "base_uri": "https://localhost:8080/"
        },
        "id": "YF4rovvdHV_s",
        "outputId": "0470b744-be24-406c-f84e-bf0be84da563",
        "cellView": "form"
      },
      "execution_count": 10,
      "outputs": [
        {
          "output_type": "stream",
          "name": "stdout",
          "text": [
            "13.513513513513514\n",
            "400.00000000000006\n"
          ]
        }
      ]
    },
    {
      "cell_type": "code",
      "execution_count": 11,
      "metadata": {
        "id": "NBZz_R58itm5",
        "cellView": "form"
      },
      "outputs": [],
      "source": [
        "# @title Initial concentrations\n",
        "'''\n",
        "setup initial concentrations in an IC array:\n",
        "'''\n",
        "\n",
        "n0_H2 = 0                       # [kmol h^-1]\n",
        "n0_H2O = n_Flow_in_H2O/1000     # [kmol h^-1]\n",
        "n0_CO = 0                       # [kmol h^-1]\n",
        "n0_CO2 = 0                      # [kmol h^-1]\n",
        "n0_MeOH = n_Flow_in_MeOH/1000   # [kmol h^-1]\n",
        "\n",
        "IC = np.array([n0_H2, n0_H2O, n0_CO, n0_CO2, n0_MeOH, m_cat_0])\n",
        "IC_zs_0 = IC[:-1]/np.sum(IC[:-1])"
      ]
    },
    {
      "cell_type": "code",
      "source": [
        "#@title thermo\n",
        "\n",
        "# SI units\n",
        "# Cpg = [J/kg/K]\n",
        "# rhog = [kg/m^3]\n",
        "# mug = [Pa/s]\n",
        "\n",
        "# H2 = thermo.Chemical('hydrogen', T=450, P=1E5)\n",
        "# print(H2.Cpg)\n",
        "# H2O = thermo.Chemical('water', T=450, P=1E5)\n",
        "# print(H2O.Cpg)\n",
        "# CO = thermo.Chemical('carbon monoxide', T=450, P=1E5)\n",
        "# print(CO.Cpg)\n",
        "# CO2 = thermo.Chemical('carbon dioxide', T=450, P=1E5)\n",
        "# print(CO2.Cpg)\n",
        "# MeOH = thermo.Chemical('methanol', T=450, P=1E5)\n",
        "# print(MeOH.Cpg)\n",
        "\n",
        "gas_mix_names = ['hydrogen', 'water', 'carbon monoxide', 'carbon dioxide', 'methanol']\n",
        "\n",
        "gas_prop = thermo.Mixture(gas_mix_names, zs=IC_zs_0, T=450, P=1E5)\n",
        "print('Spezifische Wärmekapazität der Gasmixtur = ' + str(gas_prop.Cpg) + ' J/kg/K')\n",
        "print('Dichte der Gasmixtur = ' + str(gas_prop.rhog) + ' kg/m^3')\n",
        "print('Dynamische Viskosität der Gasmixtur = ' + str(gas_prop.mug) + ' Pa/s')"
      ],
      "metadata": {
        "cellView": "form",
        "id": "aAxmDPgLWe6X",
        "colab": {
          "base_uri": "https://localhost:8080/"
        },
        "outputId": "0ecba2fc-337d-4352-bb76-7f8935b7168a"
      },
      "execution_count": 12,
      "outputs": [
        {
          "output_type": "stream",
          "name": "stdout",
          "text": [
            "Spezifische Wärmekapazität der Gasmixtur = 1805.3325184046016 J/kg/K\n",
            "Dichte der Gasmixtur = 0.6689433460559383 kg/m^3\n",
            "Dynamische Viskosität der Gasmixtur = 1.5083679245089485e-05 Pa/s\n"
          ]
        }
      ]
    },
    {
      "cell_type": "code",
      "execution_count": 13,
      "metadata": {
        "cellView": "form",
        "id": "aW1PKqLbrM5g"
      },
      "outputs": [],
      "source": [
        "# @title kinetics data\n",
        "\n",
        "'''\n",
        "setup kinetics data in arrays, includes S-Kinetics for the MSR and MD reactions respectively\n",
        "includes activation energies, k0 and exponents for rate of reaction calculation using a modified arrhenius equation\n",
        "'''\n",
        "\n",
        "T0 = 150 + 273    # T0 to calculate arrhenius' rate of reaction constant k [K]\n",
        "n = 1             # exponent in arrhenius equation\n",
        "\n",
        "#BiCat\n",
        "#MSR\n",
        "k0_MSR_S = 8.5*np.power(10, -7, dtype=float)       # k0 for arrhenius[kmol kg^-1 h^-1 Pa^-b]\n",
        "EA_MSR_S = 54186              # activation energy [J mol-1]\n",
        "b_MeOH_MSR_S = 0.570           # rate of reaction exponent for methanol\n",
        "b_H2O_MSR_S = 0.049           # rate of reaction exponent for water\n",
        "\n",
        "#reverse MSR reaction\n",
        "\n",
        "k0_MSR_S_rev = 4.2*np.power(10, -6, dtype=float)       # k0 for arrhenius[kmol kg^-1 h^-1 Pa^-b]\n",
        "EA_MSR_S_rev = 4978                   # activation energy [J mol-1]\n",
        "b_MeOH_MSR_S_rev = - 0.428            # rate of reaction exponent for methanol\n",
        "b_H2O_MSR_S_rev = - 0.949             # rate of reaction exponent for water\n",
        "\n",
        "MSR = np.array(\n",
        "    [[k0_MSR_S, EA_MSR_S, b_MeOH_MSR_S, b_H2O_MSR_S],\n",
        "    [k0_MSR_S_rev, EA_MSR_S_rev, b_MeOH_MSR_S_rev, b_H2O_MSR_S_rev]]\n",
        ")\n",
        "\n",
        "#MD\n",
        "k0_MD_S = 1.2*np.power(10, -11, dtype=float)        # [kmol kg^-1 h^-1 Pa^-b]\n",
        "EA_MD_S = 132540                  # [J mol-1]\n",
        "b_MeOH_MD_S = 1.114\n",
        "\n",
        "#reverse MD reaction\n",
        "\n",
        "k0_MD_S_rev = 5.5*np.power(10, -8, dtype=float)        # [kmol kg^-1 h^-1 Pa^-b]\n",
        "EA_MD_S_rev = 42137               # [J mol-1]\n",
        "b_MeOH_MD_S_rev = 0.114\n",
        "\n",
        "MD = np.array (\n",
        "    [[k0_MD_S, EA_MD_S, b_MeOH_MD_S],\n",
        "    [k0_MD_S_rev, EA_MD_S_rev, b_MeOH_MD_S_rev]]\n",
        ")\n",
        "\n",
        "# array for stoichiometric coefficients\n",
        "ny = np.array(\n",
        "    [[3, -1, 0, 1, -1],\n",
        "    [2, 0, 1, 0, -1]]\n",
        ")\n",
        "\n",
        "\n",
        "# testing block for kinetics arrays\n",
        "\n",
        "\n",
        "# print(MSR)\n",
        "# print(MSR[1,1])\n",
        "#print(ny)"
      ]
    },
    {
      "cell_type": "code",
      "source": [
        "#@title deactivation slope\n",
        "\n",
        "deactivation_reading = pd.read_csv('/content/drive/MyDrive/Colab Notebooks/Masterarbeit Colabs/Experimental data - Excel sheets/deactivation value.csv')\n",
        "deactivation_value_csv = deactivation_reading.iat[0, 0]\n",
        "\n",
        "deactivation_list = {}"
      ],
      "metadata": {
        "cellView": "form",
        "id": "ZLx_jpttLwrB"
      },
      "execution_count": 14,
      "outputs": []
    },
    {
      "cell_type": "markdown",
      "metadata": {
        "id": "ObCpMvpiVNoM"
      },
      "source": [
        "# Reactor"
      ]
    },
    {
      "cell_type": "markdown",
      "metadata": {
        "id": "ewE1wq3cizlv"
      },
      "source": [
        "## PFTR ISOTHERMAL AND STEADY STATE\n",
        "\n",
        "### ODE by mass catalyst:\n",
        "\n",
        "\n",
        "$\\Large\\frac{d\\dot{n}_x}{dm_{cat}}=R_x$\n",
        "\n",
        "$\\Large\\require{enclose} \\frac{dT}{dm_{cat}} = \\frac{∑r_i⋅(-𝛥_rH_{m, i}^\\enclose{horizontalstrike}{o})}{\\dot{m}⋅c_{p, g}}+\\frac{k_w\\cdot\n",
        "a_w}{(1-ϵ)⋅ρ_{cat}\\dot{m}⋅c_{p, g}}⋅(T_W-T)$"
      ]
    },
    {
      "cell_type": "code",
      "execution_count": null,
      "metadata": {
        "id": "8Xss_vPRFyMb",
        "cellView": "form"
      },
      "outputs": [],
      "source": [
        "# @title reaction functions\n",
        "\n",
        "def ReakFun (P, p_in, T_w, m_flow, g, a_w_loc):\n",
        "  '''\n",
        "  calculates the rate of reaction for each component for MSR and MD reactions with respect to the selected catalytic system through indexing\n",
        "  '''\n",
        "  # creates new empty concentration array for the components\n",
        "  dP=np.zeros(len(P))\n",
        "\n",
        "  # total molar flowrate\n",
        "  n_ges_temp = np.sum(P[ :-2])\n",
        "\n",
        "  # calculates molar fraction of all 5 components; original array contains catalyst mass -> ignored in this calculation\n",
        "  # molar fraction times total pressure = partial pressure; calculated for all 5 components\n",
        "  for j in range(5):\n",
        "    P[ j] = P[ j]/n_ges_temp*np.power(10, 5, dtype=float)*1.013 #*p_in\n",
        "\n",
        "  # assigns components to array index for better readability of calculations\n",
        "  P_H2 = P[0]\n",
        "  P_H2O = P[1]\n",
        "  P_CO = P[2]\n",
        "  P_CO2 = P[3]\n",
        "  P_MeOH = P[4]\n",
        "  m_cat_x = P[5]\n",
        "  T_neu = P[6]\n",
        "\n",
        "  gas_prop = g\n",
        "\n",
        "  # calculates the rate of reaction for each reaction pathway and every catalyst setup\n",
        "  rMSR = MSR[0, 0] *np.power((T_neu/T0), n, dtype=float)*np.exp((-MSR[0, 1]/R)*(1/T_neu-1/T0), dtype=float)\n",
        "  rMSR *= np.power(P_MeOH, MSR[0, 2], dtype=float)*np.power(P_H2O, MSR[0, 3], dtype=float)\n",
        "\n",
        "  # if statement necessary as exponents in reverse reactions are negative -> might divide by zero\n",
        "  if P_MeOH > 0 and P_H2O > 0:\n",
        "    revMSR = MSR[1, 0] *np.power((T_neu/T0), n, dtype=float)*np.exp((-MSR[1, 1]/R)*(1/T_neu-1/T0), dtype=float)\n",
        "    revMSR *= np.power(P_MeOH, MSR[1, 2], dtype=float)*np.power(P_H2O, MSR[1, 3], dtype=float)*-1\n",
        "  else:\n",
        "    revMSR = 0\n",
        "\n",
        "  rMD = MD[0, 0]*np.power((T_neu/T0), n, dtype=float)*np.exp((-MD[0, 1]/R)*(1/T_neu-1/T0), dtype=float)\n",
        "  rMD *= np.power(P_MeOH, MD[0, 2], dtype=float)\n",
        "\n",
        "  if P_MeOH > 0:\n",
        "    revMD = MD[1, 0]*np.power((T_neu/T0), n, dtype=float)*np.exp((-MD[1, 1]/R)*(1/T_neu-1/T0), dtype=float)\n",
        "    revMD *= np.power(P_MeOH, MD[1, 2], dtype=float)*-1\n",
        "  else:\n",
        "      revMD = 0\n",
        "\n",
        "  # calculates slope of change for each component and returns the result\n",
        "  dP[0] = (rMSR*ny[0, 0] + rMD*ny[1, 0])+(revMSR*ny[0, 0] + revMD*ny[1, 0])\n",
        "  dP[1] = (rMSR*ny[0, 1] + rMD*ny[1, 1])+(revMSR*ny[0, 1] + revMD*ny[1, 1])\n",
        "  dP[2] = (rMSR*ny[0, 2] + rMD*ny[1, 2])+(revMSR*ny[0, 2] + revMD*ny[1, 2])\n",
        "  dP[3] = (rMSR*ny[0, 3] + rMD*ny[1, 3])+(revMSR*ny[0, 3] + revMD*ny[1, 3])\n",
        "  dP[4] = (rMSR*ny[0, 4] + rMD*ny[1, 4])+(revMSR*ny[0, 4] + revMD*ny[1, 4])\n",
        "  dP[5] = 1\n",
        "  dP[6] = (rMSR*(-DH_MSR) + rMD*(-DH_MD) + revMSR*DH_MSR + revMD*DH_MD)/m_flow/gas_prop.Cpg + k_w*a_w_loc*(T_w-T_neu)/(1-eps)/m_flow/dens_cat/gas_prop.Cpg\n",
        "\n",
        "  return dP"
      ]
    },
    {
      "cell_type": "code",
      "execution_count": null,
      "metadata": {
        "cellView": "form",
        "id": "M9DiMkCRFfIM"
      },
      "outputs": [],
      "source": [
        "# @title reaction functions without reverse reaction\n",
        "\n",
        "def ReakFunNoReverse (P, T, p_in):\n",
        "  '''\n",
        "  calculates the rate of reaction for each component for MSR and MD reactions with respect to the selected catalytic system through indexing\n",
        "  '''\n",
        "  # creates new empty concentration array for the components and assigns components to index\n",
        "  dP=np.zeros(len(P))\n",
        "\n",
        "  # total molar flowrate\n",
        "  n_ges_temp = np.sum(P[ :-2])\n",
        "\n",
        "  # calculates molar fraction of all 5 components; original array contains catalyst mass -> ignored in this calculation\n",
        "  # molar fraction times total pressure = partial pressure; calculated for all 5 components\n",
        "  for j in range(5):\n",
        "    P[ j] = P[ j]/n_ges_temp*p_in*np.power(10, 5, dtype=float)\n",
        "\n",
        "\n",
        "  P_H2 = P[0]\n",
        "  P_H2O = P[1]\n",
        "  P_CO = P[2]\n",
        "  P_CO2 = P[3]\n",
        "  P_MeOH = P[4]\n",
        "  m_cat_x = P[5]\n",
        "\n",
        "  # calculates the rate of reaction for each reaction pathway and every catalyst setup\n",
        "  rMSR = MSR[0, 0] *np.power((T/T0), n, dtype=float)*np.exp((-MSR[0, 1]/R)*(1/T-1/T0), dtype=float)\n",
        "  rMSR *= np.power(P_MeOH, MSR[0, 2], dtype=float)*np.power(P_H2O, MSR[0, 3], dtype=float)\n",
        "\n",
        "\n",
        "  rMD = MD[0, 0]*np.power((T/T0), n, dtype=float)*np.exp((-MD[0, 1]/R)*(1/T-1/T0), dtype=float)\n",
        "  rMD *= np.power(P_MeOH, MD[0, 2], dtype=float)\n",
        "\n",
        "\n",
        "  # calculates slope of change for each component and returns the result\n",
        "  dP[0] = (rMSR*ny[0, 0] + rMD*ny[1, 0])\n",
        "  dP[1] = (rMSR*ny[0, 1] + rMD*ny[1, 1])\n",
        "  dP[2] = (rMSR*ny[0, 2] + rMD*ny[1, 2])\n",
        "  dP[3] = (rMSR*ny[0, 3] + rMD*ny[1, 3])\n",
        "  dP[4] = (rMSR*ny[0, 4] + rMD*ny[1, 4])\n",
        "  dP[5] = 1\n",
        "  dP[6] = T\n",
        "\n",
        "  return dP"
      ]
    },
    {
      "cell_type": "markdown",
      "metadata": {
        "id": "8OgQ5beXBClF"
      },
      "source": [
        "## Euler and deactivation"
      ]
    },
    {
      "cell_type": "code",
      "execution_count": null,
      "metadata": {
        "id": "xD4VhgB4ivsV",
        "cellView": "form"
      },
      "outputs": [],
      "source": [
        "# @title euler's method\n",
        "\n",
        "def EulFun (y, T, p_in, m_cat_span, dm_cat, iterations, a_w_loc):\n",
        "  '''\n",
        "    uses eulers method to calculate the change in concentration given the slope\n",
        "  '''\n",
        "\n",
        "  massflow = y[:-1]*M_array\n",
        "  massflow_total = np.sum(massflow)/3600\n",
        "\n",
        "  T_W = T\n",
        "  y = np.append(y, T)\n",
        "\n",
        "  # creates empty concentration array and inputs the initial conditions as the first data point\n",
        "  ytemp = np.zeros([len(m_cat_span), len(y)])\n",
        "  ytemp[0,:] = y\n",
        "\n",
        "  # takes a copy of the last entry in the ytemp results array for the next calculation step\n",
        "  for i in range(iterations):\n",
        "    y = np.transpose(ytemp[i, :])\n",
        "    temp = y.copy()\n",
        "\n",
        "    # print(\"temp = \")\n",
        "    # print(temp)\n",
        "\n",
        "    IC_zs = temp[:-2]/np.sum(temp[:-2])\n",
        "\n",
        "    # print(IC_zs)\n",
        "    # print(temp[-1])\n",
        "    if i%10 == 0:\n",
        "        gasmixture = thermo.Mixture(gas_mix_names, zs=IC_zs, T=temp[-1], P=p_in*10**5)\n",
        "\n",
        "    # print(gasmixture.rhog, gasmixture.Cpg)\n",
        "    # gets differential from reaction function\n",
        "\n",
        "    dy = ReakFun(temp, p_in, T_W, massflow_total, gasmixture, a_w_loc)\n",
        "\n",
        "    # print(\"dy = \")\n",
        "    # print(dy)\n",
        "    # next entry in results array according to euler's method dependant on integration variable dm_cat\n",
        "    ytemp[i+1, :] = y + dy*dm_cat\n",
        "\n",
        "    # removes negative entries, might exist due to slope and step size\n",
        "    for j in range(5):\n",
        "      if ytemp[i+1, j] <= 0:\n",
        "        ytemp[i+1, j] = 0\n",
        "\n",
        "  return ytemp"
      ]
    },
    {
      "cell_type": "code",
      "execution_count": null,
      "metadata": {
        "cellView": "form",
        "id": "WuWYIz7BGIa_"
      },
      "outputs": [],
      "source": [
        "# @title euler's method no reverse\n",
        "\n",
        "def EulFunNoReverse (y, T, p_in, m_cat_span, dm_cat, iterations):\n",
        "  '''\n",
        "  uses eulers method to calculate the change in concentration given the slope\n",
        "  '''\n",
        "\n",
        "  # creates empty concentration array and inputs the initial conditions as the first data point\n",
        "  y = np.append(y, T)\n",
        "\n",
        "  ytemp = np.zeros([len(m_cat_span), len(y)])\n",
        "  ytemp[0,:] = y\n",
        "\n",
        "\n",
        "  for i in range(iterations):\n",
        "    y = np.transpose(ytemp[i, :])\n",
        "    temp = y.copy()\n",
        "\n",
        "    dy = ReakFunNoReverse(y, T, p_in)\n",
        "\n",
        "    ytemp[i+1, :] = temp + dy*dm_cat\n",
        "\n",
        "    for j in range(5):\n",
        "      if ytemp[i+1, j] <= 0:\n",
        "        ytemp[i+1, j] = 0\n",
        "\n",
        "  # transposes last set of concentrations into a vector to input as the initial conditions for the reaction function\n",
        "  # finite change calculated and input as IC for next iteration to fill the array\n",
        "  return ytemp"
      ]
    },
    {
      "cell_type": "code",
      "execution_count": null,
      "metadata": {
        "id": "jSqx9Z_y07IO",
        "cellView": "form"
      },
      "outputs": [],
      "source": [
        "# @title deactivation function\n",
        "\n",
        "def DeacFun(X_t_T_p):\n",
        "  '''\n",
        "  uses a deactivation function to calculate the change in catalytic efficiency given a time array\n",
        "  '''\n",
        "  # the calculation is preliminary and will be corrected later with respect to the present pressure\n",
        "  # just to test if deactivation function works and can be implemented\n",
        "\n",
        "  Xt = X_t_T_p.copy()\n",
        "\n",
        "  deactivation_slope_old = 0\n",
        "\n",
        "  for i in range(len(Xt)):\n",
        "    if i == 0:\n",
        "        deactivation_slope = deactivation_value_csv * Xt[i, 2] * (Xt[i, 3]**2.228) * (Xt[i, 1])\n",
        "    else:\n",
        "        deactivation_slope = deactivation_value_csv * Xt[i, 2] * (Xt[i, 3]**2.228) * (Xt[i, 1] - Xt[i -1, 1])\n",
        "    deactivation_slope_total = deactivation_slope + deactivation_slope_old\n",
        "    Xt[i, 0] = Xt[i, 0] * (1 + deactivation_slope_total)\n",
        "    deactivation_slope_old = deactivation_slope_total\n",
        "\n",
        "  for i in range(len(Xt)):\n",
        "    if Xt[i, 0] < 0:\n",
        "        Xt[i, 0] = 0\n",
        "\n",
        "  return Xt"
      ]
    },
    {
      "cell_type": "code",
      "source": [
        "#@title deactivation debugging and testing\n",
        "\n",
        "# deactivation_value = -0.00005\n",
        "\n",
        "X = np.array([[10.0, 0, 427, 1], [10.0, 10, 427, 1], [15.0, 10, 427, 1], [10.5, 20, 427, 1]])\n",
        "xz = DeacFun(X)\n",
        "\n",
        "\n",
        "plt.plot(xz[:, 1], xz[:, 0])\n",
        "plt.grid()"
      ],
      "metadata": {
        "colab": {
          "base_uri": "https://localhost:8080/"
        },
        "cellView": "form",
        "id": "xgupGf0CBuVi",
        "outputId": "3ef500a1-5bf2-47f1-f165-236c1a087c02"
      },
      "execution_count": null,
      "outputs": [
        {
          "output_type": "display_data",
          "data": {
            "text/plain": [
              "<Figure size 640x480 with 1 Axes>"
            ],
            "image/png": "[encoded data removed]"
          },
          "metadata": {}
        }
      ]
    },
    {
      "cell_type": "markdown",
      "metadata": {
        "id": "e-tcmYniUjlB"
      },
      "source": [
        "## MAIN"
      ]
    },
    {
      "cell_type": "code",
      "execution_count": null,
      "metadata": {
        "cellView": "form",
        "id": "4CTCMg2vNzD9"
      },
      "outputs": [],
      "source": [
        "# @title Main calculation, pressure result\n",
        "\n",
        "def MainCalcPressure (y, T, p_in, m_cat_span, dm_cat, iterations, rev, a_w_loc):\n",
        "\n",
        "\n",
        "  if rev == 1:\n",
        "    temp_solution = EulFunNoReverse(y, T, p_in, m_cat_span, dm_cat, iterations)\n",
        "  else:\n",
        "    temp_solution = EulFun(y, T, p_in, m_cat_span, dm_cat, iterations, a_w_loc)\n",
        "\n",
        "  # turns molar flowrates into pressures, for every entry except mass catalyst\n",
        "  for l in range(len(temp_solution)):\n",
        "    n_ges = np.sum(temp_solution[l, :-2])\n",
        "\n",
        "    for j in range(5):\n",
        "      temp_solution[l, j] = temp_solution[l, j]/n_ges*p_in\n",
        "\n",
        "  return temp_solution"
      ]
    },
    {
      "cell_type": "code",
      "execution_count": null,
      "metadata": {
        "cellView": "form",
        "id": "kPlHCOhGOKC3"
      },
      "outputs": [],
      "source": [
        "# @title Main calculation, molar flowrate result\n",
        "\n",
        "def MainCalcMolFlow (y, T, p_in, m_cat_span, dm_cat, iterations, rev, a_w_loc):\n",
        "\n",
        "  if rev == 1:\n",
        "    temp_solution = EulFunNoReverse(y, T, p_in, m_cat_span, dm_cat, iterations)\n",
        "  else:\n",
        "    temp_solution = EulFun(y, T, p_in, m_cat_span, dm_cat, iterations, a_w_loc)\n",
        "\n",
        "  return temp_solution"
      ]
    },
    {
      "cell_type": "code",
      "execution_count": null,
      "metadata": {
        "id": "d0ve5884jBvk",
        "cellView": "form"
      },
      "outputs": [],
      "source": [
        "#@title main function\n",
        "\n",
        "'''\n",
        "contains main function to call all other relevant functions and set temperature and reaction index\n",
        "'''\n",
        "# set reaction temperature and calculate respective volumetric flowrate\n",
        "\n",
        "T = 273 + 150                                                                 # reactor temperature [K]\n",
        "VFlow = n_Flow_total*R*T/(p_in * np.power(10, 5, dtype = float))              # volumetric flowrate [m^3 h^-1]\n",
        "\n",
        "# calculates a concentration array using euler's method, with the length Vspan for plotting\n",
        "\n",
        "pEul = MainCalcPressure(IC, T, p_in, m_cat_model_span, dm_cat_model, steps, 0, a_w)\n",
        "\n",
        "pEulNoReverse = MainCalcPressure(IC, T, p_in, m_cat_model_span, dm_cat_model, steps, 1, a_w)\n",
        "\n",
        "pEulfrac = pEul.copy()\n",
        "\n",
        "### testing ###\n",
        "\n",
        "# pEul2 = MainCalcMolFlow(IC, T, p_in, m_cat_model_span, dm_cat_model, steps, 0)\n",
        "\n",
        "# pEul2frac = pEul2.copy()\n",
        "# n_ges_pEul2 = np.zeros(len(pEul2frac))\n",
        "# n_ges_pEul2[:] = np.sum(pEul2frac[:, :-1], 1)\n",
        "# for i in range(len(pEul2frac)):\n",
        "#   pEul2frac[i, :-1] = pEul2frac[i, :-1]/n_ges_pEul2[i]"
      ]
    },
    {
      "cell_type": "markdown",
      "metadata": {
        "id": "YTEZZIhnVcIH"
      },
      "source": [
        "# Main Plots"
      ]
    },
    {
      "cell_type": "markdown",
      "metadata": {
        "id": "PrPBT77z5s1_"
      },
      "source": [
        "## MAIN PLOTS"
      ]
    },
    {
      "cell_type": "code",
      "source": [
        "#@title temp plot\n",
        "plt.figure(1)\n",
        "plt.plot(pEulfrac[:,5], pEulfrac[:,-1])\n",
        "plt.title(\"Euler Temperature\")\n",
        "plt.axis((0, 0.005, 420, 425))\n",
        "plt.grid()\n",
        "plt.xlabel(\"mass catalyst [kg]\")\n",
        "plt.ylabel (\"Temperature [K]\")"
      ],
      "metadata": {
        "id": "uuw924bpYCyP",
        "cellView": "form",
        "colab": {
          "base_uri": "https://localhost:8080/"
        },
        "outputId": "0ca4efa2-74d4-4f12-ecad-2f8b93733562"
      },
      "execution_count": null,
      "outputs": [
        {
          "output_type": "execute_result",
          "data": {
            "text/plain": [
              "Text(0, 0.5, 'Temperature [K]')"
            ]
          },
          "metadata": {},
          "execution_count": 67
        },
        {
          "output_type": "display_data",
          "data": {
            "text/plain": [
              "<Figure size 640x480 with 1 Axes>"
            ],
            "image/png": "[encoded data removed]"
          },
          "metadata": {}
        }
      ]
    },
    {
      "cell_type": "code",
      "execution_count": null,
      "metadata": {
        "cellView": "form",
        "id": "BzX8r1mEi58n",
        "colab": {
          "base_uri": "https://localhost:8080/"
        },
        "outputId": "f1eabe99-8ebe-480b-df68-9749390f3f96"
      },
      "outputs": [
        {
          "output_type": "execute_result",
          "data": {
            "text/plain": [
              "Text(0, 0.5, 'molar fraction')"
            ]
          },
          "metadata": {},
          "execution_count": 68
        },
        {
          "output_type": "display_data",
          "data": {
            "text/plain": [
              "<Figure size 640x480 with 1 Axes>"
            ],
            "image/png": "[encoded data removed]"
          },
          "metadata": {}
        }
      ],
      "source": [
        "# @title full plot\n",
        "\n",
        "'''\n",
        "plots both reactors in the cascade using euler's method and the runge kutta method\n",
        "'''\n",
        "# # at p = 1 bar, the pressure and molar fraction are identical, might uncomment when looking at different pressures\n",
        "# plt.figure(1)\n",
        "# plt.plot(pEul[:,5], pEul[:,0], label='$H_2$')\n",
        "# plt.plot(pEul[:,5], pEul[:,1], label='$H_2O$')\n",
        "# plt.plot(pEul[:,5], pEul[:,2], label='$CO$')\n",
        "# plt.plot(pEul[:,5], pEul[:,3], label='$CO_2$')\n",
        "# plt.plot(pEul[:,5], pEul[:,4], label='$MeOH$')\n",
        "# plt.title(\"Euler pressure\")\n",
        "# plt.axis((0, 8, 0, 1))\n",
        "# plt.legend(loc='best')\n",
        "# plt.grid()\n",
        "# plt.xlabel(\"mass catalyst [kg]\")\n",
        "# plt.ylabel (\"pressure [bar]\")\n",
        "\n",
        "plt.figure(2)\n",
        "plt.plot(pEulfrac[:,5], pEulfrac[:,0], label='$H_2$')\n",
        "plt.plot(pEulfrac[:,5], pEulfrac[:,1], label='$H_2O$')\n",
        "plt.plot(pEulfrac[:,5], pEulfrac[:,2], label='$CO$')\n",
        "plt.plot(pEulfrac[:,5], pEulfrac[:,3], label='$CO_2$')\n",
        "plt.plot(pEulfrac[:,5], pEulfrac[:,4], label='$MeOH$')\n",
        "plt.title(\"Euler molar fraction\")\n",
        "plt.axis((0, 0.005, 0, 1))\n",
        "plt.legend(loc='best')\n",
        "plt.grid()\n",
        "plt.xlabel(\"mass catalyst [kg]\")\n",
        "plt.ylabel (\"molar fraction\")"
      ]
    },
    {
      "cell_type": "code",
      "execution_count": null,
      "metadata": {
        "cellView": "form",
        "id": "FcoO5oYCT0UV",
        "colab": {
          "base_uri": "https://localhost:8080/"
        },
        "outputId": "62069f6e-e1ce-4eb0-d13b-395e11f81a2d"
      },
      "outputs": [
        {
          "output_type": "execute_result",
          "data": {
            "text/plain": [
              "Text(0, 0.5, 'methanol conversion [%]')"
            ]
          },
          "metadata": {},
          "execution_count": 69
        },
        {
          "output_type": "display_data",
          "data": {
            "text/plain": [
              "<Figure size 640x480 with 1 Axes>"
            ],
            "image/png": "[encoded data removed]"
          },
          "metadata": {}
        }
      ],
      "source": [
        "# @title methanol conversion\n",
        "'''\n",
        "used to calculate the conversion of methanol\n",
        "'''\n",
        "# copy to not change original array\n",
        "EulFracX = pEulfrac.copy()\n",
        "EulFracX = np.delete(EulFracX, [0, 1, 2, 3], 1)\n",
        "\n",
        "# X = 1-n/n0\n",
        "EulFracX[:, 0] = (1-EulFracX[:, 0]/EulFracX[0, 0])*100\n",
        "\n",
        "# plots results and adds horizontal line at X = 98%\n",
        "plt.figure(1)\n",
        "plt.plot(EulFracX[:, 1], EulFracX[:, 0], label='$MeOH$')\n",
        "plt.axhline(y=98, color='r')\n",
        "plt.title(\"Euler methanol conversion\")\n",
        "plt.axis((0, 0.005, 0, 100))\n",
        "#plt.legend(loc='best')\n",
        "plt.grid()\n",
        "plt.xlabel(\"mass catalyst [kg]\")\n",
        "plt.ylabel (\"methanol conversion [%]\")\n",
        "\n",
        "# pEulfracX[:,5] = pEulfracX[:,5] * dens_cat * A_R\n",
        "\n",
        "# plt.figure(2)\n",
        "# plt.plot(pEulfracX[:,5], pEulfracX[:,4], label='$MeOH$')\n",
        "# plt.title(\"Euler methanol conversion\")\n",
        "# plt.axis((16.6, 16.7, 97, 100))\n",
        "# plt.legend(loc='best')\n",
        "# plt.grid()\n",
        "# plt.xlabel(\"mass catalyst [kg]\")\n",
        "# plt.ylabel (\"methanol conversion [%]\")"
      ]
    },
    {
      "cell_type": "code",
      "execution_count": null,
      "metadata": {
        "cellView": "form",
        "id": "Fm71NHMKF3KC",
        "colab": {
          "base_uri": "https://localhost:8080/"
        },
        "outputId": "60109805-42c4-40c0-c540-8289112150c8"
      },
      "outputs": [
        {
          "output_type": "execute_result",
          "data": {
            "text/plain": [
              "Text(0, 0.5, 'pressure [bar]')"
            ]
          },
          "metadata": {},
          "execution_count": 70
        },
        {
          "output_type": "display_data",
          "data": {
            "text/plain": [
              "<Figure size 640x480 with 1 Axes>"
            ],
            "image/png": "[encoded data removed]"
          },
          "metadata": {}
        }
      ],
      "source": [
        "# @title no reverse reaction comparison\n",
        "'''\n",
        "plots results of euler with and without reverse reaction\n",
        "'''\n",
        "plt.figure(1)\n",
        "plt.plot(pEul[:,5], pEul[:,0], label='$H_2$')\n",
        "plt.plot(pEul[:,5], pEul[:,1], label='$H_2O$')\n",
        "plt.plot(pEul[:,5], pEul[:,2], label='$CO$')\n",
        "plt.plot(pEul[:,5], pEul[:,3], label='$CO_2$')\n",
        "plt.plot(pEul[:,5], pEul[:,4], label='$MeOH$')\n",
        "plt.plot(pEulNoReverse[:,5], pEulNoReverse[:,0], label='$H_2$ No Rev, isoth.', linestyle='--')\n",
        "plt.plot(pEulNoReverse[:,5], pEulNoReverse[:,1], label='$H_2O$ No Rev, isoth.', linestyle='--')\n",
        "plt.plot(pEulNoReverse[:,5], pEulNoReverse[:,2], label='$CO$ No Rev, isoth.', linestyle='--')\n",
        "plt.plot(pEulNoReverse[:,5], pEulNoReverse[:,3], label='$CO_2$ No Rev, isoth.', linestyle='--')\n",
        "plt.plot(pEulNoReverse[:,5], pEulNoReverse[:,4], label='$MeOH$ No Rev, isoth.', linestyle='--')\n",
        "plt.title(\"Euler pressure\")\n",
        "plt.axis((0, 0.005, 0, 1.40))\n",
        "plt.legend(loc='best', ncol=2)\n",
        "plt.grid()\n",
        "plt.xlabel(\"mass catalyst [kg]\")\n",
        "plt.ylabel (\"pressure [bar]\")"
      ]
    },
    {
      "cell_type": "code",
      "execution_count": null,
      "metadata": {
        "cellView": "form",
        "id": "m-qlGRX1HnCd",
        "colab": {
          "base_uri": "https://localhost:8080/"
        },
        "outputId": "ffabc98b-d783-48ce-ffab-d9b78d723290"
      },
      "outputs": [
        {
          "output_type": "execute_result",
          "data": {
            "text/plain": [
              "Text(0, 0.5, 'difference [%]')"
            ]
          },
          "metadata": {},
          "execution_count": 71
        },
        {
          "output_type": "display_data",
          "data": {
            "text/plain": [
              "<Figure size 640x480 with 1 Axes>"
            ],
            "image/png": "[encoded data removed]"
          },
          "metadata": {}
        }
      ],
      "source": [
        "# @title hydrogen difference no reverse reaction\n",
        "'''\n",
        "calculates the difference of resulting pressure along the reactor axis between both reactions and omitting the reverse reaction in %\n",
        "'''\n",
        "# difference in %\n",
        "difference = (pEul[:,0]-pEulNoReverse[:,0])*100\n",
        "\n",
        "# plots difference\n",
        "plt.figure(1)\n",
        "plt.plot(pEul[:,5], difference)\n",
        "plt.title(\"Euler difference of hydrogen pressure\")\n",
        "plt.xlim(0, 0.005)\n",
        "plt.grid()\n",
        "plt.xlabel(\"mass catalyst [kg]\")\n",
        "plt.ylabel (\"difference [%]\")"
      ]
    },
    {
      "cell_type": "markdown",
      "source": [
        "# Conversion prediction"
      ],
      "metadata": {
        "id": "YObDw3vOe1p8"
      }
    },
    {
      "cell_type": "markdown",
      "source": [
        "## Initials"
      ],
      "metadata": {
        "id": "10xUmdHfgSs3"
      }
    },
    {
      "cell_type": "code",
      "source": [
        "m_cat_min = 1                           # g\n",
        "m_cat_max = 15                          # g\n",
        "\n",
        "M_In_Mid = 0.5 * (M_MeOH + M_H2O)       # g/mol\n",
        "m_in_min = 0.5                          # g/h\n",
        "n_in_min = m_in_min/M_In_Mid            # mol/h\n",
        "m_in_max = 20                           # g/h\n",
        "n_in_max = m_in_max/M_In_Mid            # mol/h\n",
        "\n",
        "T_lookup = 150 + 273                    # K\n",
        "p_in_lookup = 1                         # bar\n",
        "m_cat_steps = int(m_cat_max/m_cat_min)\n",
        "n_steps = int(m_in_max/m_in_min)\n",
        "\n",
        "n0_CO = 0                       # [kmol h^-1]\n",
        "n0_CO2 = 0                      # [kmol h^-1]\n",
        "n0_H2 = 0                       # [kmol h^-1]"
      ],
      "metadata": {
        "id": "wPtdIjjPgUwP"
      },
      "execution_count": null,
      "outputs": []
    },
    {
      "cell_type": "markdown",
      "source": [
        "## Create lookup table\n",
        "\n",
        "old calc~ 31 hours\n",
        "\n",
        "new calc with 15*20 = 300 and 2min 40s = 160s\n",
        "\n",
        "--> ~2 $\\frac{1}{s}$ frequency\n",
        "\n",
        "maybe introduce fronting of accuracy in heat duty calculation"
      ],
      "metadata": {
        "id": "KOp5zHZOe37d"
      }
    },
    {
      "cell_type": "code",
      "source": [
        "#@title create table\n",
        "\n",
        "# lookup_array = np.zeros([n_steps*m_cat_steps, 5])\n",
        "# lookup_array[:, 3] = T_lookup\n",
        "# lookup_array[:, 4] = p_in_lookup\n",
        "\n",
        "# cat_range = np.linspace(m_cat_min, m_cat_max, m_cat_steps)\n",
        "# n_in_range = np.linspace(n_in_min, n_in_max, n_steps)\n",
        "\n",
        "# for i in range (m_cat_steps):\n",
        "#     m_cat_it = cat_range[i]/1000\n",
        "#     dm_cat_model_lookup = m_cat_it/steps\n",
        "#     m_cat_model_span_lookup = np.linspace(0, m_cat_it, steps+1)\n",
        "\n",
        "#     for j in range (n_steps):\n",
        "#         n_in_it = n_in_range[j]\n",
        "#         n0_H2O = n_in_it/1000/2    # [kmol h^-1]\n",
        "#         n0_MeOH = n_in_it/1000/2   # [kmol h^-1]\n",
        "\n",
        "#         IC_lookup = np.array([n0_H2, n0_H2O, n0_CO, n0_CO2, n0_MeOH, m_cat_0])\n",
        "\n",
        "#         results = MainCalcMolFlow(IC_lookup, T_lookup, p_in_lookup, m_cat_model_span_lookup, dm_cat_model_lookup, steps, 0, a_w)\n",
        "#         X_it = (1 - results[-1, 4]/results[0, 4]) * 100\n",
        "#         lookup_array[n_steps * i + j, 0] = m_cat_it * 1000\n",
        "#         lookup_array[n_steps * i + j, 1] = n_in_it\n",
        "#         lookup_array[n_steps * i + j, 2] = X_it\n",
        "\n",
        "# lookup_df = pd.DataFrame(lookup_array, columns=['Mass catalyst [g]', 'Total inlet molar flowrate [mol/h]', 'Conversion [%]', 'Temperature [K]', 'Pressure [bar]'])"
      ],
      "metadata": {
        "id": "TaOk3hXKe0F_",
        "cellView": "form"
      },
      "execution_count": null,
      "outputs": []
    },
    {
      "cell_type": "code",
      "source": [
        "#@title write table result\n",
        "\n",
        "#lookup_df.to_csv('/content/drive/MyDrive/Colab Notebooks/Masterarbeit Colabs/Experimental data - Excel sheets/Conversion lookup table.csv', index=False)"
      ],
      "metadata": {
        "cellView": "form",
        "id": "le8JrmW-IhJz"
      },
      "execution_count": null,
      "outputs": []
    },
    {
      "cell_type": "markdown",
      "source": [
        "## Use lookup table"
      ],
      "metadata": {
        "id": "z3VBT39JWmz3"
      }
    },
    {
      "cell_type": "code",
      "source": [
        "#@title get table again\n",
        "\n",
        "filepath = '/content/drive/MyDrive/Colab Notebooks/Masterarbeit Colabs/Experimental data - Excel sheets/Conversion lookup table.csv'\n",
        "lookup_df = pd.read_csv(filepath)"
      ],
      "metadata": {
        "cellView": "form",
        "id": "9prf2VlhJBC6"
      },
      "execution_count": null,
      "outputs": []
    },
    {
      "cell_type": "code",
      "source": [
        "lookup_df['Total inlet mass flowrate [g/h]'] = lookup_df['Total inlet molar flowrate [mol/h]'] * M_In_Mid\n",
        "lookup_df"
      ],
      "metadata": {
        "colab": {
          "base_uri": "https://localhost:8080/",
          "height": 687
        },
        "id": "8GGQLoG4JjH1",
        "outputId": "5e32737c-b130-4dce-f19c-1d6e50306a76"
      },
      "execution_count": null,
      "outputs": [
        {
          "output_type": "execute_result",
          "data": {
            "text/plain": [
              "     Mass catalyst [g]  Total inlet molar flowrate [mol/h]  Conversion [%]  Temperature [K]  Pressure [bar]  Total inlet mass flowrate [g/h]\n",
              "0                  1.0                            0.019975        6.678141            423.0             1.0                              0.5\n",
              "1                  1.0                            0.039950        3.408015            423.0             1.0                              1.0\n",
              "2                  1.0                            0.059926        2.287940            423.0             1.0                              1.5\n",
              "3                  1.0                            0.079901        1.722042            423.0             1.0                              2.0\n",
              "4                  1.0                            0.099876        1.380598            423.0             1.0                              2.5\n",
              "..                 ...                                 ...             ...              ...             ...                              ...\n",
              "595               15.0                            0.719108        2.849913            423.0             1.0                             18.0\n",
              "596               15.0                            0.739084        2.774198            423.0             1.0                             18.5\n",
              "597               15.0                            0.759059        2.702403            423.0             1.0                             19.0\n",
              "598               15.0                            0.779034        2.634230            423.0             1.0                             19.5\n",
              "599               15.0                            0.799009        2.569413            423.0             1.0                             20.0\n",
              "\n",
              "[600 rows x 6 columns]"
            ],
            "text/html": [
              "\n",
              "  <div id=\"df-b9c85999-ddd0-43f7-bca2-9ce47c0b13a3\" class=\"colab-df-container\">\n",
              "    <div>\n",
              "<style scoped>\n",
              "    .dataframe tbody tr th:only-of-type {\n",
              "        vertical-align: middle;\n",
              "    }\n",
              "\n",
              "    .dataframe tbody tr th {\n",
              "        vertical-align: top;\n",
              "    }\n",
              "\n",
              "    .dataframe thead th {\n",
              "        text-align: right;\n",
              "    }\n",
              "</style>\n",
              "<table border=\"1\" class=\"dataframe\">\n",
              "  <thead>\n",
              "    <tr style=\"text-align: right;\">\n",
              "      <th></th>\n",
              "      <th>Mass catalyst [g]</th>\n",
              "      <th>Total inlet molar flowrate [mol/h]</th>\n",
              "      <th>Conversion [%]</th>\n",
              "      <th>Temperature [K]</th>\n",
              "      <th>Pressure [bar]</th>\n",
              "      <th>Total inlet mass flowrate [g/h]</th>\n",
              "    </tr>\n",
              "  </thead>\n",
              "  <tbody>\n",
              "    <tr>\n",
              "      <th>0</th>\n",
              "      <td>1.0</td>\n",
              "      <td>0.019975</td>\n",
              "      <td>6.678141</td>\n",
              "      <td>423.0</td>\n",
              "      <td>1.0</td>\n",
              "      <td>0.5</td>\n",
              "    </tr>\n",
              "    <tr>\n",
              "      <th>1</th>\n",
              "      <td>1.0</td>\n",
              "      <td>0.039950</td>\n",
              "      <td>3.408015</td>\n",
              "      <td>423.0</td>\n",
              "      <td>1.0</td>\n",
              "      <td>1.0</td>\n",
              "    </tr>\n",
              "    <tr>\n",
              "      <th>2</th>\n",
              "      <td>1.0</td>\n",
              "      <td>0.059926</td>\n",
              "      <td>2.287940</td>\n",
              "      <td>423.0</td>\n",
              "      <td>1.0</td>\n",
              "      <td>1.5</td>\n",
              "    </tr>\n",
              "    <tr>\n",
              "      <th>3</th>\n",
              "      <td>1.0</td>\n",
              "      <td>0.079901</td>\n",
              "      <td>1.722042</td>\n",
              "      <td>423.0</td>\n",
              "      <td>1.0</td>\n",
              "      <td>2.0</td>\n",
              "    </tr>\n",
              "    <tr>\n",
              "      <th>4</th>\n",
              "      <td>1.0</td>\n",
              "      <td>0.099876</td>\n",
              "      <td>1.380598</td>\n",
              "      <td>423.0</td>\n",
              "      <td>1.0</td>\n",
              "      <td>2.5</td>\n",
              "    </tr>\n",
              "    <tr>\n",
              "      <th>...</th>\n",
              "      <td>...</td>\n",
              "      <td>...</td>\n",
              "      <td>...</td>\n",
              "      <td>...</td>\n",
              "      <td>...</td>\n",
              "      <td>...</td>\n",
              "    </tr>\n",
              "    <tr>\n",
              "      <th>595</th>\n",
              "      <td>15.0</td>\n",
              "      <td>0.719108</td>\n",
              "      <td>2.849913</td>\n",
              "      <td>423.0</td>\n",
              "      <td>1.0</td>\n",
              "      <td>18.0</td>\n",
              "    </tr>\n",
              "    <tr>\n",
              "      <th>596</th>\n",
              "      <td>15.0</td>\n",
              "      <td>0.739084</td>\n",
              "      <td>2.774198</td>\n",
              "      <td>423.0</td>\n",
              "      <td>1.0</td>\n",
              "      <td>18.5</td>\n",
              "    </tr>\n",
              "    <tr>\n",
              "      <th>597</th>\n",
              "      <td>15.0</td>\n",
              "      <td>0.759059</td>\n",
              "      <td>2.702403</td>\n",
              "      <td>423.0</td>\n",
              "      <td>1.0</td>\n",
              "      <td>19.0</td>\n",
              "    </tr>\n",
              "    <tr>\n",
              "      <th>598</th>\n",
              "      <td>15.0</td>\n",
              "      <td>0.779034</td>\n",
              "      <td>2.634230</td>\n",
              "      <td>423.0</td>\n",
              "      <td>1.0</td>\n",
              "      <td>19.5</td>\n",
              "    </tr>\n",
              "    <tr>\n",
              "      <th>599</th>\n",
              "      <td>15.0</td>\n",
              "      <td>0.799009</td>\n",
              "      <td>2.569413</td>\n",
              "      <td>423.0</td>\n",
              "      <td>1.0</td>\n",
              "      <td>20.0</td>\n",
              "    </tr>\n",
              "  </tbody>\n",
              "</table>\n",
              "<p>600 rows × 6 columns</p>\n",
              "</div>\n",
              "    <div class=\"colab-df-buttons\">\n",
              "\n",
              "  <div class=\"colab-df-container\">\n",
              "    <button class=\"colab-df-convert\" onclick=\"convertToInteractive('df-b9c85999-ddd0-43f7-bca2-9ce47c0b13a3')\"\n",
              "            title=\"Convert this dataframe to an interactive table.\"\n",
              "            style=\"display:none;\">\n",
              "\n",
              "  <svg xmlns=\"http://www.w3.org/2000/svg\" height=\"24px\" viewBox=\"0 -960 960 960\">\n",
              "    <path d=\"M120-120v-720h720v720H120Zm60-500h600v-160H180v160Zm220 220h160v-160H400v160Zm0 220h160v-160H400v160ZM180-400h160v-160H180v160Zm440 0h160v-160H620v160ZM180-180h160v-160H180v160Zm440 0h160v-160H620v160Z\"/>\n",
              "  </svg>\n",
              "    </button>\n",
              "\n",
              "  <style>\n",
              "    .colab-df-container {\n",
              "      display:flex;\n",
              "      gap: 12px;\n",
              "    }\n",
              "\n",
              "    .colab-df-convert {\n",
              "      background-color: #E8F0FE;\n",
              "      border: none;\n",
              "      border-radius: 50%;\n",
              "      cursor: pointer;\n",
              "      display: none;\n",
              "      fill: #1967D2;\n",
              "      height: 32px;\n",
              "      padding: 0 0 0 0;\n",
              "      width: 32px;\n",
              "    }\n",
              "\n",
              "    .colab-df-convert:hover {\n",
              "      background-color: #E2EBFA;\n",
              "      box-shadow: 0px 1px 2px rgba(60, 64, 67, 0.3), 0px 1px 3px 1px rgba(60, 64, 67, 0.15);\n",
              "      fill: #174EA6;\n",
              "    }\n",
              "\n",
              "    .colab-df-buttons div {\n",
              "      margin-bottom: 4px;\n",
              "    }\n",
              "\n",
              "    [theme=dark] .colab-df-convert {\n",
              "      background-color: #3B4455;\n",
              "      fill: #D2E3FC;\n",
              "    }\n",
              "\n",
              "    [theme=dark] .colab-df-convert:hover {\n",
              "      background-color: #434B5C;\n",
              "      box-shadow: 0px 1px 3px 1px rgba(0, 0, 0, 0.15);\n",
              "      filter: drop-shadow(0px 1px 2px rgba(0, 0, 0, 0.3));\n",
              "      fill: #FFFFFF;\n",
              "    }\n",
              "  </style>\n",
              "\n",
              "    <script>\n",
              "      const buttonEl =\n",
              "        document.querySelector('#df-b9c85999-ddd0-43f7-bca2-9ce47c0b13a3 button.colab-df-convert');\n",
              "      buttonEl.style.display =\n",
              "        google.colab.kernel.accessAllowed ? 'block' : 'none';\n",
              "\n",
              "      async function convertToInteractive(key) {\n",
              "        const element = document.querySelector('#df-b9c85999-ddd0-43f7-bca2-9ce47c0b13a3');\n",
              "        const dataTable =\n",
              "          await google.colab.kernel.invokeFunction('convertToInteractive',\n",
              "                                                    [key], {});\n",
              "        if (!dataTable) return;\n",
              "\n",
              "        const docLinkHtml = 'Like what you see? Visit the ' +\n",
              "          '<a target=\"_blank\" href=https://colab.research.google.com/notebooks/data_table.ipynb>data table notebook</a>'\n",
              "          + ' to learn more about interactive tables.';\n",
              "        element.innerHTML = '';\n",
              "        dataTable['output_type'] = 'display_data';\n",
              "        await google.colab.output.renderOutput(dataTable, element);\n",
              "        const docLink = document.createElement('div');\n",
              "        docLink.innerHTML = docLinkHtml;\n",
              "        element.appendChild(docLink);\n",
              "      }\n",
              "    </script>\n",
              "  </div>\n",
              "\n",
              "\n",
              "<div id=\"df-0c893cbf-50a6-4623-bb24-45d0880df41f\">\n",
              "  <button class=\"colab-df-quickchart\" onclick=\"quickchart('df-0c893cbf-50a6-4623-bb24-45d0880df41f')\"\n",
              "            title=\"Suggest charts\"\n",
              "            style=\"display:none;\">\n",
              "\n",
              "<svg xmlns=\"http://www.w3.org/2000/svg\" height=\"24px\"viewBox=\"0 0 24 24\"\n",
              "     width=\"24px\">\n",
              "    <g>\n",
              "        <path d=\"M19 3H5c-1.1 0-2 .9-2 2v14c0 1.1.9 2 2 2h14c1.1 0 2-.9 2-2V5c0-1.1-.9-2-2-2zM9 17H7v-7h2v7zm4 0h-2V7h2v10zm4 0h-2v-4h2v4z\"/>\n",
              "    </g>\n",
              "</svg>\n",
              "  </button>\n",
              "\n",
              "<style>\n",
              "  .colab-df-quickchart {\n",
              "      --bg-color: #E8F0FE;\n",
              "      --fill-color: #1967D2;\n",
              "      --hover-bg-color: #E2EBFA;\n",
              "      --hover-fill-color: #174EA6;\n",
              "      --disabled-fill-color: #AAA;\n",
              "      --disabled-bg-color: #DDD;\n",
              "  }\n",
              "\n",
              "  [theme=dark] .colab-df-quickchart {\n",
              "      --bg-color: #3B4455;\n",
              "      --fill-color: #D2E3FC;\n",
              "      --hover-bg-color: #434B5C;\n",
              "      --hover-fill-color: #FFFFFF;\n",
              "      --disabled-bg-color: #3B4455;\n",
              "      --disabled-fill-color: #666;\n",
              "  }\n",
              "\n",
              "  .colab-df-quickchart {\n",
              "    background-color: var(--bg-color);\n",
              "    border: none;\n",
              "    border-radius: 50%;\n",
              "    cursor: pointer;\n",
              "    display: none;\n",
              "    fill: var(--fill-color);\n",
              "    height: 32px;\n",
              "    padding: 0;\n",
              "    width: 32px;\n",
              "  }\n",
              "\n",
              "  .colab-df-quickchart:hover {\n",
              "    background-color: var(--hover-bg-color);\n",
              "    box-shadow: 0 1px 2px rgba(60, 64, 67, 0.3), 0 1px 3px 1px rgba(60, 64, 67, 0.15);\n",
              "    fill: var(--button-hover-fill-color);\n",
              "  }\n",
              "\n",
              "  .colab-df-quickchart-complete:disabled,\n",
              "  .colab-df-quickchart-complete:disabled:hover {\n",
              "    background-color: var(--disabled-bg-color);\n",
              "    fill: var(--disabled-fill-color);\n",
              "    box-shadow: none;\n",
              "  }\n",
              "\n",
              "  .colab-df-spinner {\n",
              "    border: 2px solid var(--fill-color);\n",
              "    border-color: transparent;\n",
              "    border-bottom-color: var(--fill-color);\n",
              "    animation:\n",
              "      spin 1s steps(1) infinite;\n",
              "  }\n",
              "\n",
              "  @keyframes spin {\n",
              "    0% {\n",
              "      border-color: transparent;\n",
              "      border-bottom-color: var(--fill-color);\n",
              "      border-left-color: var(--fill-color);\n",
              "    }\n",
              "    20% {\n",
              "      border-color: transparent;\n",
              "      border-left-color: var(--fill-color);\n",
              "      border-top-color: var(--fill-color);\n",
              "    }\n",
              "    30% {\n",
              "      border-color: transparent;\n",
              "      border-left-color: var(--fill-color);\n",
              "      border-top-color: var(--fill-color);\n",
              "      border-right-color: var(--fill-color);\n",
              "    }\n",
              "    40% {\n",
              "      border-color: transparent;\n",
              "      border-right-color: var(--fill-color);\n",
              "      border-top-color: var(--fill-color);\n",
              "    }\n",
              "    60% {\n",
              "      border-color: transparent;\n",
              "      border-right-color: var(--fill-color);\n",
              "    }\n",
              "    80% {\n",
              "      border-color: transparent;\n",
              "      border-right-color: var(--fill-color);\n",
              "      border-bottom-color: var(--fill-color);\n",
              "    }\n",
              "    90% {\n",
              "      border-color: transparent;\n",
              "      border-bottom-color: var(--fill-color);\n",
              "    }\n",
              "  }\n",
              "</style>\n",
              "\n",
              "  <script>\n",
              "    async function quickchart(key) {\n",
              "      const quickchartButtonEl =\n",
              "        document.querySelector('#' + key + ' button');\n",
              "      quickchartButtonEl.disabled = true;  // To prevent multiple clicks.\n",
              "      quickchartButtonEl.classList.add('colab-df-spinner');\n",
              "      try {\n",
              "        const charts = await google.colab.kernel.invokeFunction(\n",
              "            'suggestCharts', [key], {});\n",
              "      } catch (error) {\n",
              "        console.error('Error during call to suggestCharts:', error);\n",
              "      }\n",
              "      quickchartButtonEl.classList.remove('colab-df-spinner');\n",
              "      quickchartButtonEl.classList.add('colab-df-quickchart-complete');\n",
              "    }\n",
              "    (() => {\n",
              "      let quickchartButtonEl =\n",
              "        document.querySelector('#df-0c893cbf-50a6-4623-bb24-45d0880df41f button');\n",
              "      quickchartButtonEl.style.display =\n",
              "        google.colab.kernel.accessAllowed ? 'block' : 'none';\n",
              "    })();\n",
              "  </script>\n",
              "</div>\n",
              "    </div>\n",
              "  </div>\n"
            ],
            "application/vnd.google.colaboratory.intrinsic+json": {
              "type": "dataframe",
              "variable_name": "lookup_df",
              "summary": "{\n  \"name\": \"lookup_df\",\n  \"rows\": 600,\n  \"fields\": [\n    {\n      \"column\": \"Mass catalyst [g]\",\n      \"properties\": {\n        \"dtype\": \"number\",\n        \"std\": 4.324098717211907,\n        \"min\": 1.0,\n        \"max\": 15.0,\n        \"num_unique_values\": 15,\n        \"samples\": [\n          10.0,\n          12.0,\n          1.0\n        ],\n        \"semantic_type\": \"\",\n        \"description\": \"\"\n      }\n    },\n    {\n      \"column\": \"Total inlet molar flowrate [mol/h]\",\n      \"properties\": {\n        \"dtype\": \"number\",\n        \"std\": 0.2307743981202345,\n        \"min\": 0.0199752307139147,\n        \"max\": 0.7990092285565898,\n        \"num_unique_values\": 40,\n        \"samples\": [\n          0.399504614278295,\n          0.3395789221365507,\n          0.3196036914226359\n        ],\n        \"semantic_type\": \"\",\n        \"description\": \"\"\n      }\n    },\n    {\n      \"column\": \"Conversion [%]\",\n      \"properties\": {\n        \"dtype\": \"number\",\n        \"std\": 10.0080249947287,\n        \"min\": 0.1739929652258443,\n        \"max\": 100.0,\n        \"num_unique_values\": 445,\n        \"samples\": [\n          3.994784863981649,\n          13.82848414155312,\n          0.791895772840856\n        ],\n        \"semantic_type\": \"\",\n        \"description\": \"\"\n      }\n    },\n    {\n      \"column\": \"Temperature [K]\",\n      \"properties\": {\n        \"dtype\": \"number\",\n        \"std\": 0.0,\n        \"min\": 423.0,\n        \"max\": 423.0,\n        \"num_unique_values\": 1,\n        \"samples\": [\n          423.0\n        ],\n        \"semantic_type\": \"\",\n        \"description\": \"\"\n      }\n    },\n    {\n      \"column\": \"Pressure [bar]\",\n      \"properties\": {\n        \"dtype\": \"number\",\n        \"std\": 0.0,\n        \"min\": 1.0,\n        \"max\": 1.0,\n        \"num_unique_values\": 1,\n        \"samples\": [\n          1.0\n        ],\n        \"semantic_type\": \"\",\n        \"description\": \"\"\n      }\n    },\n    {\n      \"column\": \"Total inlet mass flowrate [g/h]\",\n      \"properties\": {\n        \"dtype\": \"number\",\n        \"std\": 5.776513959347589,\n        \"min\": 0.4999999999999989,\n        \"max\": 20.0,\n        \"num_unique_values\": 40,\n        \"samples\": [\n          10.000000000000002\n        ],\n        \"semantic_type\": \"\",\n        \"description\": \"\"\n      }\n    }\n  ]\n}"
            }
          },
          "metadata": {},
          "execution_count": 280
        }
      ]
    },
    {
      "cell_type": "code",
      "source": [
        "#@title lookup function\n",
        "\n",
        "def lookup_loop (X_in, m_cat_in, n_in):\n",
        "\n",
        "    p_loop = 1\n",
        "    T_loop = 150 + 273\n",
        "    calc_cutoff = 0.01\n",
        "\n",
        "    if m_cat_in == 0:\n",
        "        #lookup_temp =\n",
        "        #IC_loop = np.array([0, n_in/2, 0, 0, n_in/2, TBD])\n",
        "        m_cat_out = 1\n",
        "\n",
        "        return m_cat_out, n_in\n",
        "\n",
        "    elif n_in == 0:\n",
        "        lookup_temp = lookup_df.loc[lookup_df['Mass catalyst [g]'] == m_cat_in]\n",
        "\n",
        "        if lookup_temp['Conversion [%]'].iat[0] < X_in:\n",
        "            p = print('Selected conversion too high for amount of catalyst')\n",
        "            return p\n",
        "\n",
        "        temploc = (lookup_temp.loc[lookup_temp['Conversion [%]'] > X_in]['Conversion [%]'] - X_in).abs().idxmin()\n",
        "        n_flow_1 = lookup_temp.at[temploc, 'Total inlet molar flowrate [mol/h]']\n",
        "        n_flow_2 = lookup_temp.at[temploc + 1, 'Total inlet molar flowrate [mol/h]']\n",
        "        n_flow_start = (n_flow_1 + n_flow_2)/2\n",
        "\n",
        "        IC_loop = np.array([0, n_flow_start/2, 0, 0, n_flow_start/2, 0])\n",
        "        m_cat_loop_span = np.linspace(0, m_cat_in, steps + 1)\n",
        "        dm_cat_loop = m_cat_in/steps\n",
        "        res_array_start = MainCalcMolFlow(IC_loop, T_loop, p_loop, m_cat_loop_span, dm_cat_loop, steps, 0, a_w)\n",
        "        X_calc = (1 - res_array_start[-1, 4]/(n_flow_start/2)) * 100\n",
        "\n",
        "        if X_calc > X_in:\n",
        "                n_1 = n_flow_start\n",
        "                n_2 = n_flow_2\n",
        "                n_3 = (n_flow_start + n_flow_2)/2\n",
        "        else:\n",
        "                n_1 = n_flow_1\n",
        "                n_2 = n_flow_start\n",
        "                n_3 = (n_flow_start + n_flow_1)/2\n",
        "\n",
        "        while abs(X_calc - X_in) > calc_cutoff:\n",
        "            IC_loop = np.array([0, n_3/2, 0, 0, n_3/2, 0])\n",
        "            res_array_start = MainCalcMolFlow(IC_loop, T_loop, p_loop, m_cat_loop_span, dm_cat_loop, steps, 0, a_w)\n",
        "            X_calc = (1 - res_array_start[-1, 4]/(n_3/2)) * 100\n",
        "            if X_calc > X_in:\n",
        "                n_1 = n_3\n",
        "                n_2 = n_2\n",
        "                n_3 = (n_3 + n_2)/2\n",
        "            else:\n",
        "                n_1 = n_1\n",
        "                n_2 = n_3\n",
        "                n_3 = (n_3 + n_1)/2\n",
        "\n",
        "        p = print('Calculated conversion: ' + str(X_calc.round(1)) + ' % \\n'\n",
        "                    'with a total inlet flowrate of ' + str((n_3*M_In_Mid).round(5)) + ' g/h \\n'\n",
        "                    'and a catalyst mass of ' + str(m_cat_in) + ' g')\n",
        "        return p"
      ],
      "metadata": {
        "id": "DNCMLjGM92a8"
      },
      "execution_count": null,
      "outputs": []
    },
    {
      "cell_type": "code",
      "source": [
        "#@title results\n",
        "\n",
        "X_lookup = 17\n",
        "m_cat_lookup = 12\n",
        "n_flow_lookup = 0\n",
        "looping = lookup_loop(X_lookup, m_cat_lookup, n_flow_lookup)\n",
        "# print('Calculated conversion: ' + str(looping[0].round(1)) + ' % \\n'\n",
        "#       'with a total inlet flowrate of ' + str(looping[1].round(5)) + ' g/h \\n'\n",
        "#       'and a catalyst mass of ' + str(looping[2]) + ' g')"
      ],
      "metadata": {
        "colab": {
          "base_uri": "https://localhost:8080/"
        },
        "id": "XyJE_qiQ-Ly4",
        "outputId": "e2b9767c-5247-454a-aeac-3bfae6efc279"
      },
      "execution_count": null,
      "outputs": [
        {
          "output_type": "stream",
          "name": "stdout",
          "text": [
            "Calculated conversion: 17.0 % \n",
            "with a total inlet flowrate of 2.20898 g/h \n",
            "and a catalyst mass of 12 g\n"
          ]
        }
      ]
    },
    {
      "cell_type": "markdown",
      "source": [
        "### testing"
      ],
      "metadata": {
        "id": "uO9rPpN7cMva"
      }
    },
    {
      "cell_type": "code",
      "source": [
        "lookup_df.loc[lookup_df['Mass catalyst [g]'] == 3]"
      ],
      "metadata": {
        "colab": {
          "base_uri": "https://localhost:8080/",
          "height": 1000
        },
        "id": "vUAVmUrAHYOn",
        "outputId": "565a9866-be6f-4af2-c83a-8fc124d2a122"
      },
      "execution_count": null,
      "outputs": [
        {
          "output_type": "execute_result",
          "data": {
            "text/plain": [
              "     Mass catalyst [g]  Total inlet molar flowrate [mol/h]  Conversion [%]  Temperature [K]  Pressure [bar]  Total inlet mass flowrate [g/h]\n",
              "80                 3.0                            0.019975       18.569350            423.0             1.0                              0.5\n",
              "81                 3.0                            0.039950        9.820914            423.0             1.0                              1.0\n",
              "82                 3.0                            0.059926        6.678141            423.0             1.0                              1.5\n",
              "83                 3.0                            0.079901        5.059605            423.0             1.0                              2.0\n",
              "84                 3.0                            0.099876        4.072701            423.0             1.0                              2.5\n",
              "85                 3.0                            0.119851        3.408015            423.0             1.0                              3.0\n",
              "86                 3.0                            0.139827        2.929878            423.0             1.0                              3.5\n",
              "87                 3.0                            0.159802        2.569413            423.0             1.0                              4.0\n",
              "88                 3.0                            0.179777        2.287940            423.0             1.0                              4.5\n",
              "89                 3.0                            0.199752        2.062055            423.0             1.0                              5.0\n",
              "90                 3.0                            0.219728        1.876770            423.0             1.0                              5.5\n",
              "91                 3.0                            0.239703        1.722042            423.0             1.0                              6.0\n",
              "92                 3.0                            0.259678        1.590888            423.0             1.0                              6.5\n",
              "93                 3.0                            0.279653        1.478300            423.0             1.0                              7.0\n",
              "94                 3.0                            0.299628        1.380598            423.0             1.0                              7.5\n",
              "95                 3.0                            0.319604        1.295012            423.0             1.0                              8.0\n",
              "96                 3.0                            0.339579        1.219419            423.0             1.0                              8.5\n",
              "97                 3.0                            0.359554        1.152167            423.0             1.0                              9.0\n",
              "98                 3.0                            0.379529        1.091946            423.0             1.0                              9.5\n",
              "99                 3.0                            0.399505        1.037709            423.0             1.0                             10.0\n",
              "100                3.0                            0.419480        0.988606            423.0             1.0                             10.5\n",
              "101                3.0                            0.439455        0.943941            423.0             1.0                             11.0\n",
              "102                3.0                            0.459430        0.903139            423.0             1.0                             11.5\n",
              "103                3.0                            0.479406        0.865718            423.0             1.0                             12.0\n",
              "104                3.0                            0.499381        0.831276            423.0             1.0                             12.5\n",
              "105                3.0                            0.519356        0.799470            423.0             1.0                             13.0\n",
              "106                3.0                            0.539331        0.770009            423.0             1.0                             13.5\n",
              "107                3.0                            0.559306        0.742643            423.0             1.0                             14.0\n",
              "108                3.0                            0.579282        0.717156            423.0             1.0                             14.5\n",
              "109                3.0                            0.599257        0.693360            423.0             1.0                             15.0\n",
              "110                3.0                            0.619232        0.671093            423.0             1.0                             15.5\n",
              "111                3.0                            0.639207        0.650213            423.0             1.0                             16.0\n",
              "112                3.0                            0.659183        0.630592            423.0             1.0                             16.5\n",
              "113                3.0                            0.679158        0.612122            423.0             1.0                             17.0\n",
              "114                3.0                            0.699133        0.594703            423.0             1.0                             17.5\n",
              "115                3.0                            0.719108        0.578248            423.0             1.0                             18.0\n",
              "116                3.0                            0.739084        0.562679            423.0             1.0                             18.5\n",
              "117                3.0                            0.759059        0.547928            423.0             1.0                             19.0\n",
              "118                3.0                            0.779034        0.533930            423.0             1.0                             19.5\n",
              "119                3.0                            0.799009        0.520629            423.0             1.0                             20.0"
            ],
            "text/html": [
              "\n",
              "  <div id=\"df-6d0af322-dae6-41ac-ad2f-e3bbe2ccff2f\" class=\"colab-df-container\">\n",
              "    <div>\n",
              "<style scoped>\n",
              "    .dataframe tbody tr th:only-of-type {\n",
              "        vertical-align: middle;\n",
              "    }\n",
              "\n",
              "    .dataframe tbody tr th {\n",
              "        vertical-align: top;\n",
              "    }\n",
              "\n",
              "    .dataframe thead th {\n",
              "        text-align: right;\n",
              "    }\n",
              "</style>\n",
              "<table border=\"1\" class=\"dataframe\">\n",
              "  <thead>\n",
              "    <tr style=\"text-align: right;\">\n",
              "      <th></th>\n",
              "      <th>Mass catalyst [g]</th>\n",
              "      <th>Total inlet molar flowrate [mol/h]</th>\n",
              "      <th>Conversion [%]</th>\n",
              "      <th>Temperature [K]</th>\n",
              "      <th>Pressure [bar]</th>\n",
              "      <th>Total inlet mass flowrate [g/h]</th>\n",
              "    </tr>\n",
              "  </thead>\n",
              "  <tbody>\n",
              "    <tr>\n",
              "      <th>80</th>\n",
              "      <td>3.0</td>\n",
              "      <td>0.019975</td>\n",
              "      <td>18.569350</td>\n",
              "      <td>423.0</td>\n",
              "      <td>1.0</td>\n",
              "      <td>0.5</td>\n",
              "    </tr>\n",
              "    <tr>\n",
              "      <th>81</th>\n",
              "      <td>3.0</td>\n",
              "      <td>0.039950</td>\n",
              "      <td>9.820914</td>\n",
              "      <td>423.0</td>\n",
              "      <td>1.0</td>\n",
              "      <td>1.0</td>\n",
              "    </tr>\n",
              "    <tr>\n",
              "      <th>82</th>\n",
              "      <td>3.0</td>\n",
              "      <td>0.059926</td>\n",
              "      <td>6.678141</td>\n",
              "      <td>423.0</td>\n",
              "      <td>1.0</td>\n",
              "      <td>1.5</td>\n",
              "    </tr>\n",
              "    <tr>\n",
              "      <th>83</th>\n",
              "      <td>3.0</td>\n",
              "      <td>0.079901</td>\n",
              "      <td>5.059605</td>\n",
              "      <td>423.0</td>\n",
              "      <td>1.0</td>\n",
              "      <td>2.0</td>\n",
              "    </tr>\n",
              "    <tr>\n",
              "      <th>84</th>\n",
              "      <td>3.0</td>\n",
              "      <td>0.099876</td>\n",
              "      <td>4.072701</td>\n",
              "      <td>423.0</td>\n",
              "      <td>1.0</td>\n",
              "      <td>2.5</td>\n",
              "    </tr>\n",
              "    <tr>\n",
              "      <th>85</th>\n",
              "      <td>3.0</td>\n",
              "      <td>0.119851</td>\n",
              "      <td>3.408015</td>\n",
              "      <td>423.0</td>\n",
              "      <td>1.0</td>\n",
              "      <td>3.0</td>\n",
              "    </tr>\n",
              "    <tr>\n",
              "      <th>86</th>\n",
              "      <td>3.0</td>\n",
              "      <td>0.139827</td>\n",
              "      <td>2.929878</td>\n",
              "      <td>423.0</td>\n",
              "      <td>1.0</td>\n",
              "      <td>3.5</td>\n",
              "    </tr>\n",
              "    <tr>\n",
              "      <th>87</th>\n",
              "      <td>3.0</td>\n",
              "      <td>0.159802</td>\n",
              "      <td>2.569413</td>\n",
              "      <td>423.0</td>\n",
              "      <td>1.0</td>\n",
              "      <td>4.0</td>\n",
              "    </tr>\n",
              "    <tr>\n",
              "      <th>88</th>\n",
              "      <td>3.0</td>\n",
              "      <td>0.179777</td>\n",
              "      <td>2.287940</td>\n",
              "      <td>423.0</td>\n",
              "      <td>1.0</td>\n",
              "      <td>4.5</td>\n",
              "    </tr>\n",
              "    <tr>\n",
              "      <th>89</th>\n",
              "      <td>3.0</td>\n",
              "      <td>0.199752</td>\n",
              "      <td>2.062055</td>\n",
              "      <td>423.0</td>\n",
              "      <td>1.0</td>\n",
              "      <td>5.0</td>\n",
              "    </tr>\n",
              "    <tr>\n",
              "      <th>90</th>\n",
              "      <td>3.0</td>\n",
              "      <td>0.219728</td>\n",
              "      <td>1.876770</td>\n",
              "      <td>423.0</td>\n",
              "      <td>1.0</td>\n",
              "      <td>5.5</td>\n",
              "    </tr>\n",
              "    <tr>\n",
              "      <th>91</th>\n",
              "      <td>3.0</td>\n",
              "      <td>0.239703</td>\n",
              "      <td>1.722042</td>\n",
              "      <td>423.0</td>\n",
              "      <td>1.0</td>\n",
              "      <td>6.0</td>\n",
              "    </tr>\n",
              "    <tr>\n",
              "      <th>92</th>\n",
              "      <td>3.0</td>\n",
              "      <td>0.259678</td>\n",
              "      <td>1.590888</td>\n",
              "      <td>423.0</td>\n",
              "      <td>1.0</td>\n",
              "      <td>6.5</td>\n",
              "    </tr>\n",
              "    <tr>\n",
              "      <th>93</th>\n",
              "      <td>3.0</td>\n",
              "      <td>0.279653</td>\n",
              "      <td>1.478300</td>\n",
              "      <td>423.0</td>\n",
              "      <td>1.0</td>\n",
              "      <td>7.0</td>\n",
              "    </tr>\n",
              "    <tr>\n",
              "      <th>94</th>\n",
              "      <td>3.0</td>\n",
              "      <td>0.299628</td>\n",
              "      <td>1.380598</td>\n",
              "      <td>423.0</td>\n",
              "      <td>1.0</td>\n",
              "      <td>7.5</td>\n",
              "    </tr>\n",
              "    <tr>\n",
              "      <th>95</th>\n",
              "      <td>3.0</td>\n",
              "      <td>0.319604</td>\n",
              "      <td>1.295012</td>\n",
              "      <td>423.0</td>\n",
              "      <td>1.0</td>\n",
              "      <td>8.0</td>\n",
              "    </tr>\n",
              "    <tr>\n",
              "      <th>96</th>\n",
              "      <td>3.0</td>\n",
              "      <td>0.339579</td>\n",
              "      <td>1.219419</td>\n",
              "      <td>423.0</td>\n",
              "      <td>1.0</td>\n",
              "      <td>8.5</td>\n",
              "    </tr>\n",
              "    <tr>\n",
              "      <th>97</th>\n",
              "      <td>3.0</td>\n",
              "      <td>0.359554</td>\n",
              "      <td>1.152167</td>\n",
              "      <td>423.0</td>\n",
              "      <td>1.0</td>\n",
              "      <td>9.0</td>\n",
              "    </tr>\n",
              "    <tr>\n",
              "      <th>98</th>\n",
              "      <td>3.0</td>\n",
              "      <td>0.379529</td>\n",
              "      <td>1.091946</td>\n",
              "      <td>423.0</td>\n",
              "      <td>1.0</td>\n",
              "      <td>9.5</td>\n",
              "    </tr>\n",
              "    <tr>\n",
              "      <th>99</th>\n",
              "      <td>3.0</td>\n",
              "      <td>0.399505</td>\n",
              "      <td>1.037709</td>\n",
              "      <td>423.0</td>\n",
              "      <td>1.0</td>\n",
              "      <td>10.0</td>\n",
              "    </tr>\n",
              "    <tr>\n",
              "      <th>100</th>\n",
              "      <td>3.0</td>\n",
              "      <td>0.419480</td>\n",
              "      <td>0.988606</td>\n",
              "      <td>423.0</td>\n",
              "      <td>1.0</td>\n",
              "      <td>10.5</td>\n",
              "    </tr>\n",
              "    <tr>\n",
              "      <th>101</th>\n",
              "      <td>3.0</td>\n",
              "      <td>0.439455</td>\n",
              "      <td>0.943941</td>\n",
              "      <td>423.0</td>\n",
              "      <td>1.0</td>\n",
              "      <td>11.0</td>\n",
              "    </tr>\n",
              "    <tr>\n",
              "      <th>102</th>\n",
              "      <td>3.0</td>\n",
              "      <td>0.459430</td>\n",
              "      <td>0.903139</td>\n",
              "      <td>423.0</td>\n",
              "      <td>1.0</td>\n",
              "      <td>11.5</td>\n",
              "    </tr>\n",
              "    <tr>\n",
              "      <th>103</th>\n",
              "      <td>3.0</td>\n",
              "      <td>0.479406</td>\n",
              "      <td>0.865718</td>\n",
              "      <td>423.0</td>\n",
              "      <td>1.0</td>\n",
              "      <td>12.0</td>\n",
              "    </tr>\n",
              "    <tr>\n",
              "      <th>104</th>\n",
              "      <td>3.0</td>\n",
              "      <td>0.499381</td>\n",
              "      <td>0.831276</td>\n",
              "      <td>423.0</td>\n",
              "      <td>1.0</td>\n",
              "      <td>12.5</td>\n",
              "    </tr>\n",
              "    <tr>\n",
              "      <th>105</th>\n",
              "      <td>3.0</td>\n",
              "      <td>0.519356</td>\n",
              "      <td>0.799470</td>\n",
              "      <td>423.0</td>\n",
              "      <td>1.0</td>\n",
              "      <td>13.0</td>\n",
              "    </tr>\n",
              "    <tr>\n",
              "      <th>106</th>\n",
              "      <td>3.0</td>\n",
              "      <td>0.539331</td>\n",
              "      <td>0.770009</td>\n",
              "      <td>423.0</td>\n",
              "      <td>1.0</td>\n",
              "      <td>13.5</td>\n",
              "    </tr>\n",
              "    <tr>\n",
              "      <th>107</th>\n",
              "      <td>3.0</td>\n",
              "      <td>0.559306</td>\n",
              "      <td>0.742643</td>\n",
              "      <td>423.0</td>\n",
              "      <td>1.0</td>\n",
              "      <td>14.0</td>\n",
              "    </tr>\n",
              "    <tr>\n",
              "      <th>108</th>\n",
              "      <td>3.0</td>\n",
              "      <td>0.579282</td>\n",
              "      <td>0.717156</td>\n",
              "      <td>423.0</td>\n",
              "      <td>1.0</td>\n",
              "      <td>14.5</td>\n",
              "    </tr>\n",
              "    <tr>\n",
              "      <th>109</th>\n",
              "      <td>3.0</td>\n",
              "      <td>0.599257</td>\n",
              "      <td>0.693360</td>\n",
              "      <td>423.0</td>\n",
              "      <td>1.0</td>\n",
              "      <td>15.0</td>\n",
              "    </tr>\n",
              "    <tr>\n",
              "      <th>110</th>\n",
              "      <td>3.0</td>\n",
              "      <td>0.619232</td>\n",
              "      <td>0.671093</td>\n",
              "      <td>423.0</td>\n",
              "      <td>1.0</td>\n",
              "      <td>15.5</td>\n",
              "    </tr>\n",
              "    <tr>\n",
              "      <th>111</th>\n",
              "      <td>3.0</td>\n",
              "      <td>0.639207</td>\n",
              "      <td>0.650213</td>\n",
              "      <td>423.0</td>\n",
              "      <td>1.0</td>\n",
              "      <td>16.0</td>\n",
              "    </tr>\n",
              "    <tr>\n",
              "      <th>112</th>\n",
              "      <td>3.0</td>\n",
              "      <td>0.659183</td>\n",
              "      <td>0.630592</td>\n",
              "      <td>423.0</td>\n",
              "      <td>1.0</td>\n",
              "      <td>16.5</td>\n",
              "    </tr>\n",
              "    <tr>\n",
              "      <th>113</th>\n",
              "      <td>3.0</td>\n",
              "      <td>0.679158</td>\n",
              "      <td>0.612122</td>\n",
              "      <td>423.0</td>\n",
              "      <td>1.0</td>\n",
              "      <td>17.0</td>\n",
              "    </tr>\n",
              "    <tr>\n",
              "      <th>114</th>\n",
              "      <td>3.0</td>\n",
              "      <td>0.699133</td>\n",
              "      <td>0.594703</td>\n",
              "      <td>423.0</td>\n",
              "      <td>1.0</td>\n",
              "      <td>17.5</td>\n",
              "    </tr>\n",
              "    <tr>\n",
              "      <th>115</th>\n",
              "      <td>3.0</td>\n",
              "      <td>0.719108</td>\n",
              "      <td>0.578248</td>\n",
              "      <td>423.0</td>\n",
              "      <td>1.0</td>\n",
              "      <td>18.0</td>\n",
              "    </tr>\n",
              "    <tr>\n",
              "      <th>116</th>\n",
              "      <td>3.0</td>\n",
              "      <td>0.739084</td>\n",
              "      <td>0.562679</td>\n",
              "      <td>423.0</td>\n",
              "      <td>1.0</td>\n",
              "      <td>18.5</td>\n",
              "    </tr>\n",
              "    <tr>\n",
              "      <th>117</th>\n",
              "      <td>3.0</td>\n",
              "      <td>0.759059</td>\n",
              "      <td>0.547928</td>\n",
              "      <td>423.0</td>\n",
              "      <td>1.0</td>\n",
              "      <td>19.0</td>\n",
              "    </tr>\n",
              "    <tr>\n",
              "      <th>118</th>\n",
              "      <td>3.0</td>\n",
              "      <td>0.779034</td>\n",
              "      <td>0.533930</td>\n",
              "      <td>423.0</td>\n",
              "      <td>1.0</td>\n",
              "      <td>19.5</td>\n",
              "    </tr>\n",
              "    <tr>\n",
              "      <th>119</th>\n",
              "      <td>3.0</td>\n",
              "      <td>0.799009</td>\n",
              "      <td>0.520629</td>\n",
              "      <td>423.0</td>\n",
              "      <td>1.0</td>\n",
              "      <td>20.0</td>\n",
              "    </tr>\n",
              "  </tbody>\n",
              "</table>\n",
              "</div>\n",
              "    <div class=\"colab-df-buttons\">\n",
              "\n",
              "  <div class=\"colab-df-container\">\n",
              "    <button class=\"colab-df-convert\" onclick=\"convertToInteractive('df-6d0af322-dae6-41ac-ad2f-e3bbe2ccff2f')\"\n",
              "            title=\"Convert this dataframe to an interactive table.\"\n",
              "            style=\"display:none;\">\n",
              "\n",
              "  <svg xmlns=\"http://www.w3.org/2000/svg\" height=\"24px\" viewBox=\"0 -960 960 960\">\n",
              "    <path d=\"M120-120v-720h720v720H120Zm60-500h600v-160H180v160Zm220 220h160v-160H400v160Zm0 220h160v-160H400v160ZM180-400h160v-160H180v160Zm440 0h160v-160H620v160ZM180-180h160v-160H180v160Zm440 0h160v-160H620v160Z\"/>\n",
              "  </svg>\n",
              "    </button>\n",
              "\n",
              "  <style>\n",
              "    .colab-df-container {\n",
              "      display:flex;\n",
              "      gap: 12px;\n",
              "    }\n",
              "\n",
              "    .colab-df-convert {\n",
              "      background-color: #E8F0FE;\n",
              "      border: none;\n",
              "      border-radius: 50%;\n",
              "      cursor: pointer;\n",
              "      display: none;\n",
              "      fill: #1967D2;\n",
              "      height: 32px;\n",
              "      padding: 0 0 0 0;\n",
              "      width: 32px;\n",
              "    }\n",
              "\n",
              "    .colab-df-convert:hover {\n",
              "      background-color: #E2EBFA;\n",
              "      box-shadow: 0px 1px 2px rgba(60, 64, 67, 0.3), 0px 1px 3px 1px rgba(60, 64, 67, 0.15);\n",
              "      fill: #174EA6;\n",
              "    }\n",
              "\n",
              "    .colab-df-buttons div {\n",
              "      margin-bottom: 4px;\n",
              "    }\n",
              "\n",
              "    [theme=dark] .colab-df-convert {\n",
              "      background-color: #3B4455;\n",
              "      fill: #D2E3FC;\n",
              "    }\n",
              "\n",
              "    [theme=dark] .colab-df-convert:hover {\n",
              "      background-color: #434B5C;\n",
              "      box-shadow: 0px 1px 3px 1px rgba(0, 0, 0, 0.15);\n",
              "      filter: drop-shadow(0px 1px 2px rgba(0, 0, 0, 0.3));\n",
              "      fill: #FFFFFF;\n",
              "    }\n",
              "  </style>\n",
              "\n",
              "    <script>\n",
              "      const buttonEl =\n",
              "        document.querySelector('#df-6d0af322-dae6-41ac-ad2f-e3bbe2ccff2f button.colab-df-convert');\n",
              "      buttonEl.style.display =\n",
              "        google.colab.kernel.accessAllowed ? 'block' : 'none';\n",
              "\n",
              "      async function convertToInteractive(key) {\n",
              "        const element = document.querySelector('#df-6d0af322-dae6-41ac-ad2f-e3bbe2ccff2f');\n",
              "        const dataTable =\n",
              "          await google.colab.kernel.invokeFunction('convertToInteractive',\n",
              "                                                    [key], {});\n",
              "        if (!dataTable) return;\n",
              "\n",
              "        const docLinkHtml = 'Like what you see? Visit the ' +\n",
              "          '<a target=\"_blank\" href=https://colab.research.google.com/notebooks/data_table.ipynb>data table notebook</a>'\n",
              "          + ' to learn more about interactive tables.';\n",
              "        element.innerHTML = '';\n",
              "        dataTable['output_type'] = 'display_data';\n",
              "        await google.colab.output.renderOutput(dataTable, element);\n",
              "        const docLink = document.createElement('div');\n",
              "        docLink.innerHTML = docLinkHtml;\n",
              "        element.appendChild(docLink);\n",
              "      }\n",
              "    </script>\n",
              "  </div>\n",
              "\n",
              "\n",
              "<div id=\"df-b0a6b696-9cf6-4490-bfd0-81373b06b6e6\">\n",
              "  <button class=\"colab-df-quickchart\" onclick=\"quickchart('df-b0a6b696-9cf6-4490-bfd0-81373b06b6e6')\"\n",
              "            title=\"Suggest charts\"\n",
              "            style=\"display:none;\">\n",
              "\n",
              "<svg xmlns=\"http://www.w3.org/2000/svg\" height=\"24px\"viewBox=\"0 0 24 24\"\n",
              "     width=\"24px\">\n",
              "    <g>\n",
              "        <path d=\"M19 3H5c-1.1 0-2 .9-2 2v14c0 1.1.9 2 2 2h14c1.1 0 2-.9 2-2V5c0-1.1-.9-2-2-2zM9 17H7v-7h2v7zm4 0h-2V7h2v10zm4 0h-2v-4h2v4z\"/>\n",
              "    </g>\n",
              "</svg>\n",
              "  </button>\n",
              "\n",
              "<style>\n",
              "  .colab-df-quickchart {\n",
              "      --bg-color: #E8F0FE;\n",
              "      --fill-color: #1967D2;\n",
              "      --hover-bg-color: #E2EBFA;\n",
              "      --hover-fill-color: #174EA6;\n",
              "      --disabled-fill-color: #AAA;\n",
              "      --disabled-bg-color: #DDD;\n",
              "  }\n",
              "\n",
              "  [theme=dark] .colab-df-quickchart {\n",
              "      --bg-color: #3B4455;\n",
              "      --fill-color: #D2E3FC;\n",
              "      --hover-bg-color: #434B5C;\n",
              "      --hover-fill-color: #FFFFFF;\n",
              "      --disabled-bg-color: #3B4455;\n",
              "      --disabled-fill-color: #666;\n",
              "  }\n",
              "\n",
              "  .colab-df-quickchart {\n",
              "    background-color: var(--bg-color);\n",
              "    border: none;\n",
              "    border-radius: 50%;\n",
              "    cursor: pointer;\n",
              "    display: none;\n",
              "    fill: var(--fill-color);\n",
              "    height: 32px;\n",
              "    padding: 0;\n",
              "    width: 32px;\n",
              "  }\n",
              "\n",
              "  .colab-df-quickchart:hover {\n",
              "    background-color: var(--hover-bg-color);\n",
              "    box-shadow: 0 1px 2px rgba(60, 64, 67, 0.3), 0 1px 3px 1px rgba(60, 64, 67, 0.15);\n",
              "    fill: var(--button-hover-fill-color);\n",
              "  }\n",
              "\n",
              "  .colab-df-quickchart-complete:disabled,\n",
              "  .colab-df-quickchart-complete:disabled:hover {\n",
              "    background-color: var(--disabled-bg-color);\n",
              "    fill: var(--disabled-fill-color);\n",
              "    box-shadow: none;\n",
              "  }\n",
              "\n",
              "  .colab-df-spinner {\n",
              "    border: 2px solid var(--fill-color);\n",
              "    border-color: transparent;\n",
              "    border-bottom-color: var(--fill-color);\n",
              "    animation:\n",
              "      spin 1s steps(1) infinite;\n",
              "  }\n",
              "\n",
              "  @keyframes spin {\n",
              "    0% {\n",
              "      border-color: transparent;\n",
              "      border-bottom-color: var(--fill-color);\n",
              "      border-left-color: var(--fill-color);\n",
              "    }\n",
              "    20% {\n",
              "      border-color: transparent;\n",
              "      border-left-color: var(--fill-color);\n",
              "      border-top-color: var(--fill-color);\n",
              "    }\n",
              "    30% {\n",
              "      border-color: transparent;\n",
              "      border-left-color: var(--fill-color);\n",
              "      border-top-color: var(--fill-color);\n",
              "      border-right-color: var(--fill-color);\n",
              "    }\n",
              "    40% {\n",
              "      border-color: transparent;\n",
              "      border-right-color: var(--fill-color);\n",
              "      border-top-color: var(--fill-color);\n",
              "    }\n",
              "    60% {\n",
              "      border-color: transparent;\n",
              "      border-right-color: var(--fill-color);\n",
              "    }\n",
              "    80% {\n",
              "      border-color: transparent;\n",
              "      border-right-color: var(--fill-color);\n",
              "      border-bottom-color: var(--fill-color);\n",
              "    }\n",
              "    90% {\n",
              "      border-color: transparent;\n",
              "      border-bottom-color: var(--fill-color);\n",
              "    }\n",
              "  }\n",
              "</style>\n",
              "\n",
              "  <script>\n",
              "    async function quickchart(key) {\n",
              "      const quickchartButtonEl =\n",
              "        document.querySelector('#' + key + ' button');\n",
              "      quickchartButtonEl.disabled = true;  // To prevent multiple clicks.\n",
              "      quickchartButtonEl.classList.add('colab-df-spinner');\n",
              "      try {\n",
              "        const charts = await google.colab.kernel.invokeFunction(\n",
              "            'suggestCharts', [key], {});\n",
              "      } catch (error) {\n",
              "        console.error('Error during call to suggestCharts:', error);\n",
              "      }\n",
              "      quickchartButtonEl.classList.remove('colab-df-spinner');\n",
              "      quickchartButtonEl.classList.add('colab-df-quickchart-complete');\n",
              "    }\n",
              "    (() => {\n",
              "      let quickchartButtonEl =\n",
              "        document.querySelector('#df-b0a6b696-9cf6-4490-bfd0-81373b06b6e6 button');\n",
              "      quickchartButtonEl.style.display =\n",
              "        google.colab.kernel.accessAllowed ? 'block' : 'none';\n",
              "    })();\n",
              "  </script>\n",
              "</div>\n",
              "    </div>\n",
              "  </div>\n"
            ],
            "application/vnd.google.colaboratory.intrinsic+json": {
              "type": "dataframe",
              "summary": "{\n  \"name\": \"lookup_df\",\n  \"rows\": 40,\n  \"fields\": [\n    {\n      \"column\": \"Mass catalyst [g]\",\n      \"properties\": {\n        \"dtype\": \"number\",\n        \"std\": 0.0,\n        \"min\": 3.0,\n        \"max\": 3.0,\n        \"num_unique_values\": 1,\n        \"samples\": [\n          3.0\n        ],\n        \"semantic_type\": \"\",\n        \"description\": \"\"\n      }\n    },\n    {\n      \"column\": \"Total inlet molar flowrate [mol/h]\",\n      \"properties\": {\n        \"dtype\": \"number\",\n        \"std\": 0.2335194747413232,\n        \"min\": 0.0199752307139147,\n        \"max\": 0.7990092285565898,\n        \"num_unique_values\": 40,\n        \"samples\": [\n          0.399504614278295\n        ],\n        \"semantic_type\": \"\",\n        \"description\": \"\"\n      }\n    },\n    {\n      \"column\": \"Conversion [%]\",\n      \"properties\": {\n        \"dtype\": \"number\",\n        \"std\": 3.2503897075691883,\n        \"min\": 0.5206291101208516,\n        \"max\": 18.569349965618358,\n        \"num_unique_values\": 40,\n        \"samples\": [\n          1.0377091172890096\n        ],\n        \"semantic_type\": \"\",\n        \"description\": \"\"\n      }\n    },\n    {\n      \"column\": \"Temperature [K]\",\n      \"properties\": {\n        \"dtype\": \"number\",\n        \"std\": 0.0,\n        \"min\": 423.0,\n        \"max\": 423.0,\n        \"num_unique_values\": 1,\n        \"samples\": [\n          423.0\n        ],\n        \"semantic_type\": \"\",\n        \"description\": \"\"\n      }\n    },\n    {\n      \"column\": \"Pressure [bar]\",\n      \"properties\": {\n        \"dtype\": \"number\",\n        \"std\": 0.0,\n        \"min\": 1.0,\n        \"max\": 1.0,\n        \"num_unique_values\": 1,\n        \"samples\": [\n          1.0\n        ],\n        \"semantic_type\": \"\",\n        \"description\": \"\"\n      }\n    },\n    {\n      \"column\": \"Total inlet mass flowrate [g/h]\",\n      \"properties\": {\n        \"dtype\": \"number\",\n        \"std\": 5.845225972250061,\n        \"min\": 0.4999999999999989,\n        \"max\": 20.0,\n        \"num_unique_values\": 40,\n        \"samples\": [\n          10.000000000000002\n        ],\n        \"semantic_type\": \"\",\n        \"description\": \"\"\n      }\n    }\n  ]\n}"
            }
          },
          "metadata": {},
          "execution_count": 283
        }
      ]
    },
    {
      "cell_type": "code",
      "source": [
        "cond = 10\n",
        "cond2 = 0.48\n",
        "fhg = lookup_df.loc[(lookup_df['Mass catalyst [g]'] - cond).abs().min()]\n",
        "fhg"
      ],
      "metadata": {
        "colab": {
          "base_uri": "https://localhost:8080/"
        },
        "id": "6PsEE_mg_GGc",
        "outputId": "bf4e5f74-7404-48db-fa7e-ef1dd9c35e14"
      },
      "execution_count": null,
      "outputs": [
        {
          "output_type": "execute_result",
          "data": {
            "text/plain": [
              "Mass catalyst [g]                       1.000000\n",
              "Total inlet molar flowrate [mol/h]      0.019975\n",
              "Conversion [%]                          6.678141\n",
              "Temperature [K]                       423.000000\n",
              "Pressure [bar]                          1.000000\n",
              "Total inlet mass flowrate [g/h]         0.500000\n",
              "Name: 0, dtype: float64"
            ]
          },
          "metadata": {},
          "execution_count": 284
        }
      ]
    },
    {
      "cell_type": "markdown",
      "source": [
        "## Plots"
      ],
      "metadata": {
        "id": "kt2ztiYDHlam"
      }
    },
    {
      "cell_type": "code",
      "source": [
        "plt.scatter(lookup_df['Total inlet molar flowrate [mol/h]'], lookup_df['Conversion [%]'])"
      ],
      "metadata": {
        "colab": {
          "base_uri": "https://localhost:8080/",
          "height": 447
        },
        "id": "p9_L6UC4FHGu",
        "outputId": "e75b1dbb-2eef-423b-c7f4-52ef40085325"
      },
      "execution_count": null,
      "outputs": [
        {
          "output_type": "execute_result",
          "data": {
            "text/plain": [
              "<matplotlib.collections.PathCollection at 0x79e219071270>"
            ]
          },
          "metadata": {},
          "execution_count": 287
        },
        {
          "output_type": "display_data",
          "data": {
            "text/plain": [
              "<Figure size 640x480 with 1 Axes>"
            ],
            "image/png": "[encoded data removed]"
          },
          "metadata": {}
        }
      ]
    },
    {
      "cell_type": "code",
      "source": [
        "plt.scatter(lookup_df['Mass catalyst [g]'], lookup_df['Conversion [%]'])"
      ],
      "metadata": {
        "colab": {
          "base_uri": "https://localhost:8080/",
          "height": 447
        },
        "id": "0hAo1DYlHUdv",
        "outputId": "bda8649f-faa6-4f99-9b36-43c180510d05"
      },
      "execution_count": null,
      "outputs": [
        {
          "output_type": "execute_result",
          "data": {
            "text/plain": [
              "<matplotlib.collections.PathCollection at 0x79e217e44c10>"
            ]
          },
          "metadata": {},
          "execution_count": 288
        },
        {
          "output_type": "display_data",
          "data": {
            "text/plain": [
              "<Figure size 640x480 with 1 Axes>"
            ],
            "image/png": "[encoded data removed]"
          },
          "metadata": {}
        }
      ]
    }
  ],
  "metadata": {
    "colab": {
      "collapsed_sections": [
        "ni76wGgCd-5X",
        "IzTI73zHjPUx",
        "ObCpMvpiVNoM",
        "ewE1wq3cizlv",
        "8OgQ5beXBClF",
        "YTEZZIhnVcIH",
        "PrPBT77z5s1_",
        "10xUmdHfgSs3",
        "uO9rPpN7cMva"
      ],
      "provenance": [],
      "mount_file_id": "1UFBuctabX1UGF59A-DEMGGIEVhrEQcIZ",
      "authorship_tag": "ABX9TyNVGuMLW8ckZ5f2AHY3P4nV",
      "include_colab_link": true
    },
    "kernelspec": {
      "display_name": "Python 3",
      "name": "python3"
    },
    "language_info": {
      "name": "python"
    }
  },
  "nbformat": 4,
  "nbformat_minor": 0
}