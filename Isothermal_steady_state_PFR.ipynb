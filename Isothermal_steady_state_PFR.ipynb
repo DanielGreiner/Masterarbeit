{
  "nbformat": 4,
  "nbformat_minor": 0,
  "metadata": {
    "colab": {
      "provenance": [],
      "collapsed_sections": [
        "ni76wGgCd-5X",
        "IzTI73zHjPUx",
        "ewE1wq3cizlv",
        "e-tcmYniUjlB"
      ],
      "authorship_tag": "ABX9TyMFOsz8ub6x6bxHl7Js6r3U",
      "include_colab_link": true
    },
    "kernelspec": {
      "name": "python3",
      "display_name": "Python 3"
    },
    "language_info": {
      "name": "python"
    }
  },
  "cells": [
    {
      "cell_type": "markdown",
      "metadata": {
        "id": "view-in-github",
        "colab_type": "text"
      },
      "source": [
        "<a href=\"https://colab.research.google.com/github/DanielGreiner/Masterarbeit/blob/main/Isothermal_steady_state_PFR.ipynb\" target=\"_parent\"><img src=\"https://colab.research.google.com/assets/colab-badge.svg\" alt=\"Open In Colab\"/></a>"
      ]
    },
    {
      "cell_type": "markdown",
      "metadata": {
        "id": "ni76wGgCd-5X"
      },
      "source": [
        "# load libraries"
      ]
    },
    {
      "cell_type": "code",
      "source": [
        "# @title import libraries\n",
        "import tensorflow as tf\n",
        "import numpy as np\n",
        "import pandas as pd\n",
        "import matplotlib.pyplot as plt\n",
        "#import torch as to\n",
        "from scipy.integrate import odeint"
      ],
      "metadata": {
        "cellView": "form",
        "id": "FF8maq9Biilj"
      },
      "execution_count": 37,
      "outputs": []
    },
    {
      "cell_type": "code",
      "source": [
        "# @title check library versions\n",
        "print(\"tensorflow:\" + str(tf.__version__))\n",
        "print(\"numpy:\" + str(np.__version__))\n",
        "print(\"pandas:\" + str(pd.__version__))\n",
        "#print(\"torch:\" + str(to.__version__))"
      ],
      "metadata": {
        "cellView": "form",
        "id": "ye8T1D2Yijh0",
        "colab": {
          "base_uri": "https://localhost:8080/"
        },
        "outputId": "143cdf19-60cd-4a3c-833b-6dd0d2c3c281"
      },
      "execution_count": 38,
      "outputs": [
        {
          "output_type": "stream",
          "name": "stdout",
          "text": [
            "tensorflow:2.13.0\n",
            "numpy:1.23.5\n",
            "pandas:1.5.3\n"
          ]
        }
      ]
    },
    {
      "cell_type": "markdown",
      "source": [
        "# reactions\n",
        "\n",
        "  \\begin{array}{lll}\n",
        "  \\text{Methanol steam reforming (MSR):}&\\kern 3pc CH_3OH_{(g)}+H_2O_{(g)}\\kern 0.5pc{\\overset{k_{1, eff}}{\\rightleftharpoons}}\\kern 0.5pc 3H_{2(g)}+CO_{2(g)}&\\kern 3pc\\Delta_r H_{m}^{o}= + 49\\enspace \\frac{kJ}{mol} \\\\\n",
        "  \\text{Methanol decomposition (MD):}&\\kern 3pc CH_3OH_{(g)}\\kern 0.5pc {\\overset{k_{2, eff}}{\\rightleftharpoons}}\\kern 0.5pc 2H_{2(g)}+CO_{(g)}&\\kern 3pc\\Delta_r H_{m}^{o}= + 91\\enspace \\frac{kJ}{mol} \\\\\n",
        "  \\text{Water gas shift (WGS):}&\\kern 3pc CO_{(g)}+H_2O_{(g)}\\kern 0.5pc{\\overset{k_{3, eff}}{\\rightleftharpoons}}\\kern 0.5pc H_{2(g)}+CO_{2(g)}&\\kern 3pc\\Delta_r H_{m}^{o}= - 41\\enspace \\frac{kJ}{mol}\n",
        "  \\end{array}\n"
      ],
      "metadata": {
        "id": "CqJKAvaDjhMS"
      }
    },
    {
      "cell_type": "markdown",
      "source": [
        "# setup\n",
        "\n",
        "**Indexing in arrays:**\n",
        "\n",
        "\\begin{array}{lllll}\n",
        "H_2 & H_2O & CO & CO_2 & CH_3OH \\\\\n",
        "0 & 1 & 2 & 3 & 4 \\\\\n",
        "\\end{array}"
      ],
      "metadata": {
        "id": "IzTI73zHjPUx"
      }
    },
    {
      "cell_type": "code",
      "source": [
        "# @title reactor constants\n",
        "\n",
        "'''\n",
        "Define all reactor specific constants and calculate size of finite differential for numerical integration\n",
        "'''\n",
        "\n",
        "u = 1.500               # flow velocity [a.u.]\n",
        "A = 3*10**-3            # crossectional area [a.u.]\n",
        "VFlow = u*A             # volumetric flowrate [a.u.]\n",
        "Vges = 50               # total reactor volume [a.u.]\n",
        "V0 = 0                  # starting reactor volume [a.u.]\n",
        "steps = 1000            # number of steps in\n",
        "dV = (Vges-V0)/steps    # finite differential, integration variable [a.u.]\n",
        "Vspan = np.arange(V0, Vges + dV, dV) # range of volume segments for integration and plotting\n",
        "z = Vges/A              # maximum reactor length [a.u.]\n",
        "r = np.sqrt(A/np.pi)    # reactor radius [a.u.]\n",
        "\n",
        "\n",
        "stepssplit = steps//2   # split reactor size, integer, 50% MSRMD 50% WGS\n",
        "Vspansplit = np.arange(V0, Vges/2+dV, dV) # range of volume segments in split reactor setup\n",
        "\n",
        "'''\n",
        "segment to test constants\n",
        "'''\n",
        "\n",
        "# print(steps)\n",
        "# print(len(Vspansplit))\n",
        "# print(stepssplit)\n",
        "# print(Vspansplit)\n",
        "# print(Vspan)"
      ],
      "metadata": {
        "id": "yvl0IUgdirdT",
        "cellView": "form",
        "colab": {
          "base_uri": "https://localhost:8080/",
          "height": 0
        },
        "outputId": "e66cfc56-1895-4110-fc82-6095706cb521"
      },
      "execution_count": 39,
      "outputs": [
        {
          "output_type": "execute_result",
          "data": {
            "text/plain": [
              "'\\nsegment to test constants\\n'"
            ],
            "application/vnd.google.colaboratory.intrinsic+json": {
              "type": "string"
            }
          },
          "metadata": {},
          "execution_count": 39
        }
      ]
    },
    {
      "cell_type": "code",
      "source": [
        "# @title Initial concentrations\n",
        "'''\n",
        "setup initial concentrations in an IC array\n",
        "'''\n",
        "\n",
        "\n",
        "C0_H2 = 0       # [a.u.]\n",
        "C0_H2O = 0.3    # [a.u.]\n",
        "C0_CO = 0       # [a.u.]\n",
        "C0_CO2 = 0      # [a.u.]\n",
        "C0_MeOH = 0.5   # [a.u.]\n",
        "\n",
        "IC = np.array([C0_H2, C0_H2O, C0_CO, C0_CO2, C0_MeOH])"
      ],
      "metadata": {
        "id": "NBZz_R58itm5",
        "cellView": "form"
      },
      "execution_count": 40,
      "outputs": []
    },
    {
      "cell_type": "code",
      "source": [
        "# @title kinetics data\n",
        "\n",
        "'''\n",
        "setup kinetics data in arrays to include all MSR&MD setups (S, M, K, L) and WGS setups in distinct arrays\n",
        "includes activation energies, k0 and exponents for rate of reaction calculation using a modified arrhenius equation\n",
        "'''\n",
        "\n",
        "R = 8.314         # universal gas constant [J mol-1 K-1]\n",
        "T0 = 150 + 273    # T0 to calculate arrhenius' rate of reaction constant k [K]\n",
        "n = 1             # exponent in arrhenius equation\n",
        "\n",
        "#BiCat\n",
        "#MSR\n",
        "k0_MSR_S = 4.2*10**(-6)       # k0 for arrhenius[kmol kg-1 h-1]\n",
        "EA_MSR_S = 4.978*1000         # activation energy [J mol-1]\n",
        "b_MeOH_MSR_S = - 0.428        # rate of reaction exponent for methanol\n",
        "b_H2O_MSR_S = - 0.949         # rate of reaction exponent for water\n",
        "\n",
        "k0_MSR_M = 2.1*10**(-6)       # [kmol kg-1 h-1]\n",
        "k0_MSR_K = 2.7*10**(-6)       # [kmol kg-1 h-1]\n",
        "k0_MSR_L = 3.3*10**(-6)       # [kmol kg-1 h-1]\n",
        "\n",
        "EA_MSR_MKL = 5.566*1000       # [J mol-1]\n",
        "b_MeOH_MSR_MKL = - 0.43\n",
        "b_H2O_MSR_MKL = - 0.949\n",
        "\n",
        "MSR = np.array(\n",
        "    [[k0_MSR_S, EA_MSR_S, b_MeOH_MSR_S, b_H2O_MSR_S],\n",
        "    [k0_MSR_M, EA_MSR_MKL, b_MeOH_MSR_MKL, b_H2O_MSR_MKL],\n",
        "    [k0_MSR_K, EA_MSR_MKL, b_MeOH_MSR_MKL, b_H2O_MSR_MKL],\n",
        "    [k0_MSR_L, EA_MSR_MKL, b_MeOH_MSR_MKL, b_H2O_MSR_MKL]]\n",
        ")\n",
        "\n",
        "#MD\n",
        "k0_MD_S = 5.5*10**(-8)        # [kmol kg-1 h-1]\n",
        "EA_MD_S = 42.137*1000         # [J mol-1]\n",
        "b_MeOH_MD_S = 0.114\n",
        "\n",
        "k0_MD_M = 1.5*10**(-8)        # [kmol kg-1 h-1]\n",
        "k0_MD_K = 3.7*10**(-8)        # [kmol kg-1 h-1]\n",
        "k0_MD_L = 1.1*10**(-7)        # [kmol kg-1 h-1]\n",
        "\n",
        "EA_MD_MKL = 36.771*1000       # [J mol-1]\n",
        "b_MeOH_MD_MKL = 0.109\n",
        "\n",
        "MD = np.array (\n",
        "    [[k0_MD_S, EA_MD_S, b_MeOH_MD_S],\n",
        "    [k0_MD_M, EA_MD_MKL, b_MeOH_MD_MKL],\n",
        "    [k0_MD_K, EA_MD_MKL, b_MeOH_MD_MKL],\n",
        "    [k0_MD_L, EA_MD_MKL, b_MeOH_MD_MKL]]\n",
        ")\n",
        "\n",
        "#WGS\n",
        "#Benchmark = B; Benchmark-CuCl = BCC; Benchmark-MB = BMB\n",
        "\n",
        "\n",
        "k0_WGS_B = 3.1*10**(-10)\n",
        "EA_B = 104.4*1000             # [J mol-1]\n",
        "b_CO_WGS_B = - 0.892\n",
        "b_H2O_WGS_B = - 0.135\n",
        "\n",
        "\n",
        "k0_WGS_BCC = 1.6*10**(-9)     # [kmol kg-1 h-1]\n",
        "EA_BCC = 105.5*1000           # [J mol-1]\n",
        "b_CO_WGS_BCC = - 0.836\n",
        "b_H2O_WGS_BCC = - 0.338\n",
        "\n",
        "k0_WGS_BMB = 2.82*10**(-10)   # [kmol kg-1 h-1]\n",
        "EA_BMB = 78.6*1000            # [J mol-1]\n",
        "b_CO_WGS_BMB = - 0.685\n",
        "b_H2O_WGS_BMB = - 0.268\n",
        "\n",
        "WGS = np.array(\n",
        "    [[k0_WGS_B, EA_B, b_CO_WGS_B, b_H2O_WGS_B],\n",
        "    [k0_WGS_BCC, EA_BCC, b_CO_WGS_BCC, b_H2O_WGS_BCC],\n",
        "    [k0_WGS_BMB, EA_BMB, b_CO_WGS_BMB, b_H2O_WGS_BMB]]\n",
        ")\n",
        "\n",
        "\n",
        "# array for stoichiometric coefficients\n",
        "ny = np.array(\n",
        "    [[3, -1, 0, 1, -1],\n",
        "    [2, 0, 1, 0, -1],\n",
        "    [1, -1, -1, 1, 0]]\n",
        ")\n",
        "\n",
        "'''\n",
        "testing block for kinetics arrays\n",
        "'''\n",
        "\n",
        "#print(MSR)\n",
        "#print(MD)\n",
        "#print(WGS)\n",
        "#print(ny)"
      ],
      "metadata": {
        "id": "aW1PKqLbrM5g",
        "cellView": "form",
        "colab": {
          "base_uri": "https://localhost:8080/",
          "height": 0
        },
        "outputId": "0fc6bc9d-7a48-459c-98b7-c7cb416e5eb2"
      },
      "execution_count": 41,
      "outputs": [
        {
          "output_type": "execute_result",
          "data": {
            "text/plain": [
              "'\\ntesting block for kinetics arrays\\n'"
            ],
            "application/vnd.google.colaboratory.intrinsic+json": {
              "type": "string"
            }
          },
          "metadata": {},
          "execution_count": 41
        }
      ]
    },
    {
      "cell_type": "markdown",
      "source": [
        "# PFTR isothermal and steady state\n",
        "\n",
        "ODE (empty pipe):\n",
        "\n",
        "$\\frac{dc_x}{dz}$=$\\frac{1}{u_0}$⋅$R_x$\n",
        "\n",
        "$\\frac{dc_x}{dV}$=-$\\frac{1}{\\dot{V}}$⋅$R_x$"
      ],
      "metadata": {
        "id": "ewE1wq3cizlv"
      }
    },
    {
      "cell_type": "code",
      "source": [
        "# @title reaction functions\n",
        "\n",
        "def ReakFunFull(C, T, MSRind, MDind, WGSind):\n",
        "  '''\n",
        "  calculates the rate of reaction for each component for all three reactions with respect to the selected catalytic system through indexing\n",
        "  '''\n",
        "\n",
        "  # creates new empty concentration array for the components and assigns components to index\n",
        "  dC=np.zeros(len(C))\n",
        "  C_H2 = C[0]\n",
        "  C_H2O = C[1]\n",
        "  C_CO = C[2]\n",
        "  C_CO2 = C[3]\n",
        "  C_MeOH = C[4]\n",
        "\n",
        "  # creates empty rate of reaction array for each reaction\n",
        "  rMSR = np.zeros(len(MSR))\n",
        "  rMD = np.zeros(len(MD))\n",
        "  rWGS = np.zeros(len(WGS))\n",
        "\n",
        "  # calculates the rate of reaction for each reaction pathway and every catalyst setup\n",
        "  for i in range(len(MSR)):\n",
        "    rMSR[i] = MSR[i,0]*np.power((T/T0), n, dtype=float)*np.exp((-MSR[i,1]/R)*(1/T-1/T0), dtype=float)\n",
        "    rMSR[i] *= np.power(C_MeOH, MSR[i,2], dtype=float) * np.power(C_H2O, MSR[i,3], dtype=float)\n",
        "\n",
        "\n",
        "  for i in range(len(MD)):\n",
        "    rMD[i] = MD[i,0]*np.power((T/T0), n, dtype=float)*np.exp((-MD[i,1]/R)*(1/T-1/T0), dtype=float)\n",
        "    rMD[i] *= np.power(C_MeOH, MD[i,2], dtype=float)\n",
        "\n",
        "  if C_CO > 0:\n",
        "   for i in range(len(WGS)):\n",
        "    rWGS[i] = WGS[i,0]*np.power((T/T0), n, dtype=float)*np.exp((-WGS[i,1]/R)*(1/T-1/T0), dtype=float)\n",
        "    rWGS[i] *= np.power(C_CO, WGS[i,2], dtype=float) * np.power(C_H2O, WGS[i,3], dtype=float)\n",
        "\n",
        "  # calculates slope of change for each component and returns the result\n",
        "  dC[0] = (1/VFlow)*(rMSR[MSRind]*ny[0, 0] + rMD[MDind]*ny[1, 0] + rWGS[WGSind]*ny[2, 0])\n",
        "  dC[1] = (1/VFlow)*(rMSR[MSRind]*ny[0, 1] + rMD[MDind]*ny[1, 1] + rWGS[WGSind]*ny[2, 1])\n",
        "  dC[2] = (1/VFlow)*(rMSR[MSRind]*ny[0, 2] + rMD[MDind]*ny[1, 2] + rWGS[WGSind]*ny[2, 2])\n",
        "  dC[3] = (1/VFlow)*(rMSR[MSRind]*ny[0, 3] + rMD[MDind]*ny[1, 3] + rWGS[WGSind]*ny[2, 3])\n",
        "  dC[4] = (1/VFlow)*(rMSR[MSRind]*ny[0, 4] + rMD[MDind]*ny[1, 4] + rWGS[WGSind]*ny[2, 4])\n",
        "\n",
        "  return dC\n",
        "\n",
        "def ReakFunMSRMD (C, T, MSRind, MDind):\n",
        "  '''\n",
        "  calculates the rate of reaction for each component for MSR and MD reactions with respect to the selected catalytic system through indexing\n",
        "  '''\n",
        "  # creates new empty concentration array for the components and assigns components to index\n",
        "  dC=np.zeros(len(C))\n",
        "  C_H2 = C[0]\n",
        "  C_H2O = C[1]\n",
        "  C_CO = C[2]\n",
        "  C_CO2 = C[3]\n",
        "  C_MeOH = C[4]\n",
        "\n",
        "  # creates empty rate of reaction array for each reaction\n",
        "  rMSR = np.zeros(len(MSR))\n",
        "  rMD = np.zeros(len(MD))\n",
        "\n",
        "  # calculates the rate of reaction for each reaction pathway and every catalyst setup\n",
        "  for i in range(len(MSR)):\n",
        "    rMSR[i] = MSR[i,0]*np.power((T/T0), n, dtype=float)*np.exp((-MSR[i,1]/R)*(1/T-1/T0), dtype=float)\n",
        "    rMSR[i] *= np.power(C_MeOH, MSR[i,2], dtype=float) * np.power(C_H2O, MSR[i,3], dtype=float)\n",
        "\n",
        "\n",
        "  for i in range(len(MD)):\n",
        "    rMD[i] = MD[i,0]*np.power((T/T0), n, dtype=float)*np.exp((-MD[i,1]/R)*(1/T-1/T0), dtype=float)\n",
        "    rMD[i] *= np.power(C_MeOH, MD[i,2], dtype=float)\n",
        "\n",
        "  # calculates slope of change for each component and returns the result\n",
        "  dC[0] = (1/VFlow)*(rMSR[MSRind]*ny[0, 0] + rMD[MDind]*ny[1, 0])\n",
        "  dC[1] = (1/VFlow)*(rMSR[MSRind]*ny[0, 1] + rMD[MDind]*ny[1, 1])\n",
        "  dC[2] = (1/VFlow)*(rMSR[MSRind]*ny[0, 2] + rMD[MDind]*ny[1, 2])\n",
        "  dC[3] = (1/VFlow)*(rMSR[MSRind]*ny[0, 3] + rMD[MDind]*ny[1, 3])\n",
        "  dC[4] = (1/VFlow)*(rMSR[MSRind]*ny[0, 4] + rMD[MDind]*ny[1, 4])\n",
        "\n",
        "  return dC\n",
        "\n",
        "def ReakFunWGS (C, T, WGSind):\n",
        "  '''\n",
        "  calculates the rate of reaction for each component for the WGS reaction with respect to the selected catalytic system through indexing\n",
        "  '''\n",
        "  # creates new empty concentration array for the components and assigns components to index\n",
        "  dC=np.zeros(len(C))\n",
        "  C_H2 = C[0]\n",
        "  C_H2O = C[1]\n",
        "  C_CO = C[2]\n",
        "  C_CO2 = C[3]\n",
        "  C_MeOH = C[4]\n",
        "\n",
        "  # creates empty rate of reaction array for the reaction\n",
        "  rWGS = np.zeros(len(WGS))\n",
        "\n",
        "  # calculates the rate of reaction for every catalyst setup\n",
        "  if C_CO > 0:\n",
        "   for i in range(len(WGS)):\n",
        "    rWGS[i] = WGS[i,0]*np.power((T/T0), n, dtype=float)*np.exp((-WGS[i,1]/R)*(1/T-1/T0), dtype=float)\n",
        "    rWGS[i] *= np.power(C_CO, WGS[i,2], dtype=float) * np.power(C_H2O, WGS[i,3], dtype=float)\n",
        "\n",
        "  # calculates slope of change for each component and returns the result\n",
        "  dC[0] = (1/VFlow)*(rWGS[WGSind]*ny[2, 0])\n",
        "  dC[1] = (1/VFlow)*(rWGS[WGSind]*ny[2, 1])\n",
        "  dC[2] = (1/VFlow)*(rWGS[WGSind]*ny[2, 2])\n",
        "  dC[3] = (1/VFlow)*(rWGS[WGSind]*ny[2, 3])\n",
        "  dC[4] = (1/VFlow)*(rWGS[WGSind]*ny[2, 4])\n",
        "\n",
        "  return dC"
      ],
      "metadata": {
        "id": "8Xss_vPRFyMb",
        "cellView": "form"
      },
      "execution_count": 42,
      "outputs": []
    },
    {
      "cell_type": "code",
      "source": [
        "# @title euler's method\n",
        "\n",
        "\n",
        "def EulFunFull (y, T, MSRind, MDind, WGSind):\n",
        "  '''\n",
        "  uses eulers method to calculate the change in concentration given the slope\n",
        "  '''\n",
        "\n",
        "  # creates empty concentration array and inputs the initial conditions as the first data point\n",
        "  ytemp = np.zeros([len(Vspan), len(IC)])\n",
        "  ytemp[0,:] = IC\n",
        "\n",
        "  # transposes last set of concentrations into a vector to input as the initial conditions for the reaction function\n",
        "  # finite change calculated and input as IC for next iteration to fill the array\n",
        "  for i in range(steps):\n",
        "    V = Vspan[i]\n",
        "    y = np.transpose(ytemp[i, :])\n",
        "    dy = ReakFunFull(y, T, MSRind, MDind, WGSind)\n",
        "    ytemp[i+1, :] = y + dy*dV\n",
        "\n",
        "  return ytemp\n",
        "\n",
        "def EulFunMSRMD (y, T, MSRind, MDind):\n",
        "  '''\n",
        "  uses eulers method to calculate the change in concentration given the slope\n",
        "  '''\n",
        "\n",
        "  # creates empty concentration array and inputs the initial conditions as the first data point\n",
        "  ytemp = np.zeros([len(Vspansplit), len(IC)])\n",
        "  ytemp[0,:] = y\n",
        "\n",
        "  for i in range(stepssplit):\n",
        "    V = Vspan[i]\n",
        "    y = np.transpose(ytemp[i, :])\n",
        "    dy = ReakFunMSRMD(y, T, MSRind, MDind)\n",
        "    ytemp[i+1, :] = y + dy*dV\n",
        "\n",
        "  # transposes last set of concentrations into a vector to input as the initial conditions for the reaction function\n",
        "  # finite change calculated and input as IC for next iteration to fill the array\n",
        "  return ytemp\n",
        "\n",
        "def EulFunWGS (y, T, WGSind):\n",
        "  '''\n",
        "  uses eulers method to calculate the change in concentration given the slope\n",
        "  '''\n",
        "\n",
        "  # creates empty concentration array and inputs the initial conditions as the first data point\n",
        "  ytemp = np.zeros([len(Vspansplit), len(IC)])\n",
        "  ytemp[0,:] = y\n",
        "\n",
        "  # transposes last set of concentrations into a vector to input as the initial conditions for the reaction function\n",
        "  # finite change calculated and input as IC for next iteration to fill the array\n",
        "  for i in range(stepssplit):\n",
        "    V = Vspan[i + stepssplit - 1]\n",
        "    y = np.transpose(ytemp[i, :])\n",
        "    dy = ReakFunWGS(y, T, WGSind)\n",
        "    ytemp[i+1, :] = y + dy*dV\n",
        "\n",
        "  return ytemp"
      ],
      "metadata": {
        "id": "xD4VhgB4ivsV",
        "cellView": "form"
      },
      "execution_count": 43,
      "outputs": []
    },
    {
      "cell_type": "code",
      "source": [
        "# @title Runge Kutta fourth order function\n",
        "\n",
        "def RK4FunMSRMD (y, T, MSRind, MDind):\n",
        "  '''\n",
        "  similarily to euler's method, the runge kutta method of the fourth order calculates the integral using finite differentials\n",
        "  runge kutta uses 4 slopes to calculate a mean slope along the graph -> more accurate\n",
        "  this function handles the first reactor containing MSR and MD catalyst\n",
        "  '''\n",
        "\n",
        "  # creates empty concentration array and inputs the initial conditions as the first data point\n",
        "  ytemp = np.zeros([len(Vspansplit), len(IC)])\n",
        "  ytemp[0,:] = y\n",
        "\n",
        "  # transposes last set of concentrations into a vector to input as the initial conditions for the reaction function\n",
        "  # finite change calculated and input as IC for next iteration to fill the array\n",
        "  for i in range(stepssplit):\n",
        "    V = Vspan[i]\n",
        "    y = np.transpose(ytemp[i, :])\n",
        "    k1 = ReakFunMSRMD(y, T, MSRind, MDind)\n",
        "    k2 = ReakFunMSRMD(y + 0.5*k1, T, MSRind, MDind)\n",
        "    k3 = ReakFunMSRMD(y + 0.5*k2, T, MSRind, MDind)\n",
        "    k4 = ReakFunMSRMD(y + k3*dV, T, MSRind, MDind)\n",
        "    ytemp[i+1, :] = y + 1/6*(k1 + 2*k2 + 2*k3 + k4)*dV\n",
        "\n",
        "  return ytemp\n",
        "\n",
        "def RK4FunWGS (y, T, WGSind):\n",
        "  '''\n",
        "  similarily to euler's method, the runge kutta method of the fourth order calculates the integral using finite differentials\n",
        "  runge kutta uses 4 slopes to calculate a mean slope along the graph -> more accurate\n",
        "  this function handles the second reactor containing the WGS catalyst\n",
        "  '''\n",
        "\n",
        "  # creates empty concentration array and inputs the initial conditions as the first data point\n",
        "  ytemp = np.zeros([len(Vspansplit), len(IC)])\n",
        "  ytemp[0,:] = y\n",
        "\n",
        "  # transposes last set of concentrations into a vector to input as the initial conditions for the reaction function\n",
        "  # finite change calculated and input as IC for next iteration to fill the array\n",
        "  for i in range(stepssplit):\n",
        "    V = Vspan[i + stepssplit - 1]\n",
        "    y = np.transpose(ytemp[i, :])\n",
        "    k1 = ReakFunWGS(y, T, WGSind)\n",
        "    k2 = ReakFunWGS(y + 0.5*k1, T, WGSind)\n",
        "    k3 = ReakFunWGS(y + 0.5*k2, T, WGSind)\n",
        "    k4 = ReakFunWGS(y + k3*dV, T, WGSind)\n",
        "    ytemp[i+1, :] = y + 1/6*(k1 + 2*k2 + 2*k3 + k4)*dV\n",
        "\n",
        "  return ytemp"
      ],
      "metadata": {
        "id": "8eg2FDUFy0Js",
        "cellView": "form"
      },
      "execution_count": 44,
      "outputs": []
    },
    {
      "cell_type": "markdown",
      "source": [
        "# main"
      ],
      "metadata": {
        "id": "e-tcmYniUjlB"
      }
    },
    {
      "cell_type": "code",
      "source": [
        "'''\n",
        "contains main function to call all other relevant functions and set temperature and reaction index\n",
        "'''\n",
        "\n",
        "T = 273 + 150 # reactor temperature [K]\n",
        "\n",
        "# set reaction index for all three reactions\n",
        "MSRind = 0      # 0 = S, 1 = M, 2 = K, 3 = L\n",
        "MDind = 0       # 0 = S, 1 = M, 2 = K, 3 = L\n",
        "WGSind = 0      # 0 = B, 1 = BCC, 2 = BMB\n",
        "\n",
        "# calculates a concentration array using euler's method, with the length Vspan for plotting\n",
        "ConcEul1 = EulFunMSRMD(IC, T, MSRind, MDind)\n",
        "ICtemp = np.transpose(ConcEul1[len(ConcEul1)-1, :])\n",
        "ConcEul2 = EulFunWGS(ICtemp, T, WGSind)\n",
        "ConctempEul = np.delete(ConcEul2, stepssplit, 0)\n",
        "ConcEul = np.append(ConcEul1, ConctempEul, axis = 0)\n",
        "\n",
        "# calculates a concentration array using the runge kutta method of the fourth order, with the length Vspan for plotting\n",
        "ConcRK1 = RK4FunMSRMD(IC, T, MSRind, MDind)\n",
        "ICtemp = np.transpose(ConcRK1[len(ConcRK1)-1, :])\n",
        "ConcRK2 = RK4FunWGS(ICtemp, T, WGSind)\n",
        "ConctempRK = np.delete(ConcRK2, stepssplit, 0)\n",
        "ConcRK = np.append(ConcRK1, ConctempRK, axis = 0)\n",
        "\n",
        "'''\n",
        "Concentration array testing\n",
        "'''\n",
        "# print (ConcRK)\n",
        "# print (Conctemp2)"
      ],
      "metadata": {
        "id": "d0ve5884jBvk",
        "colab": {
          "base_uri": "https://localhost:8080/",
          "height": 0
        },
        "outputId": "bf1dcb67-10d5-4e36-8044-84629da7e66c"
      },
      "execution_count": 45,
      "outputs": [
        {
          "output_type": "execute_result",
          "data": {
            "text/plain": [
              "'\\nConcentration array testing\\n'"
            ],
            "application/vnd.google.colaboratory.intrinsic+json": {
              "type": "string"
            }
          },
          "metadata": {},
          "execution_count": 45
        }
      ]
    },
    {
      "cell_type": "markdown",
      "source": [
        "# plots"
      ],
      "metadata": {
        "id": "-zalIPb7tEqL"
      }
    },
    {
      "cell_type": "code",
      "source": [
        "# @title full plot\n",
        "\n",
        "'''\n",
        "plots both reactors in the cascade using euler's method and the runge kutta method\n",
        "'''\n",
        "\n",
        "plt.figure(1)\n",
        "plt.plot(Vspan, ConcEul[:,0], label='H2')\n",
        "plt.plot(Vspan, ConcEul[:,1], label='H2O')\n",
        "plt.plot(Vspan, ConcEul[:,2], label='CO')\n",
        "plt.plot(Vspan, ConcEul[:,3], label='CO2')\n",
        "plt.plot(Vspan, ConcEul[:,4], label='MeOH')\n",
        "plt.title(\"Euler\")\n",
        "plt.axis((0, 50, 0, 1))\n",
        "plt.legend(loc='best')\n",
        "plt.grid()\n",
        "plt.xlabel(\"reactor volume [a.u.]\")\n",
        "plt.ylabel (\"concentration [a.u.]\")\n",
        "\n",
        "plt.figure(2)\n",
        "plt.plot(Vspan, ConcRK[:,0], label='H2')\n",
        "plt.plot(Vspan, ConcRK[:,1], label='H2O')\n",
        "plt.plot(Vspan, ConcRK[:,2], label='CO')\n",
        "plt.plot(Vspan, ConcRK[:,3], label='CO2')\n",
        "plt.plot(Vspan, ConcRK[:,4], label='MeOH')\n",
        "plt.title(\"Runge Kutta\")\n",
        "plt.axis((0, 50, 0, 1))\n",
        "plt.legend(loc='best')\n",
        "plt.grid()\n",
        "plt.xlabel(\"reactor volume [a.u.]\")\n",
        "plt.ylabel (\"concentration [a.u.]\")"
      ],
      "metadata": {
        "id": "BzX8r1mEi58n",
        "colab": {
          "base_uri": "https://localhost:8080/",
          "height": 945
        },
        "outputId": "dadd098d-5c32-4c1f-9e3a-ee6aa2fa6c0e",
        "cellView": "form"
      },
      "execution_count": 46,
      "outputs": [
        {
          "output_type": "execute_result",
          "data": {
            "text/plain": [
              "Text(0, 0.5, 'concentration [a.u.]')"
            ]
          },
          "metadata": {},
          "execution_count": 46
        },
        {
          "output_type": "display_data",
          "data": {
            "text/plain": [
              "<Figure size 640x480 with 1 Axes>"
            ],
            "image/png": "[encoded data removed]"
          },
          "metadata": {}
        },
        {
          "output_type": "display_data",
          "data": {
            "text/plain": [
              "<Figure size 640x480 with 1 Axes>"
            ],
            "image/png": "[encoded data removed]"
          },
          "metadata": {}
        }
      ]
    },
    {
      "cell_type": "code",
      "source": [
        "# @title MSR + MD plot\n",
        "\n",
        "'''\n",
        "plots only the first reactor in the reactor cascade\n",
        "'''\n",
        "\n",
        "plt.figure(3)\n",
        "plt.plot(Vspansplit, ConcEul1[:,0], label='H2')\n",
        "plt.plot(Vspansplit, ConcEul1[:,1], label='H2O')\n",
        "plt.plot(Vspansplit, ConcEul1[:,2], label='CO')\n",
        "plt.plot(Vspansplit, ConcEul1[:,3], label='CO2')\n",
        "plt.plot(Vspansplit, ConcEul1[:,4], label='MeOH')\n",
        "\n",
        "plt.axis((0, 25, 0, 1))\n",
        "plt.legend(loc='best')\n",
        "plt.grid()\n",
        "plt.title (\"only plotting first reactor in cascade setup\")\n",
        "plt.xlabel(\"reactor volume [a.u.]\")\n",
        "plt.ylabel (\"concentration [a.u.]\")"
      ],
      "metadata": {
        "colab": {
          "base_uri": "https://localhost:8080/",
          "height": 490
        },
        "id": "mXdfexywtKZv",
        "outputId": "06c3eb34-0114-4e08-dbbf-7700157e7363",
        "cellView": "form"
      },
      "execution_count": 47,
      "outputs": [
        {
          "output_type": "execute_result",
          "data": {
            "text/plain": [
              "Text(0, 0.5, 'concentration [a.u.]')"
            ]
          },
          "metadata": {},
          "execution_count": 47
        },
        {
          "output_type": "display_data",
          "data": {
            "text/plain": [
              "<Figure size 640x480 with 1 Axes>"
            ],
            "image/png": "[encoded data removed]"
          },
          "metadata": {}
        }
      ]
    },
    {
      "cell_type": "markdown",
      "source": [
        "# unsteady state PFTR"
      ],
      "metadata": {
        "id": "vrMk9pE9MKEx"
      }
    },
    {
      "cell_type": "code",
      "source": [
        "# @title unsteady state\n",
        "'''\n",
        "this code block will contain functions to calculate the mass balance in an unsteady reactor cascade (MSR&MD + WGS)\n",
        "'''"
      ],
      "metadata": {
        "colab": {
          "base_uri": "https://localhost:8080/",
          "height": 0
        },
        "cellView": "form",
        "id": "m61DYJG5MIrk",
        "outputId": "0505a569-6c7d-411c-bba0-b66ae886c13a"
      },
      "execution_count": 48,
      "outputs": [
        {
          "output_type": "execute_result",
          "data": {
            "text/plain": [
              "'\\nthis code block will contain functions to calculate the mass balance in an unsteady reactor cascade (MSR&MD + WGS)\\n'"
            ],
            "application/vnd.google.colaboratory.intrinsic+json": {
              "type": "string"
            }
          },
          "metadata": {},
          "execution_count": 48
        }
      ]
    },
    {
      "cell_type": "markdown",
      "source": [
        "# code testing block || ignore"
      ],
      "metadata": {
        "id": "0tp9RAHPMgf4"
      }
    },
    {
      "cell_type": "code",
      "source": [
        "# @title code testing\n",
        "\n",
        "'''\n",
        "H = np.array (\n",
        "   [[1, 1, 1],\n",
        "   [2, 2, 2],\n",
        "   [7, 3, 3],\n",
        "   [4, 4, 4]])\n",
        "\n",
        "Hres = np.zeros(len(H))\n",
        "\n",
        "for i in range(len(H)):\n",
        " Hres[i] = H[i,0]*H[i,1]*H[i,2]\n",
        "\n",
        "\n",
        "print(Hres)\n",
        "\n",
        "A = 3*10**-3\n",
        "B = 3*np.power(10,-3, dtype=float)\n",
        "\n",
        "print(A)\n",
        "print(B)\n",
        "\n",
        "C=np.array(\n",
        "   [[1, 2, 1, 1, 2],\n",
        "   [1, 3, 1, 1, 3]]\n",
        ")\n",
        "\n",
        "rWGS = np.zeros(2)\n",
        "rWGS2 = np.zeros(2)\n",
        "\n",
        "\n",
        "for i in range(2):\n",
        " rWGS[i] = WGS[i,0]*np.exp((-WGS[i,1]/R)*(1/T-1/T0))*C[i, 3]**WGS[i,2]*C[i, 2]**WGS[i,3]\n",
        " rWGS2[i] = WGS[i,0]*np.exp((-WGS[i,1]/R)*(1/T-1/T0))*np.power(C[i, 3], WGS[i,2], dtype=float)*np.power(C[i, 2], WGS[i,3], dtype=float)\n",
        "\n",
        "print(rWGS)\n",
        "print(rWGS2)\n",
        "\n",
        "m = np.array([[5, 10]])\n",
        "c = np.array([[1, 2], [3, 4]])\n",
        "\n",
        "huh = np.multiply(rWGS[0], ny[:, 0])\n",
        "huh2 = rWGS[0]*ny[:,0]\n",
        "print(huh)\n",
        "print(huh2)\n",
        "\n",
        "ReakFun test\n",
        "ReakFun(t, C, T, MSRind, MDind, WGSind)\n",
        "pls = ReakFun(0, IC, 300, 0, 0, 0)\n",
        "print(pls)\n",
        "\n",
        "np.transpose test\n",
        "ktemp = np.zeros([10, 3])\n",
        "ktemp[0,:] = 1\n",
        "k = np.transpose(ktemp[1, :])\n",
        "print(ktemp)\n",
        "print(k)\n",
        "'''\n",
        "print()"
      ],
      "metadata": {
        "id": "i7bdVqLuFNns",
        "colab": {
          "base_uri": "https://localhost:8080/"
        },
        "outputId": "5637c706-5d41-4a15-9712-f4b4a749d49d",
        "cellView": "form"
      },
      "execution_count": 49,
      "outputs": [
        {
          "output_type": "stream",
          "name": "stdout",
          "text": [
            "\n"
          ]
        }
      ]
    }
  ]
}