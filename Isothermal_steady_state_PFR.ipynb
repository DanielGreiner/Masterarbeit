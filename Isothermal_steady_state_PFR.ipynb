{
  "nbformat": 4,
  "nbformat_minor": 0,
  "metadata": {
    "colab": {
      "provenance": [],
      "collapsed_sections": [
        "ni76wGgCd-5X",
        "IzTI73zHjPUx",
        "ewE1wq3cizlv"
      ],
      "authorship_tag": "ABX9TyPBAXkSlTjjpmA15ihVFchN",
      "include_colab_link": true
    },
    "kernelspec": {
      "name": "python3",
      "display_name": "Python 3"
    },
    "language_info": {
      "name": "python"
    }
  },
  "cells": [
    {
      "cell_type": "markdown",
      "metadata": {
        "id": "view-in-github",
        "colab_type": "text"
      },
      "source": [
        "<a href=\"https://colab.research.google.com/github/DanielGreiner/Masterarbeit/blob/main/Isothermal_steady_state_PFR.ipynb\" target=\"_parent\"><img src=\"https://colab.research.google.com/assets/colab-badge.svg\" alt=\"Open In Colab\"/></a>"
      ]
    },
    {
      "cell_type": "markdown",
      "metadata": {
        "id": "ni76wGgCd-5X"
      },
      "source": [
        "# Load libraries"
      ]
    },
    {
      "cell_type": "code",
      "source": [
        "# @title import libraries\n",
        "import tensorflow as tf\n",
        "import numpy as np\n",
        "import pandas as pd\n",
        "import matplotlib.pyplot as plt\n",
        "#import torch as to\n",
        "from scipy.integrate import odeint"
      ],
      "metadata": {
        "cellView": "form",
        "id": "FF8maq9Biilj"
      },
      "execution_count": 105,
      "outputs": []
    },
    {
      "cell_type": "code",
      "source": [
        "# @title check library versions\n",
        "print(\"tensorflow:\" + str(tf.__version__))\n",
        "print(\"numpy:\" + str(np.__version__))\n",
        "print(\"pandas:\" + str(pd.__version__))\n",
        "#print(\"torch:\" + str(to.__version__))"
      ],
      "metadata": {
        "cellView": "form",
        "id": "ye8T1D2Yijh0",
        "colab": {
          "base_uri": "https://localhost:8080/"
        },
        "outputId": "3a4c3512-a18b-4373-b983-ce65f2e38d13"
      },
      "execution_count": 106,
      "outputs": [
        {
          "output_type": "stream",
          "name": "stdout",
          "text": [
            "tensorflow:2.13.0\n",
            "numpy:1.23.5\n",
            "pandas:1.5.3\n"
          ]
        }
      ]
    },
    {
      "cell_type": "markdown",
      "source": [
        "# Reaktionen\n",
        "\n",
        "  \\begin{array}{lll}\n",
        "  \\text{Methanol steam reforming (MSR):}&\\kern 3pc CH_3OH_{(g)}+H_2O_{(g)}\\kern 0.5pc{\\overset{k_{1, eff}}{\\rightleftharpoons}}\\kern 0.5pc 3H_{2(g)}+CO_{2(g)}&\\kern 3pc\\Delta_r H_{m}^{o}=+49\\enspace \\frac{kJ}{mol} \\\\\n",
        "  \\text{Methanol decomposition (MD):}&\\kern 3pc CH_3OH_{(g)}\\kern 0.5pc {\\overset{k_{2, eff}}{\\rightleftharpoons}}\\kern 0.5pc 2H_{2(g)}+CO_{(g)}&\\kern 3pc\\Delta_r H_{m}^{o}=+91\\enspace \\frac{kJ}{mol} \\\\\n",
        "  \\text{Water gas shift (WGS):}&\\kern 3pc CO_{(g)}+H_2O_{(g)}\\kern 0.5pc{\\overset{k_{3, eff}}{\\rightleftharpoons}}\\kern 0.5pc H_{2(g)}+CO_{2(g)}&\\kern 3pc\\Delta_r H_{m}^{o}=-41\\enspace \\frac{kJ}{mol}\n",
        "  \\end{array}\n"
      ],
      "metadata": {
        "id": "CqJKAvaDjhMS"
      }
    },
    {
      "cell_type": "markdown",
      "source": [
        "#Indexing in arrays\n",
        "\n",
        "\\begin{array}{lllll}\n",
        "H_2 & H_2O & CO & CO_2 & CH_3OH \\\\\n",
        "0 & 1 & 2 & 3 & 4 \\\\\n",
        "\\end{array}"
      ],
      "metadata": {
        "id": "IzTI73zHjPUx"
      }
    },
    {
      "cell_type": "code",
      "source": [
        "# @title Reaktorkonstanten laden\n",
        "u = 1.500\n",
        "A = 3*10**-3\n",
        "v = u*A\n",
        "Vges = 50\n",
        "V0 = 0\n",
        "steps = 1000\n",
        "dV = (Vges-V0)/steps\n",
        "Vspan = np.arange(V0, Vges+dV/2, dV)\n",
        "z = Vges/A\n",
        "r = np.sqrt(A/np.pi)\n",
        "\n",
        "T0 = 273\n",
        "n = 1\n",
        "\n",
        "stepssplit = int(steps/2)\n",
        "dVsplit = (Vges-V0)/stepssplit\n",
        "Vspansplit = np.arange(V0, Vges/2+dV, dV)\n",
        "\n",
        "# print(steps)\n",
        "print(len(Vspansplit))\n",
        "# print(stepssplit)\n",
        "print(Vspansplit)\n",
        "# print(dV)\n",
        "# print(dVsplit)"
      ],
      "metadata": {
        "id": "yvl0IUgdirdT",
        "colab": {
          "base_uri": "https://localhost:8080/"
        },
        "outputId": "716b77ad-1f8f-47ab-824c-462ae67896ad"
      },
      "execution_count": 107,
      "outputs": [
        {
          "output_type": "stream",
          "name": "stdout",
          "text": [
            "501\n",
            "[ 0.    0.05  0.1   0.15  0.2   0.25  0.3   0.35  0.4   0.45  0.5   0.55\n",
            "  0.6   0.65  0.7   0.75  0.8   0.85  0.9   0.95  1.    1.05  1.1   1.15\n",
            "  1.2   1.25  1.3   1.35  1.4   1.45  1.5   1.55  1.6   1.65  1.7   1.75\n",
            "  1.8   1.85  1.9   1.95  2.    2.05  2.1   2.15  2.2   2.25  2.3   2.35\n",
            "  2.4   2.45  2.5   2.55  2.6   2.65  2.7   2.75  2.8   2.85  2.9   2.95\n",
            "  3.    3.05  3.1   3.15  3.2   3.25  3.3   3.35  3.4   3.45  3.5   3.55\n",
            "  3.6   3.65  3.7   3.75  3.8   3.85  3.9   3.95  4.    4.05  4.1   4.15\n",
            "  4.2   4.25  4.3   4.35  4.4   4.45  4.5   4.55  4.6   4.65  4.7   4.75\n",
            "  4.8   4.85  4.9   4.95  5.    5.05  5.1   5.15  5.2   5.25  5.3   5.35\n",
            "  5.4   5.45  5.5   5.55  5.6   5.65  5.7   5.75  5.8   5.85  5.9   5.95\n",
            "  6.    6.05  6.1   6.15  6.2   6.25  6.3   6.35  6.4   6.45  6.5   6.55\n",
            "  6.6   6.65  6.7   6.75  6.8   6.85  6.9   6.95  7.    7.05  7.1   7.15\n",
            "  7.2   7.25  7.3   7.35  7.4   7.45  7.5   7.55  7.6   7.65  7.7   7.75\n",
            "  7.8   7.85  7.9   7.95  8.    8.05  8.1   8.15  8.2   8.25  8.3   8.35\n",
            "  8.4   8.45  8.5   8.55  8.6   8.65  8.7   8.75  8.8   8.85  8.9   8.95\n",
            "  9.    9.05  9.1   9.15  9.2   9.25  9.3   9.35  9.4   9.45  9.5   9.55\n",
            "  9.6   9.65  9.7   9.75  9.8   9.85  9.9   9.95 10.   10.05 10.1  10.15\n",
            " 10.2  10.25 10.3  10.35 10.4  10.45 10.5  10.55 10.6  10.65 10.7  10.75\n",
            " 10.8  10.85 10.9  10.95 11.   11.05 11.1  11.15 11.2  11.25 11.3  11.35\n",
            " 11.4  11.45 11.5  11.55 11.6  11.65 11.7  11.75 11.8  11.85 11.9  11.95\n",
            " 12.   12.05 12.1  12.15 12.2  12.25 12.3  12.35 12.4  12.45 12.5  12.55\n",
            " 12.6  12.65 12.7  12.75 12.8  12.85 12.9  12.95 13.   13.05 13.1  13.15\n",
            " 13.2  13.25 13.3  13.35 13.4  13.45 13.5  13.55 13.6  13.65 13.7  13.75\n",
            " 13.8  13.85 13.9  13.95 14.   14.05 14.1  14.15 14.2  14.25 14.3  14.35\n",
            " 14.4  14.45 14.5  14.55 14.6  14.65 14.7  14.75 14.8  14.85 14.9  14.95\n",
            " 15.   15.05 15.1  15.15 15.2  15.25 15.3  15.35 15.4  15.45 15.5  15.55\n",
            " 15.6  15.65 15.7  15.75 15.8  15.85 15.9  15.95 16.   16.05 16.1  16.15\n",
            " 16.2  16.25 16.3  16.35 16.4  16.45 16.5  16.55 16.6  16.65 16.7  16.75\n",
            " 16.8  16.85 16.9  16.95 17.   17.05 17.1  17.15 17.2  17.25 17.3  17.35\n",
            " 17.4  17.45 17.5  17.55 17.6  17.65 17.7  17.75 17.8  17.85 17.9  17.95\n",
            " 18.   18.05 18.1  18.15 18.2  18.25 18.3  18.35 18.4  18.45 18.5  18.55\n",
            " 18.6  18.65 18.7  18.75 18.8  18.85 18.9  18.95 19.   19.05 19.1  19.15\n",
            " 19.2  19.25 19.3  19.35 19.4  19.45 19.5  19.55 19.6  19.65 19.7  19.75\n",
            " 19.8  19.85 19.9  19.95 20.   20.05 20.1  20.15 20.2  20.25 20.3  20.35\n",
            " 20.4  20.45 20.5  20.55 20.6  20.65 20.7  20.75 20.8  20.85 20.9  20.95\n",
            " 21.   21.05 21.1  21.15 21.2  21.25 21.3  21.35 21.4  21.45 21.5  21.55\n",
            " 21.6  21.65 21.7  21.75 21.8  21.85 21.9  21.95 22.   22.05 22.1  22.15\n",
            " 22.2  22.25 22.3  22.35 22.4  22.45 22.5  22.55 22.6  22.65 22.7  22.75\n",
            " 22.8  22.85 22.9  22.95 23.   23.05 23.1  23.15 23.2  23.25 23.3  23.35\n",
            " 23.4  23.45 23.5  23.55 23.6  23.65 23.7  23.75 23.8  23.85 23.9  23.95\n",
            " 24.   24.05 24.1  24.15 24.2  24.25 24.3  24.35 24.4  24.45 24.5  24.55\n",
            " 24.6  24.65 24.7  24.75 24.8  24.85 24.9  24.95 25.  ]\n"
          ]
        }
      ]
    },
    {
      "cell_type": "code",
      "source": [
        "# @title Startwerte\n",
        "\n",
        "C0_H2 = 0\n",
        "C0_H2O = 0.5\n",
        "C0_CO = 0.1\n",
        "C0_CO2 = 0\n",
        "C0_MeOH = 0.5\n",
        "\n",
        "IC = np.array([C0_H2, C0_H2O, C0_CO, C0_CO2, C0_MeOH])"
      ],
      "metadata": {
        "id": "NBZz_R58itm5",
        "cellView": "form"
      },
      "execution_count": 108,
      "outputs": []
    },
    {
      "cell_type": "code",
      "source": [
        "# @title Kinetikdaten laden\n",
        "\n",
        "R = 8.314 #J mol-1 K-1\n",
        "\n",
        "#BiCat\n",
        "#MSR\n",
        "k0_MSR_S = 4.2*10**(-6) # kmol kg-1 h-1\n",
        "EA_MSR_S = 4.978*1000 #J mol-1\n",
        "b_MeOH_MSR_S = - 0.428\n",
        "b_H2O_MSR_S = - 0.949\n",
        "\n",
        "k0_MSR_M = 2.1*10**(-6) # kmol kg-1 h-1\n",
        "k0_MSR_K = 2.7*10**(-6) # kmol kg-1 h-1\n",
        "k0_MSR_L = 3.3*10**(-6) # kmol kg-1 h-1\n",
        "\n",
        "EA_MSR_MKL = 5.566*1000 #J mol-1\n",
        "b_MeOH_MSR_MKL = - 0.43\n",
        "b_H2O_MSR_MKL = - 0.949\n",
        "\n",
        "MSR = np.array(\n",
        "    [[k0_MSR_S, EA_MSR_S, b_MeOH_MSR_S, b_H2O_MSR_S],\n",
        "    [k0_MSR_M, EA_MSR_MKL, b_MeOH_MSR_MKL, b_H2O_MSR_MKL],\n",
        "    [k0_MSR_K, EA_MSR_MKL, b_MeOH_MSR_MKL, b_H2O_MSR_MKL],\n",
        "    [k0_MSR_L, EA_MSR_MKL, b_MeOH_MSR_MKL, b_H2O_MSR_MKL]]\n",
        ")\n",
        "\n",
        "#MD\n",
        "k0_MD_S = 5.5*10**(-8) # kmol kg-1 h-1\n",
        "EA_MD_S = 42.137*1000 #J mol-1\n",
        "b_MeOH_MD_S = 0.114\n",
        "\n",
        "k0_MD_M = 1.5*10**(-8) # kmol kg-1 h-1\n",
        "k0_MD_K = 3.7*10**(-8) # kmol kg-1 h-1\n",
        "k0_MD_L = 1.1*10**(-7) # kmol kg-1 h-1\n",
        "\n",
        "EA_MD_MKL = 36.771*1000 #J mol-1\n",
        "b_MeOH_MD_MKL = 0.109\n",
        "\n",
        "MD = np.array (\n",
        "    [[k0_MD_S, EA_MD_S, b_MeOH_MD_S],\n",
        "    [k0_MD_M, EA_MD_MKL, b_MeOH_MD_MKL],\n",
        "    [k0_MD_K, EA_MD_MKL, b_MeOH_MD_MKL],\n",
        "    [k0_MD_L, EA_MD_MKL, b_MeOH_MD_MKL]]\n",
        ")\n",
        "\n",
        "#WGS\n",
        "#Benchmark = B; Benchmark-CuCl = BCC; Benchmark-MB = BMB\n",
        "\n",
        "\n",
        "k0_WGS_B = 3.1*10**(-10)\n",
        "EA_B = 104.4*1000 #J mol-1\n",
        "b_CO_WGS_B = - 0.892\n",
        "b_H2O_WGS_B = - 0.135\n",
        "\n",
        "\n",
        "k0_WGS_BCC = 1.6*10**(-9)\n",
        "EA_BCC = 105.5*1000 #J mol-1\n",
        "b_CO_WGS_BCC = - 0.836\n",
        "b_H2O_WGS_BCC = - 0.338\n",
        "\n",
        "k0_WGS_BMB = 2.82*10**(-10)\n",
        "EA_BMB = 78.6*1000 #J mol-1\n",
        "b_CO_WGS_BMB = - 0.685\n",
        "b_H2O_WGS_BMB = - 0.268\n",
        "\n",
        "WGS = np.array(\n",
        "    [[k0_WGS_B, EA_B, b_CO_WGS_B, b_H2O_WGS_B],\n",
        "    [k0_WGS_BCC, EA_BCC, b_CO_WGS_BCC, b_H2O_WGS_BCC],\n",
        "    [k0_WGS_BMB, EA_BMB, b_CO_WGS_BMB, b_H2O_WGS_BMB]]\n",
        ")\n",
        "\n",
        "ny = np.array(\n",
        "    [[3, -1, 0, 1, -1],\n",
        "    [2, 0, 1, 0, -1],\n",
        "    [1, -1, -1, 1, 0]]\n",
        ")\n",
        "\n",
        "\n",
        "#print(MSR)\n",
        "#print(MD)\n",
        "#print(WGS)\n",
        "#print(ny)"
      ],
      "metadata": {
        "id": "aW1PKqLbrM5g"
      },
      "execution_count": 109,
      "outputs": []
    },
    {
      "cell_type": "markdown",
      "source": [
        "# PFTR Isotherm Stationär\n",
        "\n",
        "ODE:\n",
        "\n",
        "$\\frac{dc_x}{dz}$=$\\frac{1}{u_0}$⋅$R_x$\n",
        "\n",
        "$\\frac{dc_x}{dV}$=-$\\frac{1}{\\dot{V}}$⋅$R_x$"
      ],
      "metadata": {
        "id": "ewE1wq3cizlv"
      }
    },
    {
      "cell_type": "code",
      "source": [
        "# @title Funktion der Reaktionen\n",
        "def ReakFunFull(V, C, T, MSRind, MDind, WGSind):\n",
        "  dC=np.zeros(len(C))\n",
        "  C_H2 = C[0]\n",
        "  C_H2O = C[1]\n",
        "  C_CO = C[2]\n",
        "  C_CO2 = C[3]\n",
        "  C_MeOH = C[4]\n",
        "\n",
        "  rMSR = np.zeros(len(MSR))\n",
        "  rMD = np.zeros(len(MD))\n",
        "  rWGS = np.zeros(len(WGS))\n",
        "\n",
        "  for i in range(len(MSR)):\n",
        "    rMSR[i] = MSR[i,0]*np.power((T/T0), n, dtype=float)*np.exp((-MSR[i,1]/R)*(1/T-1/T0), dtype=float)\n",
        "    rMSR[i] *= np.power(C_MeOH, MSR[i,2], dtype=float) * np.power(C_H2O, MSR[i,3], dtype=float)\n",
        "\n",
        "\n",
        "  for i in range(len(MD)):\n",
        "    rMD[i] = MD[i,0]*np.power((T/T0), n, dtype=float)*np.exp((-MD[i,1]/R)*(1/T-1/T0), dtype=float)\n",
        "    rMD[i] *= np.power(C_MeOH, MD[i,2], dtype=float)\n",
        "\n",
        "  if C_CO > 0:\n",
        "   for i in range(len(WGS)):\n",
        "    rWGS[i] = WGS[i,0]*np.power((T/T0), n, dtype=float)*np.exp((-WGS[i,1]/R)*(1/T-1/T0), dtype=float)\n",
        "    rWGS[i] *= np.power(C_CO, WGS[i,2], dtype=float) * np.power(C_H2O, WGS[i,3], dtype=float)\n",
        "\n",
        "  dC[0] = 1/v*(rMSR[MSRind]*ny[0, 0] + rMD[MDind]*ny[1, 0] + rWGS[WGSind]*ny[2, 0])*dV\n",
        "  dC[1] = 1/v*(rMSR[MSRind]*ny[0, 1] + rMD[MDind]*ny[1, 1] + rWGS[WGSind]*ny[2, 1])*dV\n",
        "  dC[2] = 1/v*(rMSR[MSRind]*ny[0, 2] + rMD[MDind]*ny[1, 2] + rWGS[WGSind]*ny[2, 2])*dV\n",
        "  dC[3] = 1/v*(rMSR[MSRind]*ny[0, 3] + rMD[MDind]*ny[1, 3] + rWGS[WGSind]*ny[2, 3])*dV\n",
        "  dC[4] = 1/v*(rMSR[MSRind]*ny[0, 4] + rMD[MDind]*ny[1, 4] + rWGS[WGSind]*ny[2, 4])*dV\n",
        "\n",
        "  return dC\n",
        "\n",
        "def ReakFunMSRMD (V, C, T, MSRind, MDind):\n",
        "  dC=np.zeros(len(C))\n",
        "  C_H2 = C[0]\n",
        "  C_H2O = C[1]\n",
        "  C_CO = C[2]\n",
        "  C_CO2 = C[3]\n",
        "  C_MeOH = C[4]\n",
        "\n",
        "  rMSR = np.zeros(len(MSR))\n",
        "  rMD = np.zeros(len(MD))\n",
        "\n",
        "  for i in range(len(MSR)):\n",
        "    rMSR[i] = MSR[i,0]*np.power((T/T0), n, dtype=float)*np.exp((-MSR[i,1]/R)*(1/T-1/T0), dtype=float)\n",
        "    rMSR[i] *= np.power(C_MeOH, MSR[i,2], dtype=float) * np.power(C_H2O, MSR[i,3], dtype=float)\n",
        "\n",
        "\n",
        "  for i in range(len(MD)):\n",
        "    rMD[i] = MD[i,0]*np.power((T/T0), n, dtype=float)*np.exp((-MD[i,1]/R)*(1/T-1/T0), dtype=float)\n",
        "    rMD[i] *= np.power(C_MeOH, MD[i,2], dtype=float)\n",
        "\n",
        "  dC[0] = 1/v*(rMSR[MSRind]*ny[0, 0] + rMD[MDind]*ny[1, 0])*dV\n",
        "  dC[1] = 1/v*(rMSR[MSRind]*ny[0, 1] + rMD[MDind]*ny[1, 1])*dV\n",
        "  dC[2] = 1/v*(rMSR[MSRind]*ny[0, 2] + rMD[MDind]*ny[1, 2])*dV\n",
        "  dC[3] = 1/v*(rMSR[MSRind]*ny[0, 3] + rMD[MDind]*ny[1, 3])*dV\n",
        "  dC[4] = 1/v*(rMSR[MSRind]*ny[0, 4] + rMD[MDind]*ny[1, 4])*dV\n",
        "\n",
        "  return dC\n",
        "\n",
        "def ReakFunWGS (V, C, T, WGSind):\n",
        "  dC=np.zeros(len(C))\n",
        "  C_H2 = C[0]\n",
        "  C_H2O = C[1]\n",
        "  C_CO = C[2]\n",
        "  C_CO2 = C[3]\n",
        "  C_MeOH = C[4]\n",
        "\n",
        "  rWGS = np.zeros(len(WGS))\n",
        "\n",
        "  if C_CO > 0:\n",
        "   for i in range(len(WGS)):\n",
        "    rWGS[i] = WGS[i,0]*np.power((T/T0), n, dtype=float)*np.exp((-WGS[i,1]/R)*(1/T-1/T0), dtype=float)\n",
        "    rWGS[i] *= np.power(C_CO, WGS[i,2], dtype=float) * np.power(C_H2O, WGS[i,3], dtype=float)\n",
        "\n",
        "  dC[0] = 1/v*(rWGS[WGSind]*ny[2, 0])*dV\n",
        "  dC[1] = 1/v*(rWGS[WGSind]*ny[2, 1])*dV\n",
        "  dC[2] = 1/v*(rWGS[WGSind]*ny[2, 2])*dV\n",
        "  dC[3] = 1/v*(rWGS[WGSind]*ny[2, 3])*dV\n",
        "  dC[4] = 1/v*(rWGS[WGSind]*ny[2, 4])*dV\n",
        "\n",
        "  return dC\n"
      ],
      "metadata": {
        "id": "8Xss_vPRFyMb"
      },
      "execution_count": 110,
      "outputs": []
    },
    {
      "cell_type": "code",
      "source": [
        "# @title Euler Verfahren Funktion\n",
        "def EulFunFull (y, T):\n",
        "  ytemp = np.zeros([len(Vspan), len(IC)])\n",
        "  ytemp[0,:] = IC\n",
        "\n",
        "  for i in range(steps):\n",
        "    V = Vspan[i]\n",
        "    y = np.transpose(ytemp[i, :])\n",
        "    dy = ReakFunFull(V, y, T, 0, 0, 0)\n",
        "    ytemp[i+1, :] = y + dy\n",
        "\n",
        "  return ytemp\n",
        "\n",
        "def EulFunMSRMD (y, T):\n",
        "  ytemp = np.zeros([len(Vspansplit), len(IC)])\n",
        "  ytemp[0,:] = y\n",
        "\n",
        "  for i in range(stepssplit):\n",
        "    V = Vspan[i]\n",
        "    y = np.transpose(ytemp[i, :])\n",
        "    dy = ReakFunMSRMD(V, y, T, 0, 0)\n",
        "    ytemp[i+1, :] = y + dy\n",
        "\n",
        "  return ytemp\n",
        "\n",
        "def EulFunWGS (y, T):\n",
        "  ytemp = np.zeros([len(Vspansplit), len(IC)])\n",
        "  ytemp[0,:] = y\n",
        "\n",
        "  for i in range(stepssplit):\n",
        "    V = Vspan[i + stepssplit - 1]\n",
        "    y = np.transpose(ytemp[i, :])\n",
        "    dy = ReakFunWGS(V, y, T, 0)\n",
        "    ytemp[i+1, :] = y + dy\n",
        "\n",
        "  return ytemp\n"
      ],
      "metadata": {
        "id": "xD4VhgB4ivsV"
      },
      "execution_count": 111,
      "outputs": []
    },
    {
      "cell_type": "code",
      "source": [
        "# @title Berechnung mittels ODE-Solver\n",
        "\n",
        "# Vsp = np.arange(0, Vges, dV)\n",
        "\n",
        "# def dcdV(C, V):\n",
        "#   cA = C\n",
        "#   dCdV = -(1/v)*k*C\n",
        "#   return dCdV\n",
        "\n",
        "# sol = odeint(dcdV, cA0, Vsp)\n",
        "\n",
        "#print(sol[:,0])\n",
        "#print(Vsp)\n"
      ],
      "metadata": {
        "id": "bzcg-sihi4LS",
        "cellView": "form"
      },
      "execution_count": 112,
      "outputs": []
    },
    {
      "cell_type": "code",
      "source": [
        "# @title main\n",
        "\n",
        "T = 323\n",
        "\n",
        "# Conc = EulFunFull(IC, T)\n",
        "# print(Conc)\n",
        "\n",
        "# ConcMSRMD = EulFunMSRMD(IC, T)\n",
        "# print(ConcMSRMD)\n",
        "\n",
        "\n",
        "ConcMSRMD = EulFunMSRMD(IC, T)\n",
        "ICtemp = np.transpose(ConcMSRMD[len(ConcMSRMD)-1, :])\n",
        "Conctemp = EulFunWGS(ICtemp, T)\n",
        "Conctemp2 = np.delete(Conctemp, stepssplit, 0)\n",
        "Conc = np.append(ConcMSRMD, Conctemp2, axis = 0)\n",
        "# print (Conc)\n",
        "# print (Conctemp2)"
      ],
      "metadata": {
        "id": "d0ve5884jBvk"
      },
      "execution_count": 113,
      "outputs": []
    },
    {
      "cell_type": "markdown",
      "source": [
        "#Plots"
      ],
      "metadata": {
        "id": "-zalIPb7tEqL"
      }
    },
    {
      "cell_type": "code",
      "source": [
        "# @title full plot\n",
        "plt.figure(1)\n",
        "plt.plot(Vspan, Conc[:,0], label='H2')\n",
        "plt.plot(Vspan, Conc[:,1], label='H2O')\n",
        "plt.plot(Vspan, Conc[:,2], label='CO')\n",
        "plt.plot(Vspan, Conc[:,3], label='CO2')\n",
        "plt.plot(Vspan, Conc[:,4], label='MeOH')\n",
        "\n",
        "plt.axis((0, 50, 0, 1))\n",
        "plt.legend(loc='best')\n",
        "plt.grid()\n"
      ],
      "metadata": {
        "id": "BzX8r1mEi58n",
        "colab": {
          "base_uri": "https://localhost:8080/",
          "height": 435
        },
        "outputId": "c47ca10d-dbc1-47b5-f6b0-5d02979498de"
      },
      "execution_count": 114,
      "outputs": [
        {
          "output_type": "display_data",
          "data": {
            "text/plain": [
              "<Figure size 640x480 with 1 Axes>"
            ],
            "image/png": "[encoded data removed]"
          },
          "metadata": {}
        }
      ]
    },
    {
      "cell_type": "code",
      "source": [
        "# @title MSR + MD plot\n",
        "\n",
        "plt.figure(2)\n",
        "plt.plot(Vspansplit, ConcMSRMD[:,0], label='H2')\n",
        "plt.plot(Vspansplit, ConcMSRMD[:,1], label='H2O')\n",
        "plt.plot(Vspansplit, ConcMSRMD[:,2], label='CO')\n",
        "plt.plot(Vspansplit, ConcMSRMD[:,3], label='CO2')\n",
        "plt.plot(Vspansplit, ConcMSRMD[:,4], label='MeOH')\n",
        "\n",
        "plt.axis((0, 25, 0, 1))\n",
        "plt.legend(loc='best')\n",
        "plt.grid()"
      ],
      "metadata": {
        "colab": {
          "base_uri": "https://localhost:8080/",
          "height": 435
        },
        "id": "mXdfexywtKZv",
        "outputId": "94f2849f-9c58-4cd2-a7ff-9a994089d0ca"
      },
      "execution_count": 117,
      "outputs": [
        {
          "output_type": "display_data",
          "data": {
            "text/plain": [
              "<Figure size 640x480 with 1 Axes>"
            ],
            "image/png": "[encoded data removed]"
          },
          "metadata": {}
        }
      ]
    },
    {
      "cell_type": "code",
      "source": [
        "# @title code testing block || IGNORE\n",
        "\n",
        "#H = np.array (\n",
        "#    [[1, 1, 1],\n",
        "#    [2, 2, 2],\n",
        "#    [7, 3, 3],\n",
        "#    [4, 4, 4]])\n",
        "\n",
        "#Hres = np.zeros(len(H))\n",
        "\n",
        "#for i in range(len(H)):\n",
        "#  Hres[i] = H[i,0]*H[i,1]*H[i,2]\n",
        "\n",
        "\n",
        "#print(Hres)\n",
        "\n",
        "#A = 3*10**-3\n",
        "#B = 3*np.power(10,-3, dtype=float)\n",
        "\n",
        "#print(A)\n",
        "#print(B)\n",
        "\n",
        "#C=np.array(\n",
        "#    [[1, 2, 1, 1, 2],\n",
        "#    [1, 3, 1, 1, 3]]\n",
        "#)\n",
        "\n",
        "#rWGS = np.zeros(2)\n",
        "#rWGS2 = np.zeros(2)\n",
        "\n",
        "\n",
        "#for i in range(2):\n",
        "#  rWGS[i] = WGS[i,0]*np.exp((-WGS[i,1]/R)*(1/T-1/T0))*C[i, 3]**WGS[i,2]*C[i, 2]**WGS[i,3]\n",
        "#  rWGS2[i] = WGS[i,0]*np.exp((-WGS[i,1]/R)*(1/T-1/T0))*np.power(C[i, 3], WGS[i,2], dtype=float)*np.power(C[i, 2], WGS[i,3], dtype=float)\n",
        "\n",
        "#print(rWGS)\n",
        "#print(rWGS2)\n",
        "\n",
        "#m = np.array([[5, 10]])\n",
        "#c = np.array([[1, 2], [3, 4]])\n",
        "\n",
        "#huh = np.multiply(rWGS[0], ny[:, 0])\n",
        "#huh2 = rWGS[0]*ny[:,0]\n",
        "#print(huh)\n",
        "#print(huh2)\n",
        "\n",
        "#ReakFun test\n",
        "# ReakFun(t, C, T, MSRind, MDind, WGSind)\n",
        "#pls = ReakFun(0, IC, 300, 0, 0, 0)\n",
        "#print(pls)\n",
        "\n",
        "#np.transpose test\n",
        "#ktemp = np.zeros([10, 3])\n",
        "#ktemp[0,:] = 1\n",
        "#k = np.transpose(ktemp[1, :])\n",
        "#print(ktemp)\n",
        "#print(k)\n"
      ],
      "metadata": {
        "id": "i7bdVqLuFNns",
        "cellView": "form"
      },
      "execution_count": 116,
      "outputs": []
    }
  ]
}