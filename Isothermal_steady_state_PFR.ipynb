{
  "nbformat": 4,
  "nbformat_minor": 0,
  "metadata": {
    "colab": {
      "provenance": [],
      "collapsed_sections": [
        "ni76wGgCd-5X"
      ],
      "authorship_tag": "ABX9TyM3kXLak3bF2QAnI3DlPxMj",
      "include_colab_link": true
    },
    "kernelspec": {
      "name": "python3",
      "display_name": "Python 3"
    },
    "language_info": {
      "name": "python"
    }
  },
  "cells": [
    {
      "cell_type": "markdown",
      "metadata": {
        "id": "view-in-github",
        "colab_type": "text"
      },
      "source": [
        "<a href=\"https://colab.research.google.com/github/DanielGreiner/Masterarbeit/blob/main/Isothermal_steady_state_PFR.ipynb\" target=\"_parent\"><img src=\"https://colab.research.google.com/assets/colab-badge.svg\" alt=\"Open In Colab\"/></a>"
      ]
    },
    {
      "cell_type": "markdown",
      "metadata": {
        "id": "ni76wGgCd-5X"
      },
      "source": [
        "# Load libraries"
      ]
    },
    {
      "cell_type": "code",
      "source": [
        "# @title import libraries\n",
        "import tensorflow as tf\n",
        "import numpy as np\n",
        "import pandas as pd\n",
        "import matplotlib.pyplot as plt\n",
        "#import torch as to\n",
        "from scipy.integrate import odeint"
      ],
      "metadata": {
        "cellView": "form",
        "id": "FF8maq9Biilj"
      },
      "execution_count": 127,
      "outputs": []
    },
    {
      "cell_type": "code",
      "source": [
        "# @title check library versions\n",
        "print(\"tensorflow:\" + str(tf.__version__))\n",
        "print(\"numpy:\" + str(np.__version__))\n",
        "print(\"pandas:\" + str(pd.__version__))\n",
        "#print(\"torch:\" + str(to.__version__))"
      ],
      "metadata": {
        "cellView": "form",
        "id": "ye8T1D2Yijh0",
        "colab": {
          "base_uri": "https://localhost:8080/"
        },
        "outputId": "28dc737f-1295-4179-a1dc-ff2167ff1e24"
      },
      "execution_count": 128,
      "outputs": [
        {
          "output_type": "stream",
          "name": "stdout",
          "text": [
            "tensorflow:2.13.0\n",
            "numpy:1.23.5\n",
            "pandas:1.5.3\n"
          ]
        }
      ]
    },
    {
      "cell_type": "markdown",
      "source": [
        "# Reaktionen\n",
        "\n",
        "  \\begin{array}{lll}\n",
        "  \\text{Methanol steam reforming (MSR):}&\\kern 3pc CH_3OH_{(g)}+H_2O_{(g)}\\kern 0.5pc{\\overset{k_{1, eff}}{\\rightleftharpoons}}\\kern 0.5pc 3H_{2(g)}+CO_{2(g)}&\\kern 3pc\\Delta_r H_{m}^{o}=+49\\enspace \\frac{kJ}{mol} \\\\\n",
        "  \\text{Methanol decomposition (MD):}&\\kern 3pc CH_3OH_{(g)}\\kern 0.5pc {\\overset{k_{2, eff}}{\\rightleftharpoons}}\\kern 0.5pc 2H_{2(g)}+CO_{(g)}&\\kern 3pc\\Delta_r H_{m}^{o}=+91\\enspace \\frac{kJ}{mol} \\\\\n",
        "  \\text{Water gas shift (WGS):}&\\kern 3pc CO_{(g)}+H_2O_{(g)}\\kern 0.5pc{\\overset{k_{3, eff}}{\\rightleftharpoons}}\\kern 0.5pc H_{2(g)}+CO_{2(g)}&\\kern 3pc\\Delta_r H_{m}^{o}=-41\\enspace \\frac{kJ}{mol}\n",
        "  \\end{array}\n"
      ],
      "metadata": {
        "id": "CqJKAvaDjhMS"
      }
    },
    {
      "cell_type": "markdown",
      "source": [
        "#Indexing in arrays\n",
        "\n",
        "\\begin{array}{lllll}\n",
        "H_2 & H_2O & CO & CO_2 & CH_3OH \\\\\n",
        "0 & 1 & 2 & 3 & 4 \\\\\n",
        "\\end{array}"
      ],
      "metadata": {
        "id": "IzTI73zHjPUx"
      }
    },
    {
      "cell_type": "code",
      "source": [
        "# @title Reaktorkonstanten laden\n",
        "u = 1.500\n",
        "A = 3*10**-3\n",
        "v = u*A\n",
        "Vges = 15\n",
        "V0 = 0\n",
        "steps = 1000\n",
        "dV = (Vges-V0)/steps\n",
        "Vspan = np.arange(V0, Vges+dV/2, dV)\n",
        "z = Vges/A\n",
        "r = np.sqrt(A/np.pi)\n",
        "T0 = 273\n",
        "#print(Vspan)\n",
        "print(Vspan)"
      ],
      "metadata": {
        "id": "yvl0IUgdirdT",
        "colab": {
          "base_uri": "https://localhost:8080/"
        },
        "outputId": "cd02a312-dcea-429a-9491-607a8de25c3b"
      },
      "execution_count": 129,
      "outputs": [
        {
          "output_type": "stream",
          "name": "stdout",
          "text": [
            "[ 0.     0.015  0.03  ... 14.97  14.985 15.   ]\n"
          ]
        }
      ]
    },
    {
      "cell_type": "code",
      "source": [
        "# @title Startwerte\n",
        "\n",
        "T0 = 293\n",
        "C0_H2 = 0\n",
        "C0_H2O = 2\n",
        "C0_CO = 1\n",
        "C0_CO2 = 0\n",
        "C0_MeOH = 2\n",
        "\n",
        "IC = np.array([C0_H2, C0_H2O, C0_CO, C0_CO2, C0_MeOH])"
      ],
      "metadata": {
        "id": "NBZz_R58itm5"
      },
      "execution_count": 130,
      "outputs": []
    },
    {
      "cell_type": "code",
      "source": [
        "# @title Kinetikdaten laden\n",
        "\n",
        "R = 8.314 #J mol-1 K-1\n",
        "\n",
        "#BiCat\n",
        "#MSR\n",
        "k0_MSR_S = 4.2*10**(-6) # kmol kg-1 h-1\n",
        "EA_MSR_S = 4.978*1000 #J mol-1\n",
        "b_MeOH_MSR_S = - 0.428\n",
        "b_H2O_MSR_S = - 0.949\n",
        "\n",
        "k0_MSR_M = 2.1*10**(-6) # kmol kg-1 h-1\n",
        "k0_MSR_K = 2.7*10**(-6) # kmol kg-1 h-1\n",
        "k0_MSR_L = 3.3*10**(-6) # kmol kg-1 h-1\n",
        "\n",
        "EA_MSR_MKL = 5.566*1000 #J mol-1\n",
        "b_MeOH_MSR_MKL = - 0.43\n",
        "b_H2O_MSR_MKL = - 0.949\n",
        "\n",
        "MSR = np.array(\n",
        "    [[k0_MSR_S, EA_MSR_S, b_MeOH_MSR_S, b_H2O_MSR_S],\n",
        "    [k0_MSR_M, EA_MSR_MKL, b_MeOH_MSR_MKL, b_H2O_MSR_MKL],\n",
        "    [k0_MSR_K, EA_MSR_MKL, b_MeOH_MSR_MKL, b_H2O_MSR_MKL],\n",
        "    [k0_MSR_L, EA_MSR_MKL, b_MeOH_MSR_MKL, b_H2O_MSR_MKL]]\n",
        ")\n",
        "\n",
        "#MD\n",
        "k0_MD_S = 5.5*10**(-8) # kmol kg-1 h-1\n",
        "EA_MD_S = 42.137*1000 #J mol-1\n",
        "b_MeOH_MD_S = 0.114\n",
        "\n",
        "k0_MD_M = 1.5*10**(-8) # kmol kg-1 h-1\n",
        "k0_MD_K = 3.7*10**(-8) # kmol kg-1 h-1\n",
        "k0_MD_L = 1.1*10**(-7) # kmol kg-1 h-1\n",
        "\n",
        "EA_MD_MKL = 36.771*1000 #J mol-1\n",
        "b_MeOH_MD_MKL = 0.109\n",
        "\n",
        "MD = np.array (\n",
        "    [[k0_MD_S, EA_MD_S, b_MeOH_MD_S],\n",
        "    [k0_MD_M, EA_MD_MKL, b_MeOH_MD_MKL],\n",
        "    [k0_MD_K, EA_MD_MKL, b_MeOH_MD_MKL],\n",
        "    [k0_MD_L, EA_MD_MKL, b_MeOH_MD_MKL]]\n",
        ")\n",
        "\n",
        "#WGS\n",
        "#Benchmark = B; Benchmark-CuCl = BCC; Benchmark-MB = BMB\n",
        "\n",
        "\n",
        "k0_WGS_B = 3.1*10**(-10)\n",
        "EA_B = 104.4*1000 #J mol-1\n",
        "b_CO_WGS_B = - 0.892\n",
        "b_H2O_WGS_B = - 0.135\n",
        "\n",
        "\n",
        "k0_WGS_BCC = 1.6*10**(-9)\n",
        "EA_BCC = 105.5*1000 #J mol-1\n",
        "b_CO_WGS_BCC = - 0.836\n",
        "b_H2O_WGS_BCC = - 0.338\n",
        "\n",
        "k0_WGS_BMB = 2.82*10**(-10)\n",
        "EA_BMB = 78.6*1000 #J mol-1\n",
        "b_CO_WGS_BMB = - 0.685\n",
        "b_H2O_WGS_BMB = - 0.268\n",
        "\n",
        "WGS = np.array(\n",
        "    [[k0_WGS_B, EA_B, b_CO_WGS_B, b_H2O_WGS_B],\n",
        "    [k0_WGS_BCC, EA_BCC, b_CO_WGS_BCC, b_H2O_WGS_BCC],\n",
        "    [k0_WGS_BMB, EA_BMB, b_CO_WGS_BMB, b_H2O_WGS_BMB]]\n",
        ")\n",
        "\n",
        "ny = np.array(\n",
        "    [[3, -1, 0, 1, -1],\n",
        "    [2, 0, 1, 0, -1],\n",
        "    [1, -1, -1, 1, 0]]\n",
        ")\n",
        "\n",
        "\n",
        "#print(MSR)\n",
        "#print(MD)\n",
        "#print(WGS)\n",
        "#print(ny)"
      ],
      "metadata": {
        "id": "aW1PKqLbrM5g"
      },
      "execution_count": 131,
      "outputs": []
    },
    {
      "cell_type": "markdown",
      "source": [
        "# PFTR Isotherm Stationär\n",
        "\n",
        "ODE: $\\frac{dc_x}{dz}$=$\\frac{1}{u_0}$⋅$R_x$\n",
        "\n",
        "$\\frac{dc_A}{dV}$=-$\\frac{1}{V.}$⋅$R_x$"
      ],
      "metadata": {
        "id": "ewE1wq3cizlv"
      }
    },
    {
      "cell_type": "code",
      "source": [
        "# @title Funktion der Reaktionen\n",
        "def ReakFun(V, C, T, MSRind, MDind, WGSind):\n",
        "  dCdV=np.zeros(len(C))\n",
        "  C_H2 = C[0]\n",
        "  C_H2O = C[1]\n",
        "  C_CO = C[2]\n",
        "  C_CO2 = C[3]\n",
        "  C_MeOH = C[4]\n",
        "\n",
        "  rMSR = np.zeros(len(MSR))\n",
        "  rMD = np.zeros(len(MD))\n",
        "  rWGS = np.zeros(len(WGS))\n",
        "\n",
        "  for i in range(len(MSR)):\n",
        "    rMSR[i] = MSR[i,0]*np.exp((-MSR[i,1]/R)*(1/T-1/T0), dtype=float)\n",
        "    rMSR[i] *= np.power(C_MeOH, MSR[i,2], dtype=float) * np.power(C_H2O, MSR[i,3], dtype=float)\n",
        "\n",
        "\n",
        "  for i in range(len(MD)):\n",
        "    rMD[i] = MD[i,0]**np.exp((-MD[i,1]/R)*(1/T-1/T0), dtype=float)\n",
        "    rMD[i] *= np.power(C_MeOH, MSR[i,2], dtype=float)\n",
        "\n",
        "\n",
        "  for i in range(len(WGS)):\n",
        "    rWGS[i] = WGS[i,0]*np.exp((-WGS[i,1]/R)*(1/T-1/T0), dtype=float)\n",
        "    rWGS[i] *= np.power(C_CO, WGS[i,2], dtype=float) * np.power(C_H2O, WGS[i,3], dtype=float)\n",
        "\n",
        "\n",
        "\n",
        "  dCdV[0] = 1/v*(rMSR[MSRind]*ny[0, 0] + rMD[MDind]*ny[1, 0] + rWGS[WGSind]*ny[2, 0])\n",
        "  dCdV[1] = 1/v*(rMSR[MSRind]*ny[0, 1] + rMD[MDind]*ny[1, 1] + rWGS[WGSind]*ny[2, 1])\n",
        "  dCdV[2] = 1/v*(rMSR[MSRind]*ny[0, 2] + rMD[MDind]*ny[1, 2] + rWGS[WGSind]*ny[2, 2])\n",
        "  dCdV[3] = 1/v*(rMSR[MSRind]*ny[0, 3] + rMD[MDind]*ny[1, 3] + rWGS[WGSind]*ny[2, 3])\n",
        "  dCdV[4] = 1/v*(rMSR[MSRind]*ny[0, 4] + rMD[MDind]*ny[1, 4] + rWGS[WGSind]*ny[2, 4])\n",
        "\n",
        "  return dCdV\n"
      ],
      "metadata": {
        "id": "8Xss_vPRFyMb"
      },
      "execution_count": 132,
      "outputs": []
    },
    {
      "cell_type": "code",
      "source": [
        "# @title Euler Verfahren manuell\n",
        "def EulFun (y, T):\n",
        "  ytemp = np.zeros([len(Vspan), len(IC)])\n",
        "  ytemp[0,:] = IC\n",
        "\n",
        "  for i in range(steps):\n",
        "    V = Vspan[i]\n",
        "    y = np.transpose(ytemp[i, :])\n",
        "    dydV = ReakFun(V, y, T, 0, 0, 0)\n",
        "    ytemp[i+1, :] = y + dydV*dV\n",
        "  return ytemp\n"
      ],
      "metadata": {
        "id": "xD4VhgB4ivsV"
      },
      "execution_count": 133,
      "outputs": []
    },
    {
      "cell_type": "code",
      "source": [
        "# @title Berechnung mittels ODE-Solver\n",
        "'''\n",
        "Vsp = np.arange(0, Vges, dV)\n",
        "\n",
        "def dcdV(C, V):\n",
        "  cA = C\n",
        "  dCdV = -(1/v)*k*C\n",
        "  return dCdV\n",
        "\n",
        "sol = odeint(dcdV, cA0, Vsp)\n",
        "'''\n",
        "#print(sol[:,0])\n",
        "#print(Vsp)"
      ],
      "metadata": {
        "id": "bzcg-sihi4LS",
        "colab": {
          "base_uri": "https://localhost:8080/",
          "height": 35
        },
        "outputId": "e9929011-883c-4aa7-8dee-abbf5dace750",
        "cellView": "form"
      },
      "execution_count": 134,
      "outputs": [
        {
          "output_type": "execute_result",
          "data": {
            "text/plain": [
              "'\\nVsp = np.arange(0, Vges, dV)\\n\\ndef dcdV(C, V):\\n  cA = C\\n  dCdV = -(1/v)*k*C\\n  return dCdV\\n\\nsol = odeint(dcdV, cA0, Vsp)\\n'"
            ],
            "application/vnd.google.colaboratory.intrinsic+json": {
              "type": "string"
            }
          },
          "metadata": {},
          "execution_count": 134
        }
      ]
    },
    {
      "cell_type": "code",
      "source": [
        "# @title main\n",
        "\n",
        "Conc = EulFun(IC, 350)\n",
        "print(Conc)"
      ],
      "metadata": {
        "colab": {
          "base_uri": "https://localhost:8080/"
        },
        "id": "d0ve5884jBvk",
        "outputId": "fb807cc7-73dd-4d40-de81-9b6228e7844d"
      },
      "execution_count": 135,
      "outputs": [
        {
          "output_type": "stream",
          "name": "stdout",
          "text": [
            "[[0.00000000e+00 2.00000000e+00 1.00000000e+00 0.00000000e+00\n",
            "  2.00000000e+00]\n",
            " [2.35672292e-05 1.99999147e+00 9.99998989e-01 8.52981440e-06\n",
            "  1.99999248e+00]\n",
            " [4.71345874e-05 1.99998294e+00 9.99997978e-01 1.70596728e-05\n",
            "  1.99998496e+00]\n",
            " ...\n",
            " [2.35846344e-02 1.99146524e+00 9.98990170e-01 8.53476463e-03\n",
            "  1.99247507e+00]\n",
            " [2.36083314e-02 1.99145666e+00 9.98989158e-01 8.54333871e-03\n",
            "  1.99246750e+00]\n",
            " [2.36320285e-02 1.99144809e+00 9.98988145e-01 8.55191283e-03\n",
            "  1.99245994e+00]]\n"
          ]
        }
      ]
    },
    {
      "cell_type": "code",
      "source": [
        "# @title Plots\n",
        "\n",
        "plt.plot(Vspan, Conc[:,0], label='H2')\n",
        "plt.plot(Vspan, Conc[:,1], label='H2O')\n",
        "plt.plot(Vspan, Conc[:,2], label='CO')\n",
        "plt.plot(Vspan, Conc[:,3], label='CO2')\n",
        "plt.plot(Vspan, Conc[:,4], label='MeOH')\n",
        "\n",
        "plt.axis((0, 15, 0, 2.01))\n",
        "#plt.legend(loc='best')\n"
      ],
      "metadata": {
        "id": "BzX8r1mEi58n",
        "colab": {
          "base_uri": "https://localhost:8080/",
          "height": 450
        },
        "outputId": "d3babd84-cba4-4c55-fc83-bc8467d1a81e"
      },
      "execution_count": 139,
      "outputs": [
        {
          "output_type": "execute_result",
          "data": {
            "text/plain": [
              "(0.0, 15.0, 0.0, 2.01)"
            ]
          },
          "metadata": {},
          "execution_count": 139
        },
        {
          "output_type": "display_data",
          "data": {
            "text/plain": [
              "<Figure size 640x480 with 1 Axes>"
            ],
            "image/png": "[encoded data removed]"
          },
          "metadata": {}
        }
      ]
    },
    {
      "cell_type": "code",
      "source": [
        "# @title code testing block || IGNORE\n",
        "\n",
        "#H = np.array (\n",
        "#    [[1, 1, 1],\n",
        "#    [2, 2, 2],\n",
        "#    [7, 3, 3],\n",
        "#    [4, 4, 4]])\n",
        "\n",
        "#Hres = np.zeros(len(H))\n",
        "\n",
        "#for i in range(len(H)):\n",
        "#  Hres[i] = H[i,0]*H[i,1]*H[i,2]\n",
        "\n",
        "\n",
        "#print(Hres)\n",
        "\n",
        "#A = 3*10**-3\n",
        "#B = 3*np.power(10,-3, dtype=float)\n",
        "\n",
        "#print(A)\n",
        "#print(B)\n",
        "\n",
        "#C=np.array(\n",
        "#    [[1, 2, 1, 1, 2],\n",
        "#    [1, 3, 1, 1, 3]]\n",
        "#)\n",
        "\n",
        "#rWGS = np.zeros(2)\n",
        "#rWGS2 = np.zeros(2)\n",
        "\n",
        "\n",
        "#for i in range(2):\n",
        "#  rWGS[i] = WGS[i,0]*np.exp((-WGS[i,1]/R)*(1/T-1/T0))*C[i, 3]**WGS[i,2]*C[i, 2]**WGS[i,3]\n",
        "#  rWGS2[i] = WGS[i,0]*np.exp((-WGS[i,1]/R)*(1/T-1/T0))*np.power(C[i, 3], WGS[i,2], dtype=float)*np.power(C[i, 2], WGS[i,3], dtype=float)\n",
        "\n",
        "#print(rWGS)\n",
        "#print(rWGS2)\n",
        "\n",
        "#m = np.array([[5, 10]])\n",
        "#c = np.array([[1, 2], [3, 4]])\n",
        "\n",
        "#huh = np.multiply(rWGS[0], ny[:, 0])\n",
        "#huh2 = rWGS[0]*ny[:,0]\n",
        "#print(huh)\n",
        "#print(huh2)\n",
        "\n",
        "#ReakFun test\n",
        "# ReakFun(t, C, T, MSRind, MDind, WGSind)\n",
        "#pls = ReakFun(0, IC, 300, 0, 0, 0)\n",
        "#print(pls)\n",
        "\n",
        "#np.transpose test\n",
        "#ktemp = np.zeros([10, 3])\n",
        "#ktemp[0,:] = 1\n",
        "#k = np.transpose(ktemp[1, :])\n",
        "#print(ktemp)\n",
        "#print(k)\n"
      ],
      "metadata": {
        "id": "i7bdVqLuFNns",
        "cellView": "form"
      },
      "execution_count": 137,
      "outputs": []
    }
  ]
}