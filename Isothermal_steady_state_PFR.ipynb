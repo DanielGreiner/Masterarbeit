{
  "nbformat": 4,
  "nbformat_minor": 0,
  "metadata": {
    "colab": {
      "provenance": [],
      "collapsed_sections": [
        "ni76wGgCd-5X"
      ],
      "authorship_tag": "ABX9TyMBMG9Q+NQyxNNaFr4KKA3T",
      "include_colab_link": true
    },
    "kernelspec": {
      "name": "python3",
      "display_name": "Python 3"
    },
    "language_info": {
      "name": "python"
    }
  },
  "cells": [
    {
      "cell_type": "markdown",
      "metadata": {
        "id": "view-in-github",
        "colab_type": "text"
      },
      "source": [
        "<a href=\"https://colab.research.google.com/github/DanielGreiner/Masterarbeit/blob/main/Isothermal_steady_state_PFR.ipynb\" target=\"_parent\"><img src=\"https://colab.research.google.com/assets/colab-badge.svg\" alt=\"Open In Colab\"/></a>"
      ]
    },
    {
      "cell_type": "markdown",
      "metadata": {
        "id": "ni76wGgCd-5X"
      },
      "source": [
        "# Load libraries"
      ]
    },
    {
      "cell_type": "code",
      "source": [
        "# @title import libraries\n",
        "import tensorflow as tf\n",
        "import numpy as np\n",
        "import pandas as pd\n",
        "import matplotlib.pyplot as plt\n",
        "#import torch as to\n",
        "from scipy.integrate import odeint"
      ],
      "metadata": {
        "cellView": "form",
        "id": "FF8maq9Biilj"
      },
      "execution_count": 1,
      "outputs": []
    },
    {
      "cell_type": "code",
      "source": [
        "# @title check library versions\n",
        "print(\"tensorflow:\" + str(tf.__version__))\n",
        "print(\"numpy:\" + str(np.__version__))\n",
        "print(\"pandas:\" + str(pd.__version__))\n",
        "#print(\"torch:\" + str(to.__version__))"
      ],
      "metadata": {
        "cellView": "form",
        "id": "ye8T1D2Yijh0",
        "colab": {
          "base_uri": "https://localhost:8080/"
        },
        "outputId": "5723a5e6-7ac6-4c7a-e939-6011c7d712bf"
      },
      "execution_count": 2,
      "outputs": [
        {
          "output_type": "stream",
          "name": "stdout",
          "text": [
            "tensorflow:2.13.0\n",
            "numpy:1.23.5\n",
            "pandas:1.5.3\n"
          ]
        }
      ]
    },
    {
      "cell_type": "markdown",
      "source": [
        "# Reaktionen\n",
        "\n",
        "  \\begin{array}{lll}\n",
        "  \\text{Methanol steam reforming (MSR):}&\\kern 3pc CH_3OH_{(g)}+H_2O_{(g)}\\kern 0.5pc{\\overset{k_{1, eff}}{\\rightleftharpoons}}\\kern 0.5pc 3H_{2(g)}+CO_{2(g)}&\\kern 3pc\\Delta_r H_{m}^{o}=+49\\enspace \\frac{kJ}{mol} \\\\\n",
        "  \\text{Methanol decomposition (MD):}&\\kern 3pc CH_3OH_{(g)}\\kern 0.5pc {\\overset{k_{2, eff}}{\\rightleftharpoons}}\\kern 0.5pc 2H_{2(g)}+CO_{(g)}&\\kern 3pc\\Delta_r H_{m}^{o}=+91\\enspace \\frac{kJ}{mol} \\\\\n",
        "  \\text{Water gas shift (WGS):}&\\kern 3pc CO_{(g)}+H_2O_{(g)}\\kern 0.5pc{\\overset{k_{3, eff}}{\\rightleftharpoons}}\\kern 0.5pc H_{2(g)}+CO_{2(g)}&\\kern 3pc\\Delta_r H_{m}^{o}=-41\\enspace \\frac{kJ}{mol}\n",
        "  \\end{array}\n"
      ],
      "metadata": {
        "id": "CqJKAvaDjhMS"
      }
    },
    {
      "cell_type": "markdown",
      "source": [
        "#Indexing in arrays\n",
        "\n",
        "\\begin{array}{lllll}\n",
        "H_2 & H_2O & CO & CO_2 & CH_3OH \\\\\n",
        "0 & 1 & 2 & 3 & 4 \\\\\n",
        "\\end{array}"
      ],
      "metadata": {
        "id": "IzTI73zHjPUx"
      }
    },
    {
      "cell_type": "code",
      "source": [
        "# @title Reaktorkonstanten laden\n",
        "u = 1.500\n",
        "A = 3*10**-3\n",
        "v = u*A\n",
        "Vges = 0.015\n",
        "steps = 1000\n",
        "dV = Vges/steps\n",
        "z = Vges/A\n",
        "r = np.sqrt(A/np.pi)\n",
        "T0 = 273"
      ],
      "metadata": {
        "id": "yvl0IUgdirdT",
        "colab": {
          "base_uri": "https://localhost:8080/"
        },
        "outputId": "71190852-8d74-4326-a49f-cfd69500e8f4"
      },
      "execution_count": 37,
      "outputs": [
        {
          "output_type": "stream",
          "name": "stdout",
          "text": [
            "0.003\n",
            "0.003\n"
          ]
        }
      ]
    },
    {
      "cell_type": "code",
      "source": [
        "# @title Startwerte\n",
        "t0 = 0\n",
        "z0 = 0\n",
        "V0 = 0\n",
        "T0 = 298\n",
        "C0_H2 = 0\n",
        "C0_H2O = 2\n",
        "C0_CO = 0\n",
        "C0_CO2 = 0\n",
        "C0_MeOH = 2\n",
        "\n",
        "IC = np.array([C0_H2, C0_H2O, C0_CO, C0_CO2, C0_MeOH])"
      ],
      "metadata": {
        "id": "NBZz_R58itm5"
      },
      "execution_count": 31,
      "outputs": []
    },
    {
      "cell_type": "code",
      "source": [
        "# @title Kinetikdaten laden\n",
        "\n",
        "R = 8.314 #J mol-1 K-1\n",
        "\n",
        "#BiCat\n",
        "#MSR\n",
        "k0_MSR_S = 4.2*10**(-6) # kmol kg-1 h-1\n",
        "EA_MSR_S = 4.978 #kJ mol-1\n",
        "b_MeOH_MSR_S = - 0.428\n",
        "b_H2O_MSR_S = - 0.949\n",
        "\n",
        "k0_MSR_M = 2.1*10**(-6) # kmol kg-1 h-1\n",
        "k0_MSR_K = 2.7*10**(-6) # kmol kg-1 h-1\n",
        "k0_MSR_L = 3.3*10**(-6) # kmol kg-1 h-1\n",
        "\n",
        "EA_MSR_MKL = 5.566\n",
        "b_MeOH_MSR_MKL = - 0.43\n",
        "b_H2O_MSR_MKL = - 0.949\n",
        "\n",
        "MSR = np.array(\n",
        "    [[k0_MSR_S, EA_MSR_S, b_MeOH_MSR_S, b_H2O_MSR_S],\n",
        "    [k0_MSR_M, EA_MSR_MKL, b_MeOH_MSR_MKL, b_H2O_MSR_MKL],\n",
        "    [k0_MSR_K, EA_MSR_MKL, b_MeOH_MSR_MKL, b_H2O_MSR_MKL],\n",
        "    [k0_MSR_L, EA_MSR_MKL, b_MeOH_MSR_MKL, b_H2O_MSR_MKL]]\n",
        ")\n",
        "\n",
        "#MD\n",
        "k0_MD_S = 5.5*10**(-8) # kmol kg-1 h-1\n",
        "EA_MD_S = 42.137 #kJ mol-1\n",
        "b_MeOH_MD_S = 0.114\n",
        "\n",
        "k0_MD_M = 1.5*10**(-8) # kmol kg-1 h-1\n",
        "k0_MD_K = 3.7*10**(-8) # kmol kg-1 h-1\n",
        "k0_MD_L = 1.1*10**(-7) # kmol kg-1 h-1\n",
        "\n",
        "EA_MD_MKL = 36.771 #kJ mol-1\n",
        "b_MeOH_MD_MKL = 0.109\n",
        "\n",
        "MD = np.array (\n",
        "    [[k0_MD_S, EA_MD_S, b_MeOH_MD_S],\n",
        "    [k0_MD_M, EA_MD_MKL, b_MeOH_MD_MKL],\n",
        "    [k0_MD_K, EA_MD_MKL, b_MeOH_MD_MKL],\n",
        "    [k0_MD_L, EA_MD_MKL, b_MeOH_MD_MKL]]\n",
        ")\n",
        "\n",
        "#WGS\n",
        "#Benchmark = B; Benchmark-CuCl = BCC; Benchmark-MB = BMB\n",
        "\n",
        "\n",
        "k0_WGS_B = 3.1*10**(-10)\n",
        "EA_B = 104.4 #kJ mol-1\n",
        "b_CO_WGS_B = - 0.892\n",
        "b_H2O_WGS_B = - 0.135\n",
        "\n",
        "\n",
        "k0_WGS_BCC = 1.6*10**(-9)\n",
        "EA_BCC = 105.5 #kJ mol-1\n",
        "b_CO_WGS_BCC = - 0.836\n",
        "b_H2O_WGS_BCC = - 0.338\n",
        "\n",
        "k0_WGS_BMB = 2.82*10**(-10)\n",
        "EA_BMB = 78.6 #kJ mol-1\n",
        "b_CO_WGS_BMB = - 0.685\n",
        "b_H2O_WGS_BMB = - 0.268\n",
        "\n",
        "WGS = np.array(\n",
        "    [[k0_WGS_B, EA_B, b_CO_WGS_B, b_H2O_WGS_B],\n",
        "    [k0_WGS_BCC, EA_BCC, b_CO_WGS_BCC, b_H2O_WGS_BCC],\n",
        "    [k0_WGS_BMB, EA_BMB, b_CO_WGS_BMB, b_H2O_WGS_BMB]]\n",
        ")\n",
        "\n",
        "ny = np.array(\n",
        "    [[3, -1, 0, 1, -1],\n",
        "    [2, 0, 1, 0, -1],\n",
        "    [1, -1, -1, 1, 0]]\n",
        ")\n",
        "\n",
        "\n",
        "#print(MSR)\n",
        "#print(MD)\n",
        "#print(WGS)\n",
        "print(ny)"
      ],
      "metadata": {
        "id": "aW1PKqLbrM5g",
        "colab": {
          "base_uri": "https://localhost:8080/"
        },
        "outputId": "4552b9d8-5f7b-40da-f41c-6c294abcd5ab"
      },
      "execution_count": 35,
      "outputs": [
        {
          "output_type": "stream",
          "name": "stdout",
          "text": [
            "[[ 3 -1  0  1 -1]\n",
            " [ 2  0  1  0 -1]\n",
            " [ 1 -1 -1  1  0]]\n"
          ]
        }
      ]
    },
    {
      "cell_type": "markdown",
      "source": [
        "# PFTR Isotherm Stationär\n",
        "\n",
        "ODE: $\\frac{dc_x}{dz}$=$\\frac{1}{u_0}$⋅$R_x$\n",
        "\n",
        "$\\frac{dc_A}{dV}$=-$\\frac{1}{V.}$⋅$R_x$"
      ],
      "metadata": {
        "id": "ewE1wq3cizlv"
      }
    },
    {
      "cell_type": "code",
      "source": [
        "# @title Funktion der Reaktionen\n",
        "def ReakFun(t,C,T):\n",
        "  dCdt=np.zeros(len(C))\n",
        "  C_H2 = C[1]\n",
        "  C_H2O = C[2]\n",
        "  C_CO = C[3]\n",
        "  C_CO2 = C[4]\n",
        "  C_MeOH = C[5]\n",
        "\n",
        "  rMSR = np.zeros(len(MSR))\n",
        "  rMD = np.zeros(len(MD))\n",
        "  rWGS = np.zeros(len(WGS))\n",
        "\n",
        "  for i in range(len(MSR)):\n",
        "    rMSR[i] = MSR[i,0]*np.exp((-MSR[i,1]/R)*(1/T-1/T0))*C[5]**MSR[i,2]*C[2]**MSR[i,3]\n",
        "\n",
        "\n",
        "  for i in range(len(MD)):\n",
        "    rMD[i] = MD[i,0]**np.exp((-MD[i,1]/R)*(1/T-1/T0))*C[5]**MSR[i,2]\n",
        "\n",
        "\n",
        "  for i in range(len(WGS)):\n",
        "    rWGS[i] = WGS[i,0]*np.exp((-WGS[i,1]/R)*(1/T-1/T0))*C[3]**WGS[i,2]*C[2]**WGS[i,3]\n",
        "\n",
        "  dCdT[0] =\n",
        "  dCdT[1] =\n",
        "  dCdT[2] =\n",
        "  dCdT[3] =\n",
        "  dCdT[4] =\n",
        "  dCdT[5] =\n"
      ],
      "metadata": {
        "id": "8Xss_vPRFyMb"
      },
      "execution_count": null,
      "outputs": []
    },
    {
      "cell_type": "code",
      "source": [
        "# @title Euler Verfahren manuell\n",
        "V = V0\n",
        "cA = cA0\n",
        "cAtemp = cA0\n",
        "res = np.zeros((steps+1, 2))\n",
        "res[0,0] = V0\n",
        "res[0,1] = cA0\n",
        "\n",
        "for i in range(steps):\n",
        "  cA = cAtemp - (1/v)*k*cAtemp*dV\n",
        "  cAtemp = cA\n",
        "  V = V + dV\n",
        "  res[i+1,0] = V*1000\n",
        "  res[i+1,1] = cA\n",
        "\n",
        "#print(\"cA = \"+ str(cA))\n",
        "#print(\"V = \"+ str(V))\n",
        "#print(res)"
      ],
      "metadata": {
        "id": "xD4VhgB4ivsV"
      },
      "execution_count": null,
      "outputs": []
    },
    {
      "cell_type": "code",
      "source": [
        "# @title Berechnung mittels ODE-Solver\n",
        "\n",
        "Vsp = np.arange(0, Vges, dV)\n",
        "\n",
        "def dcdV(C, V):\n",
        "  cA = C\n",
        "  dCdV = -(1/v)*k*C\n",
        "  return dCdV\n",
        "\n",
        "sol = odeint(dcdV, cA0, Vsp)\n",
        "#print(sol[:,0])\n",
        "#print(Vsp)"
      ],
      "metadata": {
        "id": "bzcg-sihi4LS"
      },
      "execution_count": null,
      "outputs": []
    },
    {
      "cell_type": "code",
      "source": [
        "# @title Plots\n",
        "\n",
        "plt.plot(res[:,0],res[:,1], 'b', label='Euler')\n",
        "plt.plot(Vsp*1000, sol[:,0], 'r', label='Solver', linestyle='dashed')\n",
        "plt.axis((0, 15, 0, 2))\n",
        "plt.legend(loc='best')\n"
      ],
      "metadata": {
        "id": "BzX8r1mEi58n"
      },
      "execution_count": null,
      "outputs": []
    },
    {
      "cell_type": "code",
      "source": [
        "# @title code testing block || IGNORE\n",
        "\n",
        "H = np.array (\n",
        "    [[1, 1, 1],\n",
        "    [2, 2, 2],\n",
        "    [7, 3, 3],\n",
        "    [4, 4, 4]])\n",
        "\n",
        "Hres = np.zeros(len(H))\n",
        "\n",
        "for i in range(len(H)):\n",
        "  Hres[i] = H[i,0]*H[i,1]*H[i,2]\n",
        "\n",
        "\n",
        "#print(Hres)\n",
        "\n",
        "A = 3*10**-3\n",
        "B = 3*np.power(10,-3, dtype=float)\n",
        "\n",
        "#print(A)\n",
        "#print(B)\n",
        "\n",
        "C=np.array(\n",
        "    [[1, 2, 1, 1, 2],\n",
        "    [1, 3, 1, 1, 3]]\n",
        ")\n",
        "\n",
        "rWGS = np.zeros(len(WGS))\n",
        "rWGS2 = np.zeros(len(WGS))\n",
        "\n",
        "\n",
        "for i in range(2):\n",
        "  rWGS[i] = WGS[i,0]*np.exp((-WGS[i,1]/R)*(1/T-1/T0))*C[i, 3]**WGS[i,2]*C[i, 2]**WGS[i,3]\n",
        "  rWGS2[i] = WGS[i,0]*np.exp((-WGS[i,1]/R)*(1/T-1/T0))*np.power(C[i, 3], WGS[i,2], dtype=float)*np.power(C[i, 2], WGS[i,3], dtype=float)\n",
        "\n",
        "print(rWGS)\n",
        "print(rWGS2)"
      ],
      "metadata": {
        "colab": {
          "base_uri": "https://localhost:8080/"
        },
        "id": "i7bdVqLuFNns",
        "outputId": "730f4a6f-5cda-4c30-ee16-d3031da35f2c"
      },
      "execution_count": 46,
      "outputs": [
        {
          "output_type": "stream",
          "name": "stdout",
          "text": [
            "[3.11285971e-10 1.60670735e-09 0.00000000e+00]\n",
            "[3.11285971e-10 1.60670735e-09 0.00000000e+00]\n"
          ]
        }
      ]
    }
  ]
}