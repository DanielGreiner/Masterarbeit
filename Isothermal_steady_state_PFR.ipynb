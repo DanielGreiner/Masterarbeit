{
  "nbformat": 4,
  "nbformat_minor": 0,
  "metadata": {
    "colab": {
      "provenance": [],
      "collapsed_sections": [
        "ni76wGgCd-5X"
      ],
      "authorship_tag": "ABX9TyOO20IoCzqPiC2w46qrJ0QA",
      "include_colab_link": true
    },
    "kernelspec": {
      "name": "python3",
      "display_name": "Python 3"
    },
    "language_info": {
      "name": "python"
    }
  },
  "cells": [
    {
      "cell_type": "markdown",
      "metadata": {
        "id": "view-in-github",
        "colab_type": "text"
      },
      "source": [
        "<a href=\"https://colab.research.google.com/github/DanielGreiner/Masterarbeit/blob/main/Isothermal_steady_state_PFR.ipynb\" target=\"_parent\"><img src=\"https://colab.research.google.com/assets/colab-badge.svg\" alt=\"Open In Colab\"/></a>"
      ]
    },
    {
      "cell_type": "markdown",
      "metadata": {
        "id": "ni76wGgCd-5X"
      },
      "source": [
        "# Load libraries"
      ]
    },
    {
      "cell_type": "code",
      "source": [
        "# @title import libraries\n",
        "import tensorflow as tf\n",
        "import numpy as np\n",
        "import pandas as pd\n",
        "import matplotlib.pyplot as plt\n",
        "#import torch as to\n",
        "from scipy.integrate import odeint"
      ],
      "metadata": {
        "cellView": "form",
        "id": "FF8maq9Biilj"
      },
      "execution_count": 2,
      "outputs": []
    },
    {
      "cell_type": "code",
      "source": [
        "# @title check library versions\n",
        "print(\"tensorflow:\" + str(tf.__version__))\n",
        "print(\"numpy:\" + str(np.__version__))\n",
        "print(\"pandas:\" + str(pd.__version__))\n",
        "#print(\"torch:\" + str(to.__version__))"
      ],
      "metadata": {
        "cellView": "form",
        "id": "ye8T1D2Yijh0",
        "colab": {
          "base_uri": "https://localhost:8080/"
        },
        "outputId": "164b92fe-9563-4df6-9002-ce8773c78938"
      },
      "execution_count": 3,
      "outputs": [
        {
          "output_type": "stream",
          "name": "stdout",
          "text": [
            "tensorflow:2.13.0\n",
            "numpy:1.23.5\n",
            "pandas:1.5.3\n"
          ]
        }
      ]
    },
    {
      "cell_type": "markdown",
      "source": [
        "# Reaktionen\n",
        "\n",
        "  \\begin{array}{ccc}\n",
        "  \\text{Methanol steam reforming (MSR):}&\\kern 3pc CH_3OH_{(g)}+H_2O_{(g)}\\kern 0.5pc{\\overset{k_{1, eff}}{\\rightleftharpoons}}\\kern 0.5pc 3H_{2(g)}+CO_{2(g)}&\\kern 3pc\\Delta_r H_{m}^{o}=+49\\enspace \\frac{kJ}{mol} \\\\\n",
        "  \\text{Methanol decomposition (MD):}&\\kern 3pc CH_3OH_{(g)}\\kern 0.5pc {\\overset{k_{2, eff}}{\\rightleftharpoons}}\\kern 0.5pc 2H_{2(g)}+CO_{(g)}&\\kern 3pc\\Delta_r H_{m}^{o}=+91\\enspace \\frac{kJ}{mol} \\\\\n",
        "  \\text{Water gas shift (WGS):}&\\kern 3pc CO_{(g)}+H_2O_{(g)}\\kern 0.5pc{\\overset{k_{3, eff}}{\\rightleftharpoons}}\\kern 0.5pc H_{2(g)}+CO_{2(g)}&\\kern 3pc\\Delta_r H_{m}^{o}=-41\\enspace \\frac{kJ}{mol}\n",
        "  \\end{array}\n"
      ],
      "metadata": {
        "id": "CqJKAvaDjhMS"
      }
    },
    {
      "cell_type": "markdown",
      "source": [
        "# Code Setup"
      ],
      "metadata": {
        "id": "qoG55TJEiq5u"
      }
    },
    {
      "cell_type": "code",
      "source": [
        "# @title Reaktorkonstanten laden\n",
        "u = 1.500\n",
        "A = 3*10**-3\n",
        "v = u*A\n",
        "Vges = 0.015\n",
        "steps = 1000\n",
        "dV = Vges/steps\n",
        "z = Vges/A\n",
        "r = np.sqrt(A/np.pi)\n"
      ],
      "metadata": {
        "id": "yvl0IUgdirdT"
      },
      "execution_count": null,
      "outputs": []
    },
    {
      "cell_type": "code",
      "source": [
        "# @title Kinetikdaten laden\n",
        "\n",
        "#BiCat\n",
        "#MSR\n",
        "k0_MSR_S = 4.2*10**(-6) # kmol kg-1 h-1\n",
        "EA_MSR_S = 4.978 #kJ mol-1\n",
        "b_MeOH_MSR_S = - 0.428\n",
        "b_H2O_MSR_S = - 0.949\n",
        "\n",
        "k0_MSR_M = 2.1*10**(-6) # kmol kg-1 h-1\n",
        "k0_MSR_K = 2.7*10**(-6) # kmol kg-1 h-1\n",
        "k0_MSR_L = 3.3*10**(-6) # kmol kg-1 h-1\n",
        "\n",
        "EA_MSR_MKL = 5.566\n",
        "b_MeOH_MSR_MKL = - 0.43\n",
        "b_H2O_MSR_MKL = - 0.949\n",
        "\n",
        "MSR = np.array( [[k0_MSR_S, EA_MSR_S, b_MeOH_MSR_S, b_H2O_MSR_S], [k0_MSR_M, EA_MSR_MKL, b_MeOH_MSR_MKL, b_H2O_MSR_MKL],\n",
        "          [k0_MSR_K, EA_MSR_MKL, b_MeOH_MSR_MKL, b_H2O_MSR_MKL], [k0_MSR_L, EA_MSR_MKL, b_MeOH_MSR_MKL, b_H2O_MSR_MKL]])\n",
        "#MD\n",
        "k0_MD_S = 5.5*10**(-8) # kmol kg-1 h-1\n",
        "EA_MD_S = 42.137 #kJ mol-1\n",
        "b_MeOH_MD_S = 0.114\n",
        "\n",
        "k0_MD_M = 1.5*10**(-8) # kmol kg-1 h-1\n",
        "k0_MD_K = 3.7*10**(-8) # kmol kg-1 h-1\n",
        "k0_MD_L = 1.1*10**(-7) # kmol kg-1 h-1\n",
        "\n",
        "EA_MD_MKL = 36.771 #kJ mol-1\n",
        "b_MeOH_MD_MKL = 0.109\n",
        "\n",
        "MD = np.array ( [[k0_MD_S, EA_MD_S, b_MeOH_MD_S], [k0_MD_M, EA_MD_MKL, b_MeOH_MD_MKL], [k0_MD_K, EA_MD_MKL, b_MeOH_MD_MKL], [k0_MD_L, EA_MD_MKL, b_MeOH_MD_MKL]])\n",
        "\n",
        "#WGS\n",
        "#Benchmark = B; Benchmark-CuCl = BCC; Benchmark-MB = BMB\n",
        "\n",
        "\n",
        "k0_WGS_B = 3.1*10**(-10)\n",
        "EA_B = 104.4 #kJ mol-1\n",
        "b_CO_WGS_B = - 0.892\n",
        "b_H2O_WGS_B = - 0.135\n",
        "\n",
        "\n",
        "k0_WGS_BCC = 1.6*10**(-9)\n",
        "EA_BCC = 105.5 #kJ mol-1\n",
        "b_CO_WGS_BCC = - 0.836\n",
        "b_H2O_WGS_BCC = - 0.338\n",
        "\n",
        "k0_WGS_BMB = 2.82*10**(-10)\n",
        "EA_BMB = 78.6 #kJ mol-1\n",
        "b_CO_WGS_BMB = - 0.685\n",
        "b_H2O_WGS_BMB = - 0.268\n",
        "\n",
        "WGS = np.array([[k0_WGS_B, EA_B, b_CO_WGS_B, b_H2O_WGS_B], [k0_WGS_BCC, EA_BCC, b_CO_WGS_BCC, b_H2O_WGS_BCC], [k0_WGS_BMB, EA_BMB, b_CO_WGS_BMB, b_H2O_WGS_BMB]])\n",
        "\n",
        "print(MSR)\n",
        "print(MD)\n",
        "print(WGS)"
      ],
      "metadata": {
        "colab": {
          "base_uri": "https://localhost:8080/"
        },
        "id": "aW1PKqLbrM5g",
        "outputId": "148b8d2d-3e35-4a70-9928-5e094ea22b9c"
      },
      "execution_count": 7,
      "outputs": [
        {
          "output_type": "stream",
          "name": "stdout",
          "text": [
            "[[ 4.200e-06  4.978e+00 -4.280e-01 -9.490e-01]\n",
            " [ 2.100e-06  5.566e+00 -4.300e-01 -9.490e-01]\n",
            " [ 2.700e-06  5.566e+00 -4.300e-01 -9.490e-01]\n",
            " [ 3.300e-06  5.566e+00 -4.300e-01 -9.490e-01]]\n",
            "[[5.5000e-08 4.2137e+01 1.1400e-01]\n",
            " [1.5000e-08 3.6771e+01 1.0900e-01]\n",
            " [3.7000e-08 3.6771e+01 1.0900e-01]\n",
            " [1.1000e-07 3.6771e+01 1.0900e-01]]\n",
            "[[ 3.100e-10  1.044e+02 -8.920e-01 -1.350e-01]\n",
            " [ 1.600e-09  1.055e+02 -8.360e-01 -3.380e-01]\n",
            " [ 2.820e-10  7.860e+01 -6.850e-01 -2.680e-01]]\n",
            "-0.949\n"
          ]
        }
      ]
    },
    {
      "cell_type": "code",
      "source": [
        "# @title Startwerte\n",
        "t0 = 0\n",
        "z0 = 0\n",
        "V0 = 0\n",
        "T0 = 298\n",
        "cA0 = 2"
      ],
      "metadata": {
        "id": "NBZz_R58itm5",
        "cellView": "form"
      },
      "execution_count": null,
      "outputs": []
    },
    {
      "cell_type": "markdown",
      "source": [
        "# PFTR Isotherm Stationär\n",
        "\n",
        "ODE: $\\frac{dc_x}{dz}$=$\\frac{1}{u_0}$⋅$R_x$\n",
        "\n",
        "$\\frac{dc_A}{dV}$=-$\\frac{1}{V.}$⋅$R_x$"
      ],
      "metadata": {
        "id": "ewE1wq3cizlv"
      }
    },
    {
      "cell_type": "code",
      "source": [
        "# @title Funktion der Reaktionen\n",
        "def ReakFun(t,C,T):\n",
        "  dCdt=np.zeros(len(C))\n",
        "  C_H2 = C[1]\n",
        "  C_H2O = C[2]\n",
        "  C_CO = C[3]\n",
        "  C_CO2 = C[4]\n",
        "  C_MeOH = C[5]\n",
        "  r1eff =\n",
        "  r2eff =\n",
        "  r3eff =\n",
        "  dCdT[0] =\n",
        "  dCdT[1] =\n",
        "  dCdT[2] =\n",
        "  dCdT[3] =\n",
        "  dCdT[4] =\n",
        "  dCdT[5] =\n"
      ],
      "metadata": {
        "id": "8Xss_vPRFyMb"
      },
      "execution_count": null,
      "outputs": []
    },
    {
      "cell_type": "code",
      "source": [
        "# @title Euler Verfahren manuell\n",
        "V = V0\n",
        "cA = cA0\n",
        "cAtemp = cA0\n",
        "res = np.zeros((steps+1, 2))\n",
        "res[0,0] = V0\n",
        "res[0,1] = cA0\n",
        "\n",
        "for i in range(steps):\n",
        "  cA = cAtemp - (1/v)*k*cAtemp*dV\n",
        "  cAtemp = cA\n",
        "  V = V + dV\n",
        "  res[i+1,0] = V*1000\n",
        "  res[i+1,1] = cA\n",
        "\n",
        "#print(\"cA = \"+ str(cA))\n",
        "#print(\"V = \"+ str(V))\n",
        "#print(res)"
      ],
      "metadata": {
        "id": "xD4VhgB4ivsV"
      },
      "execution_count": null,
      "outputs": []
    },
    {
      "cell_type": "code",
      "source": [
        "# @title Berechnung mittels ODE-Solver\n",
        "\n",
        "Vsp = np.arange(0, Vges, dV)\n",
        "\n",
        "def dcdV(C, V):\n",
        "  cA = C\n",
        "  dCdV = -(1/v)*k*C\n",
        "  return dCdV\n",
        "\n",
        "sol = odeint(dcdV, cA0, Vsp)\n",
        "#print(sol[:,0])\n",
        "#print(Vsp)"
      ],
      "metadata": {
        "id": "bzcg-sihi4LS"
      },
      "execution_count": null,
      "outputs": []
    },
    {
      "cell_type": "code",
      "source": [
        "# @title Plots\n",
        "\n",
        "plt.plot(res[:,0],res[:,1], 'b', label='Euler')\n",
        "plt.plot(Vsp*1000, sol[:,0], 'r', label='Solver', linestyle='dashed')\n",
        "plt.axis((0, 15, 0, 2))\n",
        "plt.legend(loc='best')\n"
      ],
      "metadata": {
        "id": "BzX8r1mEi58n"
      },
      "execution_count": null,
      "outputs": []
    }
  ]
}