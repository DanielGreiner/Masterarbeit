{
  "nbformat": 4,
  "nbformat_minor": 0,
  "metadata": {
    "colab": {
      "provenance": [],
      "collapsed_sections": [
        "ni76wGgCd-5X"
      ],
      "authorship_tag": "ABX9TyMcUr7v/OMG4gyKgA7MapaE",
      "include_colab_link": true
    },
    "kernelspec": {
      "name": "python3",
      "display_name": "Python 3"
    },
    "language_info": {
      "name": "python"
    }
  },
  "cells": [
    {
      "cell_type": "markdown",
      "metadata": {
        "id": "view-in-github",
        "colab_type": "text"
      },
      "source": [
        "<a href=\"https://colab.research.google.com/github/DanielGreiner/Masterarbeit/blob/main/Isothermal_steady_state_PFR.ipynb\" target=\"_parent\"><img src=\"https://colab.research.google.com/assets/colab-badge.svg\" alt=\"Open In Colab\"/></a>"
      ]
    },
    {
      "cell_type": "markdown",
      "metadata": {
        "id": "ni76wGgCd-5X"
      },
      "source": [
        "# Load libraries"
      ]
    },
    {
      "cell_type": "code",
      "source": [
        "# @title import libraries\n",
        "import tensorflow as tf\n",
        "import numpy as np\n",
        "import pandas as pd\n",
        "import matplotlib.pyplot as plt\n",
        "#import torch as to\n",
        "from scipy.integrate import odeint"
      ],
      "metadata": {
        "cellView": "form",
        "id": "FF8maq9Biilj"
      },
      "execution_count": 233,
      "outputs": []
    },
    {
      "cell_type": "code",
      "source": [
        "# @title check library versions\n",
        "print(\"tensorflow:\" + str(tf.__version__))\n",
        "print(\"numpy:\" + str(np.__version__))\n",
        "print(\"pandas:\" + str(pd.__version__))\n",
        "#print(\"torch:\" + str(to.__version__))"
      ],
      "metadata": {
        "cellView": "form",
        "id": "ye8T1D2Yijh0",
        "colab": {
          "base_uri": "https://localhost:8080/"
        },
        "outputId": "c95d45c8-5293-49b5-cc56-fd5f5a671f28"
      },
      "execution_count": 234,
      "outputs": [
        {
          "output_type": "stream",
          "name": "stdout",
          "text": [
            "tensorflow:2.13.0\n",
            "numpy:1.23.5\n",
            "pandas:1.5.3\n"
          ]
        }
      ]
    },
    {
      "cell_type": "markdown",
      "source": [
        "# Reaktionen\n",
        "\n",
        "  \\begin{array}{lll}\n",
        "  \\text{Methanol steam reforming (MSR):}&\\kern 3pc CH_3OH_{(g)}+H_2O_{(g)}\\kern 0.5pc{\\overset{k_{1, eff}}{\\rightleftharpoons}}\\kern 0.5pc 3H_{2(g)}+CO_{2(g)}&\\kern 3pc\\Delta_r H_{m}^{o}=+49\\enspace \\frac{kJ}{mol} \\\\\n",
        "  \\text{Methanol decomposition (MD):}&\\kern 3pc CH_3OH_{(g)}\\kern 0.5pc {\\overset{k_{2, eff}}{\\rightleftharpoons}}\\kern 0.5pc 2H_{2(g)}+CO_{(g)}&\\kern 3pc\\Delta_r H_{m}^{o}=+91\\enspace \\frac{kJ}{mol} \\\\\n",
        "  \\text{Water gas shift (WGS):}&\\kern 3pc CO_{(g)}+H_2O_{(g)}\\kern 0.5pc{\\overset{k_{3, eff}}{\\rightleftharpoons}}\\kern 0.5pc H_{2(g)}+CO_{2(g)}&\\kern 3pc\\Delta_r H_{m}^{o}=-41\\enspace \\frac{kJ}{mol}\n",
        "  \\end{array}\n"
      ],
      "metadata": {
        "id": "CqJKAvaDjhMS"
      }
    },
    {
      "cell_type": "markdown",
      "source": [
        "#Indexing in arrays\n",
        "\n",
        "\\begin{array}{lllll}\n",
        "H_2 & H_2O & CO & CO_2 & CH_3OH \\\\\n",
        "0 & 1 & 2 & 3 & 4 \\\\\n",
        "\\end{array}"
      ],
      "metadata": {
        "id": "IzTI73zHjPUx"
      }
    },
    {
      "cell_type": "code",
      "source": [
        "# @title Reaktorkonstanten laden\n",
        "u = 1.500\n",
        "A = 3*10**-3\n",
        "v = u*A\n",
        "Vges = 50\n",
        "V0 = 0\n",
        "steps = 1000\n",
        "dV = (Vges-V0)/steps\n",
        "Vspan = np.arange(V0, Vges+dV/2, dV)\n",
        "z = Vges/A\n",
        "r = np.sqrt(A/np.pi)\n",
        "\n",
        "T0 = 273\n",
        "\n",
        "# print(steps)\n",
        "# print(Vspan)"
      ],
      "metadata": {
        "id": "yvl0IUgdirdT"
      },
      "execution_count": 235,
      "outputs": []
    },
    {
      "cell_type": "code",
      "source": [
        "# @title Startwerte\n",
        "\n",
        "C0_H2 = 0\n",
        "C0_H2O = 0.5\n",
        "C0_CO = 0.1\n",
        "C0_CO2 = 0\n",
        "C0_MeOH = 0.5\n",
        "\n",
        "IC = np.array([C0_H2, C0_H2O, C0_CO, C0_CO2, C0_MeOH])"
      ],
      "metadata": {
        "id": "NBZz_R58itm5"
      },
      "execution_count": 236,
      "outputs": []
    },
    {
      "cell_type": "code",
      "source": [
        "# @title Kinetikdaten laden\n",
        "\n",
        "R = 8.314 #J mol-1 K-1\n",
        "\n",
        "#BiCat\n",
        "#MSR\n",
        "k0_MSR_S = 4.2*10**(-6) # kmol kg-1 h-1\n",
        "EA_MSR_S = 4.978*1000 #J mol-1\n",
        "b_MeOH_MSR_S = - 0.428\n",
        "b_H2O_MSR_S = - 0.949\n",
        "\n",
        "k0_MSR_M = 2.1*10**(-6) # kmol kg-1 h-1\n",
        "k0_MSR_K = 2.7*10**(-6) # kmol kg-1 h-1\n",
        "k0_MSR_L = 3.3*10**(-6) # kmol kg-1 h-1\n",
        "\n",
        "EA_MSR_MKL = 5.566*1000 #J mol-1\n",
        "b_MeOH_MSR_MKL = - 0.43\n",
        "b_H2O_MSR_MKL = - 0.949\n",
        "\n",
        "MSR = np.array(\n",
        "    [[k0_MSR_S, EA_MSR_S, b_MeOH_MSR_S, b_H2O_MSR_S],\n",
        "    [k0_MSR_M, EA_MSR_MKL, b_MeOH_MSR_MKL, b_H2O_MSR_MKL],\n",
        "    [k0_MSR_K, EA_MSR_MKL, b_MeOH_MSR_MKL, b_H2O_MSR_MKL],\n",
        "    [k0_MSR_L, EA_MSR_MKL, b_MeOH_MSR_MKL, b_H2O_MSR_MKL]]\n",
        ")\n",
        "\n",
        "#MD\n",
        "k0_MD_S = 5.5*10**(-8) # kmol kg-1 h-1\n",
        "EA_MD_S = 42.137*1000 #J mol-1\n",
        "b_MeOH_MD_S = 0.114\n",
        "\n",
        "k0_MD_M = 1.5*10**(-8) # kmol kg-1 h-1\n",
        "k0_MD_K = 3.7*10**(-8) # kmol kg-1 h-1\n",
        "k0_MD_L = 1.1*10**(-7) # kmol kg-1 h-1\n",
        "\n",
        "EA_MD_MKL = 36.771*1000 #J mol-1\n",
        "b_MeOH_MD_MKL = 0.109\n",
        "\n",
        "MD = np.array (\n",
        "    [[k0_MD_S, EA_MD_S, b_MeOH_MD_S],\n",
        "    [k0_MD_M, EA_MD_MKL, b_MeOH_MD_MKL],\n",
        "    [k0_MD_K, EA_MD_MKL, b_MeOH_MD_MKL],\n",
        "    [k0_MD_L, EA_MD_MKL, b_MeOH_MD_MKL]]\n",
        ")\n",
        "\n",
        "#WGS\n",
        "#Benchmark = B; Benchmark-CuCl = BCC; Benchmark-MB = BMB\n",
        "\n",
        "\n",
        "k0_WGS_B = 3.1*10**(-10)\n",
        "EA_B = 104.4*1000 #J mol-1\n",
        "b_CO_WGS_B = - 0.892\n",
        "b_H2O_WGS_B = - 0.135\n",
        "\n",
        "\n",
        "k0_WGS_BCC = 1.6*10**(-9)\n",
        "EA_BCC = 105.5*1000 #J mol-1\n",
        "b_CO_WGS_BCC = - 0.836\n",
        "b_H2O_WGS_BCC = - 0.338\n",
        "\n",
        "k0_WGS_BMB = 2.82*10**(-10)\n",
        "EA_BMB = 78.6*1000 #J mol-1\n",
        "b_CO_WGS_BMB = - 0.685\n",
        "b_H2O_WGS_BMB = - 0.268\n",
        "\n",
        "WGS = np.array(\n",
        "    [[k0_WGS_B, EA_B, b_CO_WGS_B, b_H2O_WGS_B],\n",
        "    [k0_WGS_BCC, EA_BCC, b_CO_WGS_BCC, b_H2O_WGS_BCC],\n",
        "    [k0_WGS_BMB, EA_BMB, b_CO_WGS_BMB, b_H2O_WGS_BMB]]\n",
        ")\n",
        "\n",
        "ny = np.array(\n",
        "    [[3, -1, 0, 1, -1],\n",
        "    [2, 0, 1, 0, -1],\n",
        "    [1, -1, -1, 1, 0]]\n",
        ")\n",
        "\n",
        "\n",
        "#print(MSR)\n",
        "#print(MD)\n",
        "#print(WGS)\n",
        "#print(ny)"
      ],
      "metadata": {
        "id": "aW1PKqLbrM5g"
      },
      "execution_count": 237,
      "outputs": []
    },
    {
      "cell_type": "markdown",
      "source": [
        "# PFTR Isotherm Stationär\n",
        "\n",
        "ODE: $\\frac{dc_x}{dz}$=$\\frac{1}{u_0}$⋅$R_x$\n",
        "\n",
        "$\\frac{dc_A}{dV}$=-$\\frac{1}{V.}$⋅$R_x$"
      ],
      "metadata": {
        "id": "ewE1wq3cizlv"
      }
    },
    {
      "cell_type": "code",
      "source": [
        "# @title Funktion der Reaktionen\n",
        "def ReakFunFull(V, C, T, MSRind, MDind, WGSind):\n",
        "  dC=np.zeros(len(C))\n",
        "  C_H2 = C[0]\n",
        "  C_H2O = C[1]\n",
        "  C_CO = C[2]\n",
        "  C_CO2 = C[3]\n",
        "  C_MeOH = C[4]\n",
        "\n",
        "  rMSR = np.zeros(len(MSR))\n",
        "  rMD = np.zeros(len(MD))\n",
        "  rWGS = np.zeros(len(WGS))\n",
        "\n",
        "  for i in range(len(MSR)):\n",
        "    rMSR[i] = MSR[i,0]*np.exp((-MSR[i,1]/R)*(1/T-1/T0), dtype=float)\n",
        "    rMSR[i] *= np.power(C_MeOH, MSR[i,2], dtype=float) * np.power(C_H2O, MSR[i,3], dtype=float)\n",
        "\n",
        "\n",
        "  for i in range(len(MD)):\n",
        "    rMD[i] = MD[i,0]*np.exp((-MD[i,1]/R)*(1/T-1/T0), dtype=float)\n",
        "    rMD[i] *= np.power(C_MeOH, MD[i,2], dtype=float)\n",
        "\n",
        "  if C_CO > 0:\n",
        "   for i in range(len(WGS)):\n",
        "    rWGS[i] = WGS[i,0]*np.exp((-WGS[i,1]/R)*(1/T-1/T0), dtype=float)\n",
        "    rWGS[i] *= np.power(C_CO, WGS[i,2], dtype=float) * np.power(C_H2O, WGS[i,3], dtype=float)\n",
        "\n",
        "  dC[0] = 1/v*(rMSR[MSRind]*ny[0, 0] + rMD[MDind]*ny[1, 0] + rWGS[WGSind]*ny[2, 0])*dV\n",
        "  dC[1] = 1/v*(rMSR[MSRind]*ny[0, 1] + rMD[MDind]*ny[1, 1] + rWGS[WGSind]*ny[2, 1])*dV\n",
        "  dC[2] = 1/v*(rMSR[MSRind]*ny[0, 2] + rMD[MDind]*ny[1, 2] + rWGS[WGSind]*ny[2, 2])*dV\n",
        "  dC[3] = 1/v*(rMSR[MSRind]*ny[0, 3] + rMD[MDind]*ny[1, 3] + rWGS[WGSind]*ny[2, 3])*dV\n",
        "  dC[4] = 1/v*(rMSR[MSRind]*ny[0, 4] + rMD[MDind]*ny[1, 4] + rWGS[WGSind]*ny[2, 4])*dV\n",
        "\n",
        "  return dC\n",
        "\n",
        "# def ReakFunMSRMD (V, C, T, MSRind, MDind):\n",
        "#   dC=np.zeros(len(C))\n",
        "#   C_H2 = C[0]\n",
        "#   C_H2O = C[1]\n",
        "#   C_CO = C[2]\n",
        "#   C_CO2 = C[3]\n",
        "#   C_MeOH = C[4]\n",
        "\n",
        "#   rMSR = np.zeros(len(MSR))\n",
        "#   rMD = np.zeros(len(MD))\n",
        "\n",
        "#   for i in range(len(MSR)):\n",
        "#     rMSR[i] = MSR[i,0]*np.exp((-MSR[i,1]/R)*(1/T-1/T0), dtype=float)\n",
        "#     rMSR[i] *= np.power(C_MeOH, MSR[i,2], dtype=float) * np.power(C_H2O, MSR[i,3], dtype=float)\n",
        "\n",
        "\n",
        "#   for i in range(len(MD)):\n",
        "#     rMD[i] = MD[i,0]**np.exp((-MD[i,1]/R)*(1/T-1/T0), dtype=float)\n",
        "#     rMD[i] *= np.power(C_MeOH, MSR[i,2], dtype=float)\n",
        "\n",
        "#   dC[0] = 1/v*(rMSR[MSRind]*ny[0, 0] + rMD[MDind]*ny[1, 0])*dV\n",
        "#   dC[1] = 1/v*(rMSR[MSRind]*ny[0, 1] + rMD[MDind]*ny[1, 1])*dV\n",
        "#   dC[2] = 1/v*(rMSR[MSRind]*ny[0, 2] + rMD[MDind]*ny[1, 2])*dV\n",
        "#   dC[3] = 1/v*(rMSR[MSRind]*ny[0, 3] + rMD[MDind]*ny[1, 3])*dV\n",
        "#   dC[4] = 1/v*(rMSR[MSRind]*ny[0, 4] + rMD[MDind]*ny[1, 4])*dV\n",
        "\n",
        "#   return dC\n"
      ],
      "metadata": {
        "id": "8Xss_vPRFyMb"
      },
      "execution_count": 238,
      "outputs": []
    },
    {
      "cell_type": "code",
      "source": [
        "# @title Euler Verfahren Funktion\n",
        "def EulFunFull (y, T):\n",
        "  ytemp = np.zeros([len(Vspan), len(IC)])\n",
        "  ytemp[0,:] = IC\n",
        "\n",
        "  for i in range(steps):\n",
        "    V = Vspan[i]\n",
        "    y = np.transpose(ytemp[i, :])\n",
        "    dy = ReakFunFull(V, y, T, 0, 0, 0)\n",
        "    ytemp[i+1, :] = y + dy\n",
        "\n",
        "  return ytemp\n",
        "\n",
        "# def EulFunMSRMD (y, T):\n",
        "#   ytemp = np.zeros([len(Vspan), len(IC)])\n",
        "#   ytemp[0,:] = IC\n",
        "\n",
        "#   for i in range(steps):\n",
        "#     V = Vspan[i]\n",
        "#     y = np.transpose(ytemp[i, :])\n",
        "#     dy = ReakFunMSRMD(V, y, T, 0, 0)\n",
        "#     ytemp[i+1, :] = y + dy\n",
        "\n",
        "#   return ytemp\n"
      ],
      "metadata": {
        "id": "xD4VhgB4ivsV"
      },
      "execution_count": 239,
      "outputs": []
    },
    {
      "cell_type": "code",
      "source": [
        "# @title Berechnung mittels ODE-Solver\n",
        "\n",
        "# Vsp = np.arange(0, Vges, dV)\n",
        "\n",
        "# def dcdV(C, V):\n",
        "#   cA = C\n",
        "#   dCdV = -(1/v)*k*C\n",
        "#   return dCdV\n",
        "\n",
        "# sol = odeint(dcdV, cA0, Vsp)\n",
        "\n",
        "#print(sol[:,0])\n",
        "#print(Vsp)\n"
      ],
      "metadata": {
        "id": "bzcg-sihi4LS"
      },
      "execution_count": 240,
      "outputs": []
    },
    {
      "cell_type": "code",
      "source": [
        "# @title main\n",
        "\n",
        "T = 323\n",
        "\n",
        "Conc = EulFunFull(IC, T)\n",
        "print(Conc)\n",
        "\n",
        "# ConcMSRMD = EulFunMSRMD(IC, T)\n",
        "# print(ConcMSRMD)"
      ],
      "metadata": {
        "id": "d0ve5884jBvk",
        "colab": {
          "base_uri": "https://localhost:8080/"
        },
        "outputId": "b41d38a4-b430-4ca0-a4f4-e7fe862660ac"
      },
      "execution_count": 241,
      "outputs": [
        {
          "output_type": "stream",
          "name": "stdout",
          "text": [
            "[[0.00000000e+00 5.00000000e-01 1.00000000e-01 0.00000000e+00\n",
            "  5.00000000e-01]\n",
            " [5.67087699e-04 4.99793316e-01 9.99735182e-02 2.06683747e-04\n",
            "  4.99819798e-01]\n",
            " [1.13446443e-03 4.99586529e-01 9.99470254e-02 4.13471217e-04\n",
            "  4.99639503e-01]\n",
            " ...\n",
            " [9.23808495e-01 1.68334406e-01 6.44058567e-02 3.31665594e-01\n",
            "  2.03928550e-01]\n",
            " [9.25995211e-01 1.67569810e-01 6.43523204e-02 3.32430190e-01\n",
            "  2.03217489e-01]\n",
            " [9.28194289e-01 1.66801034e-01 6.42986957e-02 3.33198966e-01\n",
            "  2.02502338e-01]]\n"
          ]
        }
      ]
    },
    {
      "cell_type": "code",
      "source": [
        "# @title Plots\n",
        "plt.figure(1)\n",
        "plt.plot(Vspan, Conc[:,0], label='H2')\n",
        "plt.plot(Vspan, Conc[:,1], label='H2O')\n",
        "plt.plot(Vspan, Conc[:,2], label='CO')\n",
        "plt.plot(Vspan, Conc[:,3], label='CO2')\n",
        "plt.plot(Vspan, Conc[:,4], label='MeOH')\n",
        "\n",
        "#plt.axis((0, 15, 0, 2.01))\n",
        "plt.legend(loc='best')\n",
        "\n",
        "# plt.figure(2)\n",
        "# plt.plot(Vspan, ConcMSRMD[:,0], label='H2')\n",
        "# plt.plot(Vspan, ConcMSRMD[:,1], label='H2O')\n",
        "# plt.plot(Vspan, ConcMSRMD[:,2], label='CO')\n",
        "# plt.plot(Vspan, ConcMSRMD[:,3], label='CO2')\n",
        "# plt.plot(Vspan, ConcMSRMD[:,4], label='MeOH')\n",
        "\n",
        "# #plt.axis((0, 15, 0, 2.01))\n",
        "# plt.legend(loc='best')\n"
      ],
      "metadata": {
        "id": "BzX8r1mEi58n",
        "colab": {
          "base_uri": "https://localhost:8080/",
          "height": 447
        },
        "outputId": "ca1f64c4-e051-45f0-8683-65df53a881d6"
      },
      "execution_count": 242,
      "outputs": [
        {
          "output_type": "execute_result",
          "data": {
            "text/plain": [
              "<matplotlib.legend.Legend at 0x7bdf8d37f730>"
            ]
          },
          "metadata": {},
          "execution_count": 242
        },
        {
          "output_type": "display_data",
          "data": {
            "text/plain": [
              "<Figure size 640x480 with 1 Axes>"
            ],
            "image/png": "[encoded data removed]"
          },
          "metadata": {}
        }
      ]
    },
    {
      "cell_type": "code",
      "source": [
        "# @title code testing block || IGNORE\n",
        "\n",
        "#H = np.array (\n",
        "#    [[1, 1, 1],\n",
        "#    [2, 2, 2],\n",
        "#    [7, 3, 3],\n",
        "#    [4, 4, 4]])\n",
        "\n",
        "#Hres = np.zeros(len(H))\n",
        "\n",
        "#for i in range(len(H)):\n",
        "#  Hres[i] = H[i,0]*H[i,1]*H[i,2]\n",
        "\n",
        "\n",
        "#print(Hres)\n",
        "\n",
        "#A = 3*10**-3\n",
        "#B = 3*np.power(10,-3, dtype=float)\n",
        "\n",
        "#print(A)\n",
        "#print(B)\n",
        "\n",
        "#C=np.array(\n",
        "#    [[1, 2, 1, 1, 2],\n",
        "#    [1, 3, 1, 1, 3]]\n",
        "#)\n",
        "\n",
        "#rWGS = np.zeros(2)\n",
        "#rWGS2 = np.zeros(2)\n",
        "\n",
        "\n",
        "#for i in range(2):\n",
        "#  rWGS[i] = WGS[i,0]*np.exp((-WGS[i,1]/R)*(1/T-1/T0))*C[i, 3]**WGS[i,2]*C[i, 2]**WGS[i,3]\n",
        "#  rWGS2[i] = WGS[i,0]*np.exp((-WGS[i,1]/R)*(1/T-1/T0))*np.power(C[i, 3], WGS[i,2], dtype=float)*np.power(C[i, 2], WGS[i,3], dtype=float)\n",
        "\n",
        "#print(rWGS)\n",
        "#print(rWGS2)\n",
        "\n",
        "#m = np.array([[5, 10]])\n",
        "#c = np.array([[1, 2], [3, 4]])\n",
        "\n",
        "#huh = np.multiply(rWGS[0], ny[:, 0])\n",
        "#huh2 = rWGS[0]*ny[:,0]\n",
        "#print(huh)\n",
        "#print(huh2)\n",
        "\n",
        "#ReakFun test\n",
        "# ReakFun(t, C, T, MSRind, MDind, WGSind)\n",
        "#pls = ReakFun(0, IC, 300, 0, 0, 0)\n",
        "#print(pls)\n",
        "\n",
        "#np.transpose test\n",
        "#ktemp = np.zeros([10, 3])\n",
        "#ktemp[0,:] = 1\n",
        "#k = np.transpose(ktemp[1, :])\n",
        "#print(ktemp)\n",
        "#print(k)\n"
      ],
      "metadata": {
        "id": "i7bdVqLuFNns",
        "cellView": "form"
      },
      "execution_count": 243,
      "outputs": []
    }
  ]
}