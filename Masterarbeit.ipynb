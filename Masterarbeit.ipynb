{
  "nbformat": 4,
  "nbformat_minor": 0,
  "metadata": {
    "colab": {
      "provenance": [],
      "collapsed_sections": [
        "ni76wGgCd-5X"
      ],
      "toc_visible": true,
      "authorship_tag": "ABX9TyMLGOAzqkYxlX4HdhuKw/Mx",
      "include_colab_link": true
    },
    "kernelspec": {
      "name": "python3",
      "display_name": "Python 3"
    },
    "language_info": {
      "name": "python"
    }
  },
  "cells": [
    {
      "cell_type": "markdown",
      "metadata": {
        "id": "view-in-github",
        "colab_type": "text"
      },
      "source": [
        "<a href=\"https://colab.research.google.com/github/DanielGreiner/Masterarbeit/blob/main/Masterarbeit.ipynb\" target=\"_parent\"><img src=\"https://colab.research.google.com/assets/colab-badge.svg\" alt=\"Open In Colab\"/></a>"
      ]
    },
    {
      "cell_type": "markdown",
      "source": [
        "Text"
      ],
      "metadata": {
        "id": "FKUQE4ZPdoXO"
      }
    },
    {
      "cell_type": "markdown",
      "source": [
        "# Introcode\n",
        "\n"
      ],
      "metadata": {
        "id": "lKN3jiBsdvnU"
      }
    },
    {
      "cell_type": "markdown",
      "source": [
        "# Load libraries"
      ],
      "metadata": {
        "id": "ni76wGgCd-5X"
      }
    },
    {
      "cell_type": "code",
      "source": [
        "import tensorflow as tf\n",
        "import numpy as np\n",
        "import pandas as pd\n",
        "import matplotlib.pyplot as plt\n",
        "import torch"
      ],
      "metadata": {
        "id": "COex01B2eGmp"
      },
      "execution_count": 3,
      "outputs": []
    },
    {
      "cell_type": "code",
      "source": [
        "# @title check library versions\n",
        "print(\"tensorflow:\" + str(tf.__version__))\n",
        "print(\"numpy:\" + str(np.__version__))\n",
        "print(\"pandas:\" + str(pd.__version__))"
      ],
      "metadata": {
        "colab": {
          "base_uri": "https://localhost:8080/"
        },
        "cellView": "form",
        "id": "QHMm8oXoO_jf",
        "outputId": "a3f5656f-6812-4709-9e8e-99c8354b1f80"
      },
      "execution_count": 4,
      "outputs": [
        {
          "output_type": "stream",
          "name": "stdout",
          "text": [
            "tensorflow:2.12.0\n",
            "numpy:1.23.5\n",
            "pandas:1.5.3\n"
          ]
        }
      ]
    },
    {
      "cell_type": "markdown",
      "source": [
        "# Code Setup"
      ],
      "metadata": {
        "id": "1EaGuJMCeMJ1"
      }
    },
    {
      "cell_type": "code",
      "source": [
        "# @title Konstanten laden\n",
        "k = 0.001"
      ],
      "metadata": {
        "cellView": "form",
        "id": "KQh_vMv_PPaB"
      },
      "execution_count": 5,
      "outputs": []
    },
    {
      "cell_type": "code",
      "source": [
        "# @title Startwerte\n",
        "t0 = 0\n",
        "z0 = 0\n",
        "V0 = 0\n",
        "T0 = 298"
      ],
      "metadata": {
        "cellView": "form",
        "id": "qz7WCivCPTGQ"
      },
      "execution_count": 6,
      "outputs": []
    },
    {
      "cell_type": "markdown",
      "source": [
        "# PFTR Isotherm Stationär\n",
        "\n",
        "ODE: $\\frac{dc_A}{d_z}$=k⋅$c_{A}$\n"
      ],
      "metadata": {
        "id": "iUHMY50oLtj1"
      }
    },
    {
      "cell_type": "code",
      "source": [],
      "metadata": {
        "id": "gvXI4bty70Ft"
      },
      "execution_count": null,
      "outputs": []
    }
  ]
}