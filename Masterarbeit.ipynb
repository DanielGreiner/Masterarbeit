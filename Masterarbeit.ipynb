{
  "nbformat": 4,
  "nbformat_minor": 0,
  "metadata": {
    "colab": {
      "provenance": [],
      "authorship_tag": "ABX9TyOTKm0nFxOzshn9wGBiwvJS",
      "include_colab_link": true
    },
    "kernelspec": {
      "name": "python3",
      "display_name": "Python 3"
    },
    "language_info": {
      "name": "python"
    }
  },
  "cells": [
    {
      "cell_type": "markdown",
      "metadata": {
        "id": "view-in-github",
        "colab_type": "text"
      },
      "source": [
        "<a href=\"https://colab.research.google.com/github/DanielGreiner/Masterarbeit/blob/main/Masterarbeit.ipynb\" target=\"_parent\"><img src=\"https://colab.research.google.com/assets/colab-badge.svg\" alt=\"Open In Colab\"/></a>"
      ]
    },
    {
      "cell_type": "markdown",
      "source": [
        "Text"
      ],
      "metadata": {
        "id": "FKUQE4ZPdoXO"
      }
    },
    {
      "cell_type": "markdown",
      "source": [
        "# Introcode\n",
        "\n"
      ],
      "metadata": {
        "id": "lKN3jiBsdvnU"
      }
    },
    {
      "cell_type": "markdown",
      "source": [
        "# Load libraries"
      ],
      "metadata": {
        "id": "ni76wGgCd-5X"
      }
    },
    {
      "cell_type": "code",
      "source": [
        "import tensorflow as tf\n",
        "import numpy as np\n",
        "import pandas as pd\n",
        "import matplotlib.pyplot as plt\n",
        "import torch"
      ],
      "metadata": {
        "id": "COex01B2eGmp"
      },
      "execution_count": 12,
      "outputs": []
    },
    {
      "cell_type": "markdown",
      "source": [
        "# Codeabschnitt"
      ],
      "metadata": {
        "id": "1EaGuJMCeMJ1"
      }
    },
    {
      "cell_type": "code",
      "source": [
        "# @title check library versions\n",
        "print(\"tensorflow:\" + str(tf.__version__))\n",
        "print(\"numpy:\" + str(np.__version__))\n",
        "print(\"pandas:\" + str(pd.__version__))\n"
      ],
      "metadata": {
        "id": "ueW7UMFweO2h",
        "colab": {
          "base_uri": "https://localhost:8080/"
        },
        "cellView": "form",
        "outputId": "593df35d-7d1a-46af-be6d-82f78928c541"
      },
      "execution_count": 15,
      "outputs": [
        {
          "output_type": "stream",
          "name": "stdout",
          "text": [
            "tensorflow:2.12.0\n",
            "numpy:1.23.5\n",
            "pandas:1.5.3\n"
          ]
        }
      ]
    }
  ]
}